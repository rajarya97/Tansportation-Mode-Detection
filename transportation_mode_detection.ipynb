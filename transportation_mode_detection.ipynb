{
  "nbformat": 4,
  "nbformat_minor": 0,
  "metadata": {
    "colab": {
      "name": "transportation_mode_detection.ipynb",
      "provenance": [],
      "collapsed_sections": [],
      "mount_file_id": "1jla1P1020Wzfk1R6-gb-Zcf-P80J6bJH",
      "authorship_tag": "ABX9TyO0hfGNCDG8rY6c2IsQonT2",
      "include_colab_link": true
    },
    "kernelspec": {
      "name": "python3",
      "display_name": "Python 3"
    },
    "language_info": {
      "name": "python"
    }
  },
  "cells": [
    {
      "cell_type": "markdown",
      "metadata": {
        "id": "view-in-github",
        "colab_type": "text"
      },
      "source": [
        "<a href=\"https://colab.research.google.com/github/rajarya97/ANN_sol/blob/main/transportation_mode_detection.ipynb\" target=\"_parent\"><img src=\"https://colab.research.google.com/assets/colab-badge.svg\" alt=\"Open In Colab\"/></a>"
      ]
    },
    {
      "cell_type": "code",
      "execution_count": 2,
      "metadata": {
        "id": "mgFo69YqRRAl"
      },
      "outputs": [],
      "source": [
        "import numpy as np\n",
        "import matplotlib.pyplot as plt\n",
        "import os\n",
        "import pandas as pd\n",
        "import cv2\n",
        "import glob\n",
        "from skimage import io\n",
        "from skimage.feature import greycomatrix, greycoprops\n",
        "from sklearn.model_selection import train_test_split\n",
        "import io"
      ]
    },
    {
      "cell_type": "code",
      "source": [
        "from google.colab import drive\n",
        "drive.mount('/content/drive')"
      ],
      "metadata": {
        "colab": {
          "base_uri": "https://localhost:8080/"
        },
        "id": "0rLoMS8FRlXQ",
        "outputId": "ce852099-bb85-4e14-8ad5-4e278ce26eb9"
      },
      "execution_count": 3,
      "outputs": [
        {
          "output_type": "stream",
          "name": "stdout",
          "text": [
            "Drive already mounted at /content/drive; to attempt to forcibly remount, call drive.mount(\"/content/drive\", force_remount=True).\n"
          ]
        }
      ]
    },
    {
      "cell_type": "code",
      "source": [
        "data_path = '/content/drive/MyDrive/transportation_mode_detection/cleaned.csv'"
      ],
      "metadata": {
        "id": "2vdvNzSxRnS9"
      },
      "execution_count": 4,
      "outputs": []
    },
    {
      "cell_type": "code",
      "source": [
        "df1 = pd.read_csv('/content/drive/MyDrive/transportation_mode_detection/cleaned.csv')"
      ],
      "metadata": {
        "id": "Me9HCHfxSvum"
      },
      "execution_count": 106,
      "outputs": []
    },
    {
      "cell_type": "markdown",
      "source": [
        "##Q.1 DATA READING"
      ],
      "metadata": {
        "id": "3N5P5QPFP2p6"
      }
    },
    {
      "cell_type": "code",
      "source": [
        "df1.head()"
      ],
      "metadata": {
        "colab": {
          "base_uri": "https://localhost:8080/",
          "height": 206
        },
        "id": "xzgvja2FSvrN",
        "outputId": "bb8bb03a-87ea-4afe-8908-82a8249b74a5"
      },
      "execution_count": 107,
      "outputs": [
        {
          "output_type": "execute_result",
          "data": {
            "text/html": [
              "\n",
              "  <div id=\"df-904a2feb-5ce2-48c6-96f0-c6ca1c9f5976\">\n",
              "    <div class=\"colab-df-container\">\n",
              "      <div>\n",
              "<style scoped>\n",
              "    .dataframe tbody tr th:only-of-type {\n",
              "        vertical-align: middle;\n",
              "    }\n",
              "\n",
              "    .dataframe tbody tr th {\n",
              "        vertical-align: top;\n",
              "    }\n",
              "\n",
              "    .dataframe thead th {\n",
              "        text-align: right;\n",
              "    }\n",
              "</style>\n",
              "<table border=\"1\" class=\"dataframe\">\n",
              "  <thead>\n",
              "    <tr style=\"text-align: right;\">\n",
              "      <th></th>\n",
              "      <th>user</th>\n",
              "      <th>timestamp</th>\n",
              "      <th>x</th>\n",
              "      <th>y</th>\n",
              "      <th>z</th>\n",
              "      <th>class</th>\n",
              "    </tr>\n",
              "  </thead>\n",
              "  <tbody>\n",
              "    <tr>\n",
              "      <th>0</th>\n",
              "      <td>a2d80ed662f34d32951eb1c6ed076c313e358b73</td>\n",
              "      <td>2018-06-04 16:26:55.053</td>\n",
              "      <td>0.78</td>\n",
              "      <td>-9.13</td>\n",
              "      <td>-3.74</td>\n",
              "      <td>bus</td>\n",
              "    </tr>\n",
              "    <tr>\n",
              "      <th>1</th>\n",
              "      <td>a2d80ed662f34d32951eb1c6ed076c313e358b73</td>\n",
              "      <td>2018-06-04 16:26:55.111</td>\n",
              "      <td>0.79</td>\n",
              "      <td>-9.11</td>\n",
              "      <td>-3.75</td>\n",
              "      <td>bus</td>\n",
              "    </tr>\n",
              "    <tr>\n",
              "      <th>2</th>\n",
              "      <td>a2d80ed662f34d32951eb1c6ed076c313e358b73</td>\n",
              "      <td>2018-06-04 16:26:55.169</td>\n",
              "      <td>0.80</td>\n",
              "      <td>-9.12</td>\n",
              "      <td>-3.75</td>\n",
              "      <td>bus</td>\n",
              "    </tr>\n",
              "    <tr>\n",
              "      <th>3</th>\n",
              "      <td>a2d80ed662f34d32951eb1c6ed076c313e358b73</td>\n",
              "      <td>2018-06-04 16:26:55.228</td>\n",
              "      <td>0.78</td>\n",
              "      <td>-9.14</td>\n",
              "      <td>-3.76</td>\n",
              "      <td>bus</td>\n",
              "    </tr>\n",
              "    <tr>\n",
              "      <th>4</th>\n",
              "      <td>a2d80ed662f34d32951eb1c6ed076c313e358b73</td>\n",
              "      <td>2018-06-04 16:26:55.286</td>\n",
              "      <td>0.83</td>\n",
              "      <td>-9.12</td>\n",
              "      <td>-3.80</td>\n",
              "      <td>bus</td>\n",
              "    </tr>\n",
              "  </tbody>\n",
              "</table>\n",
              "</div>\n",
              "      <button class=\"colab-df-convert\" onclick=\"convertToInteractive('df-904a2feb-5ce2-48c6-96f0-c6ca1c9f5976')\"\n",
              "              title=\"Convert this dataframe to an interactive table.\"\n",
              "              style=\"display:none;\">\n",
              "        \n",
              "  <svg xmlns=\"http://www.w3.org/2000/svg\" height=\"24px\"viewBox=\"0 0 24 24\"\n",
              "       width=\"24px\">\n",
              "    <path d=\"M0 0h24v24H0V0z\" fill=\"none\"/>\n",
              "    <path d=\"M18.56 5.44l.94 2.06.94-2.06 2.06-.94-2.06-.94-.94-2.06-.94 2.06-2.06.94zm-11 1L8.5 8.5l.94-2.06 2.06-.94-2.06-.94L8.5 2.5l-.94 2.06-2.06.94zm10 10l.94 2.06.94-2.06 2.06-.94-2.06-.94-.94-2.06-.94 2.06-2.06.94z\"/><path d=\"M17.41 7.96l-1.37-1.37c-.4-.4-.92-.59-1.43-.59-.52 0-1.04.2-1.43.59L10.3 9.45l-7.72 7.72c-.78.78-.78 2.05 0 2.83L4 21.41c.39.39.9.59 1.41.59.51 0 1.02-.2 1.41-.59l7.78-7.78 2.81-2.81c.8-.78.8-2.07 0-2.86zM5.41 20L4 18.59l7.72-7.72 1.47 1.35L5.41 20z\"/>\n",
              "  </svg>\n",
              "      </button>\n",
              "      \n",
              "  <style>\n",
              "    .colab-df-container {\n",
              "      display:flex;\n",
              "      flex-wrap:wrap;\n",
              "      gap: 12px;\n",
              "    }\n",
              "\n",
              "    .colab-df-convert {\n",
              "      background-color: #E8F0FE;\n",
              "      border: none;\n",
              "      border-radius: 50%;\n",
              "      cursor: pointer;\n",
              "      display: none;\n",
              "      fill: #1967D2;\n",
              "      height: 32px;\n",
              "      padding: 0 0 0 0;\n",
              "      width: 32px;\n",
              "    }\n",
              "\n",
              "    .colab-df-convert:hover {\n",
              "      background-color: #E2EBFA;\n",
              "      box-shadow: 0px 1px 2px rgba(60, 64, 67, 0.3), 0px 1px 3px 1px rgba(60, 64, 67, 0.15);\n",
              "      fill: #174EA6;\n",
              "    }\n",
              "\n",
              "    [theme=dark] .colab-df-convert {\n",
              "      background-color: #3B4455;\n",
              "      fill: #D2E3FC;\n",
              "    }\n",
              "\n",
              "    [theme=dark] .colab-df-convert:hover {\n",
              "      background-color: #434B5C;\n",
              "      box-shadow: 0px 1px 3px 1px rgba(0, 0, 0, 0.15);\n",
              "      filter: drop-shadow(0px 1px 2px rgba(0, 0, 0, 0.3));\n",
              "      fill: #FFFFFF;\n",
              "    }\n",
              "  </style>\n",
              "\n",
              "      <script>\n",
              "        const buttonEl =\n",
              "          document.querySelector('#df-904a2feb-5ce2-48c6-96f0-c6ca1c9f5976 button.colab-df-convert');\n",
              "        buttonEl.style.display =\n",
              "          google.colab.kernel.accessAllowed ? 'block' : 'none';\n",
              "\n",
              "        async function convertToInteractive(key) {\n",
              "          const element = document.querySelector('#df-904a2feb-5ce2-48c6-96f0-c6ca1c9f5976');\n",
              "          const dataTable =\n",
              "            await google.colab.kernel.invokeFunction('convertToInteractive',\n",
              "                                                     [key], {});\n",
              "          if (!dataTable) return;\n",
              "\n",
              "          const docLinkHtml = 'Like what you see? Visit the ' +\n",
              "            '<a target=\"_blank\" href=https://colab.research.google.com/notebooks/data_table.ipynb>data table notebook</a>'\n",
              "            + ' to learn more about interactive tables.';\n",
              "          element.innerHTML = '';\n",
              "          dataTable['output_type'] = 'display_data';\n",
              "          await google.colab.output.renderOutput(dataTable, element);\n",
              "          const docLink = document.createElement('div');\n",
              "          docLink.innerHTML = docLinkHtml;\n",
              "          element.appendChild(docLink);\n",
              "        }\n",
              "      </script>\n",
              "    </div>\n",
              "  </div>\n",
              "  "
            ],
            "text/plain": [
              "                                       user                timestamp     x  \\\n",
              "0  a2d80ed662f34d32951eb1c6ed076c313e358b73  2018-06-04 16:26:55.053  0.78   \n",
              "1  a2d80ed662f34d32951eb1c6ed076c313e358b73  2018-06-04 16:26:55.111  0.79   \n",
              "2  a2d80ed662f34d32951eb1c6ed076c313e358b73  2018-06-04 16:26:55.169  0.80   \n",
              "3  a2d80ed662f34d32951eb1c6ed076c313e358b73  2018-06-04 16:26:55.228  0.78   \n",
              "4  a2d80ed662f34d32951eb1c6ed076c313e358b73  2018-06-04 16:26:55.286  0.83   \n",
              "\n",
              "      y     z class  \n",
              "0 -9.13 -3.74   bus  \n",
              "1 -9.11 -3.75   bus  \n",
              "2 -9.12 -3.75   bus  \n",
              "3 -9.14 -3.76   bus  \n",
              "4 -9.12 -3.80   bus  "
            ]
          },
          "metadata": {},
          "execution_count": 107
        }
      ]
    },
    {
      "cell_type": "code",
      "source": [
        "df1.shape"
      ],
      "metadata": {
        "colab": {
          "base_uri": "https://localhost:8080/"
        },
        "id": "k6wTkqZRSvnz",
        "outputId": "7ece43e5-d64a-4ebd-a53c-66483b72b0fb"
      },
      "execution_count": 108,
      "outputs": [
        {
          "output_type": "execute_result",
          "data": {
            "text/plain": [
              "(5653053, 6)"
            ]
          },
          "metadata": {},
          "execution_count": 108
        }
      ]
    },
    {
      "cell_type": "code",
      "source": [
        "df1.tail()"
      ],
      "metadata": {
        "colab": {
          "base_uri": "https://localhost:8080/",
          "height": 206
        },
        "id": "U4NzhpwKSvV6",
        "outputId": "7f02ee00-9ce1-4381-e627-b6a13992b635"
      },
      "execution_count": 8,
      "outputs": [
        {
          "output_type": "execute_result",
          "data": {
            "text/html": [
              "\n",
              "  <div id=\"df-c4f1f249-92d9-45b6-811d-0b9b6edf36ea\">\n",
              "    <div class=\"colab-df-container\">\n",
              "      <div>\n",
              "<style scoped>\n",
              "    .dataframe tbody tr th:only-of-type {\n",
              "        vertical-align: middle;\n",
              "    }\n",
              "\n",
              "    .dataframe tbody tr th {\n",
              "        vertical-align: top;\n",
              "    }\n",
              "\n",
              "    .dataframe thead th {\n",
              "        text-align: right;\n",
              "    }\n",
              "</style>\n",
              "<table border=\"1\" class=\"dataframe\">\n",
              "  <thead>\n",
              "    <tr style=\"text-align: right;\">\n",
              "      <th></th>\n",
              "      <th>user</th>\n",
              "      <th>timestamp</th>\n",
              "      <th>x</th>\n",
              "      <th>y</th>\n",
              "      <th>z</th>\n",
              "      <th>class</th>\n",
              "    </tr>\n",
              "  </thead>\n",
              "  <tbody>\n",
              "    <tr>\n",
              "      <th>5653048</th>\n",
              "      <td>faae5be800be2dfa897eea0bd2e5988cd53c4ec0</td>\n",
              "      <td>2019-09-13 17:04:31</td>\n",
              "      <td>8.25</td>\n",
              "      <td>0.47</td>\n",
              "      <td>1.41</td>\n",
              "      <td>bike</td>\n",
              "    </tr>\n",
              "    <tr>\n",
              "      <th>5653049</th>\n",
              "      <td>faae5be800be2dfa897eea0bd2e5988cd53c4ec0</td>\n",
              "      <td>2019-09-13 17:04:31.900000</td>\n",
              "      <td>12.28</td>\n",
              "      <td>2.07</td>\n",
              "      <td>1.87</td>\n",
              "      <td>bike</td>\n",
              "    </tr>\n",
              "    <tr>\n",
              "      <th>5653050</th>\n",
              "      <td>faae5be800be2dfa897eea0bd2e5988cd53c4ec0</td>\n",
              "      <td>2019-09-13 17:04:31</td>\n",
              "      <td>9.20</td>\n",
              "      <td>3.39</td>\n",
              "      <td>-1.80</td>\n",
              "      <td>bike</td>\n",
              "    </tr>\n",
              "    <tr>\n",
              "      <th>5653051</th>\n",
              "      <td>faae5be800be2dfa897eea0bd2e5988cd53c4ec0</td>\n",
              "      <td>2019-09-13 17:04:31</td>\n",
              "      <td>9.88</td>\n",
              "      <td>4.19</td>\n",
              "      <td>-1.29</td>\n",
              "      <td>bike</td>\n",
              "    </tr>\n",
              "    <tr>\n",
              "      <th>5653052</th>\n",
              "      <td>faae5be800be2dfa897eea0bd2e5988cd53c4ec0</td>\n",
              "      <td>2019-09-13 17:04:32</td>\n",
              "      <td>10.91</td>\n",
              "      <td>1.49</td>\n",
              "      <td>3.05</td>\n",
              "      <td>bike</td>\n",
              "    </tr>\n",
              "  </tbody>\n",
              "</table>\n",
              "</div>\n",
              "      <button class=\"colab-df-convert\" onclick=\"convertToInteractive('df-c4f1f249-92d9-45b6-811d-0b9b6edf36ea')\"\n",
              "              title=\"Convert this dataframe to an interactive table.\"\n",
              "              style=\"display:none;\">\n",
              "        \n",
              "  <svg xmlns=\"http://www.w3.org/2000/svg\" height=\"24px\"viewBox=\"0 0 24 24\"\n",
              "       width=\"24px\">\n",
              "    <path d=\"M0 0h24v24H0V0z\" fill=\"none\"/>\n",
              "    <path d=\"M18.56 5.44l.94 2.06.94-2.06 2.06-.94-2.06-.94-.94-2.06-.94 2.06-2.06.94zm-11 1L8.5 8.5l.94-2.06 2.06-.94-2.06-.94L8.5 2.5l-.94 2.06-2.06.94zm10 10l.94 2.06.94-2.06 2.06-.94-2.06-.94-.94-2.06-.94 2.06-2.06.94z\"/><path d=\"M17.41 7.96l-1.37-1.37c-.4-.4-.92-.59-1.43-.59-.52 0-1.04.2-1.43.59L10.3 9.45l-7.72 7.72c-.78.78-.78 2.05 0 2.83L4 21.41c.39.39.9.59 1.41.59.51 0 1.02-.2 1.41-.59l7.78-7.78 2.81-2.81c.8-.78.8-2.07 0-2.86zM5.41 20L4 18.59l7.72-7.72 1.47 1.35L5.41 20z\"/>\n",
              "  </svg>\n",
              "      </button>\n",
              "      \n",
              "  <style>\n",
              "    .colab-df-container {\n",
              "      display:flex;\n",
              "      flex-wrap:wrap;\n",
              "      gap: 12px;\n",
              "    }\n",
              "\n",
              "    .colab-df-convert {\n",
              "      background-color: #E8F0FE;\n",
              "      border: none;\n",
              "      border-radius: 50%;\n",
              "      cursor: pointer;\n",
              "      display: none;\n",
              "      fill: #1967D2;\n",
              "      height: 32px;\n",
              "      padding: 0 0 0 0;\n",
              "      width: 32px;\n",
              "    }\n",
              "\n",
              "    .colab-df-convert:hover {\n",
              "      background-color: #E2EBFA;\n",
              "      box-shadow: 0px 1px 2px rgba(60, 64, 67, 0.3), 0px 1px 3px 1px rgba(60, 64, 67, 0.15);\n",
              "      fill: #174EA6;\n",
              "    }\n",
              "\n",
              "    [theme=dark] .colab-df-convert {\n",
              "      background-color: #3B4455;\n",
              "      fill: #D2E3FC;\n",
              "    }\n",
              "\n",
              "    [theme=dark] .colab-df-convert:hover {\n",
              "      background-color: #434B5C;\n",
              "      box-shadow: 0px 1px 3px 1px rgba(0, 0, 0, 0.15);\n",
              "      filter: drop-shadow(0px 1px 2px rgba(0, 0, 0, 0.3));\n",
              "      fill: #FFFFFF;\n",
              "    }\n",
              "  </style>\n",
              "\n",
              "      <script>\n",
              "        const buttonEl =\n",
              "          document.querySelector('#df-c4f1f249-92d9-45b6-811d-0b9b6edf36ea button.colab-df-convert');\n",
              "        buttonEl.style.display =\n",
              "          google.colab.kernel.accessAllowed ? 'block' : 'none';\n",
              "\n",
              "        async function convertToInteractive(key) {\n",
              "          const element = document.querySelector('#df-c4f1f249-92d9-45b6-811d-0b9b6edf36ea');\n",
              "          const dataTable =\n",
              "            await google.colab.kernel.invokeFunction('convertToInteractive',\n",
              "                                                     [key], {});\n",
              "          if (!dataTable) return;\n",
              "\n",
              "          const docLinkHtml = 'Like what you see? Visit the ' +\n",
              "            '<a target=\"_blank\" href=https://colab.research.google.com/notebooks/data_table.ipynb>data table notebook</a>'\n",
              "            + ' to learn more about interactive tables.';\n",
              "          element.innerHTML = '';\n",
              "          dataTable['output_type'] = 'display_data';\n",
              "          await google.colab.output.renderOutput(dataTable, element);\n",
              "          const docLink = document.createElement('div');\n",
              "          docLink.innerHTML = docLinkHtml;\n",
              "          element.appendChild(docLink);\n",
              "        }\n",
              "      </script>\n",
              "    </div>\n",
              "  </div>\n",
              "  "
            ],
            "text/plain": [
              "                                             user                   timestamp  \\\n",
              "5653048  faae5be800be2dfa897eea0bd2e5988cd53c4ec0         2019-09-13 17:04:31   \n",
              "5653049  faae5be800be2dfa897eea0bd2e5988cd53c4ec0  2019-09-13 17:04:31.900000   \n",
              "5653050  faae5be800be2dfa897eea0bd2e5988cd53c4ec0         2019-09-13 17:04:31   \n",
              "5653051  faae5be800be2dfa897eea0bd2e5988cd53c4ec0         2019-09-13 17:04:31   \n",
              "5653052  faae5be800be2dfa897eea0bd2e5988cd53c4ec0         2019-09-13 17:04:32   \n",
              "\n",
              "             x     y     z class  \n",
              "5653048   8.25  0.47  1.41  bike  \n",
              "5653049  12.28  2.07  1.87  bike  \n",
              "5653050   9.20  3.39 -1.80  bike  \n",
              "5653051   9.88  4.19 -1.29  bike  \n",
              "5653052  10.91  1.49  3.05  bike  "
            ]
          },
          "metadata": {},
          "execution_count": 8
        }
      ]
    },
    {
      "cell_type": "code",
      "source": [
        "df1['class'].value_counts()"
      ],
      "metadata": {
        "colab": {
          "base_uri": "https://localhost:8080/"
        },
        "id": "9RF6kAgLSvHK",
        "outputId": "4a6385f1-e942-4fea-a86b-911a43a3402f"
      },
      "execution_count": 109,
      "outputs": [
        {
          "output_type": "execute_result",
          "data": {
            "text/plain": [
              "car       2937546\n",
              "bus       1349107\n",
              "walk       870434\n",
              "bike       385114\n",
              "train      102155\n",
              "e-bike       8697\n",
              "Name: class, dtype: int64"
            ]
          },
          "metadata": {},
          "execution_count": 109
        }
      ]
    },
    {
      "cell_type": "code",
      "source": [
        "df1['class'].describe()"
      ],
      "metadata": {
        "colab": {
          "base_uri": "https://localhost:8080/"
        },
        "id": "DF2nH_qESvCC",
        "outputId": "14bab1a5-ef6e-410c-a8a6-e3c70cd99cfa"
      },
      "execution_count": 10,
      "outputs": [
        {
          "output_type": "execute_result",
          "data": {
            "text/plain": [
              "count     5653053\n",
              "unique          6\n",
              "top           car\n",
              "freq      2937546\n",
              "Name: class, dtype: object"
            ]
          },
          "metadata": {},
          "execution_count": 10
        }
      ]
    },
    {
      "cell_type": "code",
      "source": [
        "df1['x'].describe()"
      ],
      "metadata": {
        "colab": {
          "base_uri": "https://localhost:8080/"
        },
        "id": "5C3lGbF-Su-a",
        "outputId": "7b8ab007-2141-4c37-eac4-cf4f343d627f"
      },
      "execution_count": 11,
      "outputs": [
        {
          "output_type": "execute_result",
          "data": {
            "text/plain": [
              "count    5.653053e+06\n",
              "mean     1.499442e+00\n",
              "std      4.657316e+00\n",
              "min     -7.321000e+01\n",
              "25%     -1.300000e+00\n",
              "50%      7.100000e-01\n",
              "75%      4.650000e+00\n",
              "max      7.840000e+01\n",
              "Name: x, dtype: float64"
            ]
          },
          "metadata": {},
          "execution_count": 11
        }
      ]
    },
    {
      "cell_type": "code",
      "source": [
        "df1['y'].describe()"
      ],
      "metadata": {
        "colab": {
          "base_uri": "https://localhost:8080/"
        },
        "id": "QQdQujiGSu7L",
        "outputId": "2a5cee55-0ed1-4672-c5eb-3ed9137ab687"
      },
      "execution_count": 12,
      "outputs": [
        {
          "output_type": "execute_result",
          "data": {
            "text/plain": [
              "count    5.653053e+06\n",
              "mean     1.483885e+00\n",
              "std      6.262899e+00\n",
              "min     -7.840000e+01\n",
              "25%     -1.790000e+00\n",
              "50%      2.130000e+00\n",
              "75%      6.260000e+00\n",
              "max      7.834000e+01\n",
              "Name: y, dtype: float64"
            ]
          },
          "metadata": {},
          "execution_count": 12
        }
      ]
    },
    {
      "cell_type": "code",
      "source": [
        "df1['z'].describe()"
      ],
      "metadata": {
        "colab": {
          "base_uri": "https://localhost:8080/"
        },
        "id": "fLObHneebl7H",
        "outputId": "80553e55-23d8-424f-9802-cae2dc0a62fc"
      },
      "execution_count": 13,
      "outputs": [
        {
          "output_type": "execute_result",
          "data": {
            "text/plain": [
              "count    5.653053e+06\n",
              "mean     2.484874e+00\n",
              "std      5.800348e+00\n",
              "min     -7.844000e+01\n",
              "25%     -9.600000e-01\n",
              "50%      3.500000e+00\n",
              "75%      7.320000e+00\n",
              "max      7.840000e+01\n",
              "Name: z, dtype: float64"
            ]
          },
          "metadata": {},
          "execution_count": 13
        }
      ]
    },
    {
      "cell_type": "code",
      "source": [
        "df1['timestamp'].describe()"
      ],
      "metadata": {
        "colab": {
          "base_uri": "https://localhost:8080/"
        },
        "id": "1bLKPSI9bqNB",
        "outputId": "245ece7b-3fec-4a25-841d-03c1b997c310"
      },
      "execution_count": 14,
      "outputs": [
        {
          "output_type": "execute_result",
          "data": {
            "text/plain": [
              "count                        5653053\n",
              "unique                       3856262\n",
              "top       2019-09-12 21:18:09.600000\n",
              "freq                              95\n",
              "Name: timestamp, dtype: object"
            ]
          },
          "metadata": {},
          "execution_count": 14
        }
      ]
    },
    {
      "cell_type": "code",
      "source": [
        "df1['user'].describe()"
      ],
      "metadata": {
        "colab": {
          "base_uri": "https://localhost:8080/"
        },
        "id": "AI_8dfevby6h",
        "outputId": "fe11d372-84f6-4b4f-a3cf-4c914ef6cdb3"
      },
      "execution_count": 15,
      "outputs": [
        {
          "output_type": "execute_result",
          "data": {
            "text/plain": [
              "count                                      5653053\n",
              "unique                                          32\n",
              "top       a59868c6eb3645eedbb343ce8c336ec6f2ef2324\n",
              "freq                                        673366\n",
              "Name: user, dtype: object"
            ]
          },
          "metadata": {},
          "execution_count": 15
        }
      ]
    },
    {
      "cell_type": "markdown",
      "source": [
        "**Creating pie chart**"
      ],
      "metadata": {
        "id": "xqbsSUTBoTNu"
      }
    },
    {
      "cell_type": "code",
      "source": [
        "import pandas as pd\n",
        "import matplotlib.pyplot as plt\n",
        "# from pandas.tools.plotting import table\n",
        "\n",
        "# sample data\n",
        "raw_data = {'class_name': ['car', 'bus', 'bike', 'e-bike', 'walk', 'train'],\n",
        "        'frequency': [2937546, 1349107, 385114, 8697, 870434, 102155]}\n",
        "df = pd.DataFrame(raw_data, columns = ['class_name', 'frequency'])\n",
        "plt.figure(figsize=(16,8))\n",
        "# plot chart\n",
        "ax1 = plt.subplot(121, aspect='equal')\n",
        "df.plot(kind='pie', y = 'frequency', ax=ax1, autopct='%1.1f%%', \n",
        " startangle=90, shadow=False, labels=df['class_name'], legend = False, fontsize=14)"
      ],
      "metadata": {
        "colab": {
          "base_uri": "https://localhost:8080/",
          "height": 454
        },
        "id": "bjQrtUZ4cKLE",
        "outputId": "2a667e22-b21e-4560-b52f-75ec13c3c514"
      },
      "execution_count": 110,
      "outputs": [
        {
          "output_type": "execute_result",
          "data": {
            "text/plain": [
              "<matplotlib.axes._subplots.AxesSubplot at 0x7fd9da53fd90>"
            ]
          },
          "metadata": {},
          "execution_count": 110
        },
        {
          "output_type": "display_data",
          "data": {
            "image/png": "[encoded data removed]",
            "text/plain": [
              "<Figure size 1152x576 with 1 Axes>"
            ]
          },
          "metadata": {}
        }
      ]
    },
    {
      "cell_type": "code",
      "source": [
        "# df = pd.DataFrame({'lab':['A', 'B', 'C'], 'val':[10, 30, 20]})\n",
        "ax = df.plot.bar(x='class_name', y='frequency', rot=0)"
      ],
      "metadata": {
        "colab": {
          "base_uri": "https://localhost:8080/",
          "height": 291
        },
        "id": "HoRbOS5Yq_-m",
        "outputId": "ca327ff6-b08d-47dd-8b51-05da6019a70e"
      },
      "execution_count": 111,
      "outputs": [
        {
          "output_type": "display_data",
          "data": {
            "image/png": "[encoded data removed]",
            "text/plain": [
              "<Figure size 432x288 with 1 Axes>"
            ]
          },
          "metadata": {
            "needs_background": "light"
          }
        }
      ]
    },
    {
      "cell_type": "markdown",
      "source": [
        "Below cells contains the number of unique users"
      ],
      "metadata": {
        "id": "f7Ve_W9mQ0qY"
      }
    },
    {
      "cell_type": "code",
      "source": [
        "user = df1['user'].unique()\n",
        "user"
      ],
      "metadata": {
        "colab": {
          "base_uri": "https://localhost:8080/"
        },
        "id": "2FYbnlbqcKCi",
        "outputId": "49052256-b262-48cf-e78d-f3bf88bdf34e"
      },
      "execution_count": 112,
      "outputs": [
        {
          "output_type": "execute_result",
          "data": {
            "text/plain": [
              "array(['a2d80ed662f34d32951eb1c6ed076c313e358b73',\n",
              "       'a526f3566e9c9024dfa7378eb4291d787a09fd37',\n",
              "       'a59868c6eb3645eedbb343ce8c336ec6f2ef2324',\n",
              "       'a92dee88f61123f923dccec01eeecf1a81953b36',\n",
              "       'ac4c17afeb69b39169eb301ab592696a8f353976',\n",
              "       'adaaae1a67ea9e43abd60ba945eccda0cb8821e0',\n",
              "       'b138d165100ef60bc793cac143742eb5aea4d6ba',\n",
              "       'b45157069942d01310c3e7b74034166717bb25f9',\n",
              "       'b7b165e5637b5a0226068d907748f4bbfc61a320',\n",
              "       'c453226e3616ae821cdcb38f38481c2a20f2482f',\n",
              "       'c5702d34b238fe68683f818e82cd3a3cd8a16366',\n",
              "       'ca7950f223a8037b897d0547075dc138f9e43b20',\n",
              "       'cace4ec0999436917986b4fa6e9317262c897bc2',\n",
              "       'cbde60baea002b694ecf2a3ff2d95be16b00efe1',\n",
              "       'ce39f5d0705695fcd70a04ba6d84ac6beecd6f9c',\n",
              "       'd429974540bfd38c3367fe9f0c8682775ff4fa18',\n",
              "       'd7a1230d94f91a32cc079809748e52e8a4a6a22f',\n",
              "       'd7dd12d83c81574137f858034b99f4cc83ab0718',\n",
              "       'd8c047eaaee204b7b5cd71e2d67308b87b038ed3',\n",
              "       'dc0bdce306ec3b624fe0e6ecd1ffbd82cb970120',\n",
              "       'dd82e3df4bebc74ed6b67877be79e29f401c16a3',\n",
              "       'dde95e125d89843f7032baa734ee4d34ec775aaf',\n",
              "       'de9892b879c83ea3d24fb4560873107cc4e86d48',\n",
              "       'dfcfc0404691b73b69884073159f90843f2ac35b',\n",
              "       'e429a95c532f1117130c11e4a18379d84fa4ffa9',\n",
              "       'eb9e7854290fd6ea9ebaf448b640fc1f1dbeb076',\n",
              "       'ecfb0929250fb6dda66a4065441230ab27f094e5',\n",
              "       'ed623d28c1e0071632a6110b8f8ed93f8af78b99',\n",
              "       'f1b7331b66e404c11eebb22933e733117bbb12c9',\n",
              "       'f5edd999397145a2ec1b244226fc83f99631760c',\n",
              "       'f7ae1ce141c26db40ea8b090fb568a0c965310aa',\n",
              "       'faae5be800be2dfa897eea0bd2e5988cd53c4ec0'], dtype=object)"
            ]
          },
          "metadata": {},
          "execution_count": 112
        }
      ]
    },
    {
      "cell_type": "code",
      "source": [
        "##No. of unique users\n",
        "user.shape                              "
      ],
      "metadata": {
        "colab": {
          "base_uri": "https://localhost:8080/"
        },
        "id": "x6vpKhJRuW81",
        "outputId": "3cf067c4-93da-4660-8da1-cd8025858c68"
      },
      "execution_count": 19,
      "outputs": [
        {
          "output_type": "execute_result",
          "data": {
            "text/plain": [
              "(32,)"
            ]
          },
          "metadata": {},
          "execution_count": 19
        }
      ]
    },
    {
      "cell_type": "markdown",
      "source": [
        "##Q2 UNIQUE SEQUENCE"
      ],
      "metadata": {
        "id": "eCBAfaMH_X59"
      }
    },
    {
      "cell_type": "code",
      "source": [
        "import time"
      ],
      "metadata": {
        "id": "l7mE1rgjSOec"
      },
      "execution_count": 333,
      "outputs": []
    },
    {
      "cell_type": "code",
      "source": [
        "start = time.time()"
      ],
      "metadata": {
        "id": "NPqfZI7DR7zh"
      },
      "execution_count": 351,
      "outputs": []
    },
    {
      "cell_type": "markdown",
      "source": [
        "**Shifting and making copy of column of user, class and timestamp then takig the difference between shifted timestamp and original timestamp for checking 10 sec interval.**"
      ],
      "metadata": {
        "id": "h92CCu5BSb9J"
      }
    },
    {
      "cell_type": "code",
      "source": [
        "df1['shifted_user'] = df1['user'].shift(1, axis = 0)"
      ],
      "metadata": {
        "id": "K-PzQGAXcJ6p"
      },
      "execution_count": 352,
      "outputs": []
    },
    {
      "cell_type": "code",
      "source": [
        "df1['shifted_class'] = df1['class'].shift(1, axis = 0)"
      ],
      "metadata": {
        "id": "opHkGaVzcJ32"
      },
      "execution_count": 353,
      "outputs": []
    },
    {
      "cell_type": "code",
      "source": [
        "df1['shifted_ts'] = df1['timestamp'].shift(1, axis = 0)"
      ],
      "metadata": {
        "id": "GkxSck1DcJ09"
      },
      "execution_count": 354,
      "outputs": []
    },
    {
      "cell_type": "code",
      "source": [
        "df1['timestamp'] = df1['timestamp'].astype('datetime64[s]')\n",
        "df1['shifted_ts'] = df1['shifted_ts'].astype('datetime64[s]')"
      ],
      "metadata": {
        "id": "FtQ-SLKWYgcv"
      },
      "execution_count": 355,
      "outputs": []
    },
    {
      "cell_type": "code",
      "source": [
        "df1['difference'] = ((df1['timestamp']) - (df1['shifted_ts']))/np.timedelta64(1,'s')"
      ],
      "metadata": {
        "id": "o-qgIsqscJxo"
      },
      "execution_count": 356,
      "outputs": []
    },
    {
      "cell_type": "markdown",
      "source": [
        "**Sequence will change if user changes or mode changes or time interval will be greater than 10 sec. Saving results coming from this into a new column named updated.**"
      ],
      "metadata": {
        "id": "BkJXi1RhTDKd"
      }
    },
    {
      "cell_type": "code",
      "source": [
        "df1['updated'] = (df1['user'] != df1['shifted_user']) | (df1['class'] != df1['shifted_class']) | (df1['difference']>10)"
      ],
      "metadata": {
        "id": "LdDELHMiYhmc"
      },
      "execution_count": 357,
      "outputs": []
    },
    {
      "cell_type": "code",
      "source": [
        "df1['updated'].sum()"
      ],
      "metadata": {
        "id": "HCVaKu3zYhjH",
        "colab": {
          "base_uri": "https://localhost:8080/"
        },
        "outputId": "9d941d47-5d50-4df5-bcfc-0115f0f7d20a"
      },
      "execution_count": 358,
      "outputs": [
        {
          "output_type": "execute_result",
          "data": {
            "text/plain": [
              "3378"
            ]
          },
          "metadata": {},
          "execution_count": 358
        }
      ]
    },
    {
      "cell_type": "code",
      "source": [
        ""
      ],
      "metadata": {
        "id": "Uyc-Ud9OJqTg"
      },
      "execution_count": 29,
      "outputs": []
    },
    {
      "cell_type": "code",
      "source": [
        "#df1['updated']"
      ],
      "metadata": {
        "id": "xruZfQLhYhgT"
      },
      "execution_count": 30,
      "outputs": []
    },
    {
      "cell_type": "code",
      "source": [
        "df1['updated_shift'] = df1['updated'].shift(1, axis = 0)"
      ],
      "metadata": {
        "id": "PHzwY1GBFIjQ"
      },
      "execution_count": 359,
      "outputs": []
    },
    {
      "cell_type": "markdown",
      "source": [
        "**Using the groupby function and displaying the number of unique sequences present for each transportation mode for each user**"
      ],
      "metadata": {
        "id": "v16bLWVMTuHj"
      }
    },
    {
      "cell_type": "code",
      "source": [
        "ro = df1.groupby(['user', 'class']).updated.sum()"
      ],
      "metadata": {
        "id": "1cuvmdfGwHPb"
      },
      "execution_count": 360,
      "outputs": []
    },
    {
      "cell_type": "code",
      "source": [
        "pd.set_option('display.max_rows',None, 'display.max_columns',None)"
      ],
      "metadata": {
        "id": "3trGWCWG9Ffq"
      },
      "execution_count": 361,
      "outputs": []
    },
    {
      "cell_type": "markdown",
      "source": [
        "**Below cell contains the number of unique sequences present for each transportation mode for\n",
        "each user:**"
      ],
      "metadata": {
        "id": "GkfFbKCoQTiF"
      }
    },
    {
      "cell_type": "code",
      "source": [
        "ro"
      ],
      "metadata": {
        "colab": {
          "base_uri": "https://localhost:8080/"
        },
        "id": "HLChGfIP91TN",
        "outputId": "83e0ad17-6c08-4fef-fd2f-88c172ad9902"
      },
      "execution_count": 362,
      "outputs": [
        {
          "output_type": "execute_result",
          "data": {
            "text/plain": [
              "user                                      class \n",
              "a2d80ed662f34d32951eb1c6ed076c313e358b73  bus        12\n",
              "a526f3566e9c9024dfa7378eb4291d787a09fd37  car        13\n",
              "                                          walk       19\n",
              "a59868c6eb3645eedbb343ce8c336ec6f2ef2324  bike       33\n",
              "                                          bus        18\n",
              "                                          car        63\n",
              "                                          walk       10\n",
              "a92dee88f61123f923dccec01eeecf1a81953b36  bus         3\n",
              "ac4c17afeb69b39169eb301ab592696a8f353976  car        20\n",
              "                                          walk       58\n",
              "adaaae1a67ea9e43abd60ba945eccda0cb8821e0  bus        20\n",
              "                                          car        17\n",
              "                                          walk        9\n",
              "b138d165100ef60bc793cac143742eb5aea4d6ba  car         9\n",
              "b45157069942d01310c3e7b74034166717bb25f9  car         3\n",
              "                                          walk        2\n",
              "b7b165e5637b5a0226068d907748f4bbfc61a320  car       191\n",
              "                                          walk       10\n",
              "c453226e3616ae821cdcb38f38481c2a20f2482f  bike      169\n",
              "                                          bus       286\n",
              "c5702d34b238fe68683f818e82cd3a3cd8a16366  bike       15\n",
              "                                          bus        13\n",
              "                                          walk      120\n",
              "ca7950f223a8037b897d0547075dc138f9e43b20  walk        3\n",
              "cace4ec0999436917986b4fa6e9317262c897bc2  car        72\n",
              "cbde60baea002b694ecf2a3ff2d95be16b00efe1  bus         4\n",
              "ce39f5d0705695fcd70a04ba6d84ac6beecd6f9c  bus        21\n",
              "                                          car        79\n",
              "d429974540bfd38c3367fe9f0c8682775ff4fa18  bus         6\n",
              "                                          car       119\n",
              "                                          walk        2\n",
              "d7a1230d94f91a32cc079809748e52e8a4a6a22f  bike      151\n",
              "                                          train      12\n",
              "                                          walk        6\n",
              "d7dd12d83c81574137f858034b99f4cc83ab0718  car       143\n",
              "d8c047eaaee204b7b5cd71e2d67308b87b038ed3  car        12\n",
              "                                          walk       24\n",
              "dc0bdce306ec3b624fe0e6ecd1ffbd82cb970120  bike      109\n",
              "                                          car        29\n",
              "                                          walk        5\n",
              "dd82e3df4bebc74ed6b67877be79e29f401c16a3  car        65\n",
              "                                          walk        2\n",
              "dde95e125d89843f7032baa734ee4d34ec775aaf  bus         4\n",
              "                                          car         2\n",
              "                                          walk        8\n",
              "de9892b879c83ea3d24fb4560873107cc4e86d48  car       107\n",
              "                                          walk       34\n",
              "dfcfc0404691b73b69884073159f90843f2ac35b  bus        47\n",
              "                                          car       101\n",
              "                                          walk      152\n",
              "e429a95c532f1117130c11e4a18379d84fa4ffa9  bus        40\n",
              "                                          car        35\n",
              "eb9e7854290fd6ea9ebaf448b640fc1f1dbeb076  bus         2\n",
              "                                          train       1\n",
              "                                          walk        2\n",
              "ecfb0929250fb6dda66a4065441230ab27f094e5  car       139\n",
              "                                          e-bike     14\n",
              "                                          train       1\n",
              "ed623d28c1e0071632a6110b8f8ed93f8af78b99  bus        10\n",
              "                                          car       112\n",
              "                                          walk        3\n",
              "f1b7331b66e404c11eebb22933e733117bbb12c9  bike      171\n",
              "                                          car       133\n",
              "                                          walk       73\n",
              "f5edd999397145a2ec1b244226fc83f99631760c  bus        15\n",
              "                                          walk       13\n",
              "f7ae1ce141c26db40ea8b090fb568a0c965310aa  car         2\n",
              "faae5be800be2dfa897eea0bd2e5988cd53c4ec0  bike      135\n",
              "                                          car        10\n",
              "                                          walk       35\n",
              "Name: updated, dtype: int64"
            ]
          },
          "metadata": {},
          "execution_count": 362
        }
      ]
    },
    {
      "cell_type": "code",
      "source": [
        "end = time.time()"
      ],
      "metadata": {
        "id": "jW1uouzhYlic"
      },
      "execution_count": 363,
      "outputs": []
    },
    {
      "cell_type": "code",
      "source": [
        "print(end - start)                                                              ##printing time in running Q.2"
      ],
      "metadata": {
        "colab": {
          "base_uri": "https://localhost:8080/"
        },
        "id": "si-0c32OYoUW",
        "outputId": "90ff588b-8b3e-4425-c329-43759ccd8c19"
      },
      "execution_count": 364,
      "outputs": [
        {
          "output_type": "stream",
          "name": "stdout",
          "text": [
            "23.497427940368652\n"
          ]
        }
      ]
    },
    {
      "cell_type": "markdown",
      "source": [
        "##Q.3 Time window partition"
      ],
      "metadata": {
        "id": "5zuES1bi6hTk"
      }
    },
    {
      "cell_type": "code",
      "source": [
        "start1 = time.time()"
      ],
      "metadata": {
        "id": "gZ4InxewibV0"
      },
      "execution_count": 365,
      "outputs": []
    },
    {
      "cell_type": "code",
      "source": [
        "# df1['updated2'] = (df1['updated'] != df1['updated_shift']) | (df1['difference']>5)\n",
        "df1['seq'] = df1['updated'].cumsum(axis = 0, skipna = True)                     ## Making a new coloumn which will contains cummulative sum of updated coloumn"
      ],
      "metadata": {
        "id": "pG1g7-hY60tb"
      },
      "execution_count": 366,
      "outputs": []
    },
    {
      "cell_type": "code",
      "source": [
        "ro2 = df1.groupby(['timestamp', 'seq']).updated.max()"
      ],
      "metadata": {
        "id": "RGw31NQbF9uc"
      },
      "execution_count": 367,
      "outputs": []
    },
    {
      "cell_type": "code",
      "source": [
        "pd.set_option('display.max_rows',None, 'display.max_columns',None)"
      ],
      "metadata": {
        "id": "a_jLavgJF9rh"
      },
      "execution_count": 368,
      "outputs": []
    },
    {
      "cell_type": "code",
      "source": [
        "ro2"
      ],
      "metadata": {
        "id": "s6Ir_qkvF9o2"
      },
      "execution_count": null,
      "outputs": []
    },
    {
      "cell_type": "markdown",
      "source": [
        "**Taking minimum time of each seq and storing it in a new column named min_t**"
      ],
      "metadata": {
        "id": "aJH0CFlpWLIc"
      }
    },
    {
      "cell_type": "code",
      "source": [
        "df1['min_t'] = df1.groupby('seq').timestamp.transform('min')"
      ],
      "metadata": {
        "id": "tWM8whIVOvwS"
      },
      "execution_count": 369,
      "outputs": []
    },
    {
      "cell_type": "markdown",
      "source": [
        "**Sort of normalization of actual of timestamp by substracting the min_t from it**"
      ],
      "metadata": {
        "id": "EnZf13CxWY_K"
      }
    },
    {
      "cell_type": "code",
      "source": [
        "df1['t_needed'] = (df1['timestamp'] - df1['min_t'])/np.timedelta64(1,'s')"
      ],
      "metadata": {
        "id": "rZq2B0g_Ovs6"
      },
      "execution_count": 370,
      "outputs": []
    },
    {
      "cell_type": "code",
      "source": [
        "# df1['t_needed'] = df1['t_needed']//5\n",
        "df1['t_needed'].shape"
      ],
      "metadata": {
        "colab": {
          "base_uri": "https://localhost:8080/"
        },
        "id": "pB9l7CtzOvq0",
        "outputId": "445d9d1b-231f-4727-ff61-9b76e3bf214e"
      },
      "execution_count": 371,
      "outputs": [
        {
          "output_type": "execute_result",
          "data": {
            "text/plain": [
              "(5653053,)"
            ]
          },
          "metadata": {},
          "execution_count": 371
        }
      ]
    },
    {
      "cell_type": "markdown",
      "source": [
        "**This function is for giving each partition its particular index**"
      ],
      "metadata": {
        "id": "0WtxJPL5Wpwf"
      }
    },
    {
      "cell_type": "code",
      "source": [
        "def partition(t1,t2):\n",
        "  return str(t1)+'#'+str(int(t2/5))"
      ],
      "metadata": {
        "id": "8qd4KqnUOvl8"
      },
      "execution_count": 372,
      "outputs": []
    },
    {
      "cell_type": "markdown",
      "source": [
        "**Implementing partition index function on partition window function**"
      ],
      "metadata": {
        "id": "PNYgkZB3W4q2"
      }
    },
    {
      "cell_type": "code",
      "source": [
        "# df1['t_parted'] = list(map(partition,df1['min_t'],df1['t_needed']))\n",
        "df1['t_parted'] = np.vectorize(partition)(df1['seq'],df1['t_needed'])"
      ],
      "metadata": {
        "id": "VYTU-OucOvgJ"
      },
      "execution_count": 373,
      "outputs": []
    },
    {
      "cell_type": "code",
      "source": [
        "df1['t_parted'].nunique()"
      ],
      "metadata": {
        "colab": {
          "base_uri": "https://localhost:8080/"
        },
        "id": "8XwHrL2RnWNK",
        "outputId": "ecc7e9da-a941-4033-9036-814f13c3e4d9"
      },
      "execution_count": 374,
      "outputs": [
        {
          "output_type": "execute_result",
          "data": {
            "text/plain": [
              "40458"
            ]
          },
          "metadata": {},
          "execution_count": 374
        }
      ]
    },
    {
      "cell_type": "code",
      "source": [
        "ro3 =  df1.groupby(['user', 'class']).t_parted.nunique()"
      ],
      "metadata": {
        "id": "mbhukRWQ1gXS"
      },
      "execution_count": 375,
      "outputs": []
    },
    {
      "cell_type": "code",
      "source": [
        "# ro4 =  df1.groupby(['user', 'class']).t_parted.sum()"
      ],
      "metadata": {
        "id": "Oqzk-MZJhjTM"
      },
      "execution_count": 51,
      "outputs": []
    },
    {
      "cell_type": "code",
      "source": [
        "pd.set_option('display.max_rows',None, 'display.max_columns',None)"
      ],
      "metadata": {
        "id": "0xGpcaHynWAQ"
      },
      "execution_count": 376,
      "outputs": []
    },
    {
      "cell_type": "code",
      "source": [
        "ro3"
      ],
      "metadata": {
        "colab": {
          "base_uri": "https://localhost:8080/"
        },
        "id": "leKPa9CzynEH",
        "outputId": "0aabd0d4-870f-4ef7-ec30-d075f31c3559"
      },
      "execution_count": 377,
      "outputs": [
        {
          "output_type": "execute_result",
          "data": {
            "text/plain": [
              "user                                      class \n",
              "a2d80ed662f34d32951eb1c6ed076c313e358b73  bus         34\n",
              "a526f3566e9c9024dfa7378eb4291d787a09fd37  car       1542\n",
              "                                          walk       298\n",
              "a59868c6eb3645eedbb343ce8c336ec6f2ef2324  bike       565\n",
              "                                          bus       3853\n",
              "                                          car       2083\n",
              "                                          walk       824\n",
              "a92dee88f61123f923dccec01eeecf1a81953b36  bus        729\n",
              "ac4c17afeb69b39169eb301ab592696a8f353976  car         62\n",
              "                                          walk       479\n",
              "adaaae1a67ea9e43abd60ba945eccda0cb8821e0  bus       1156\n",
              "                                          car        533\n",
              "                                          walk       153\n",
              "b138d165100ef60bc793cac143742eb5aea4d6ba  car        415\n",
              "b45157069942d01310c3e7b74034166717bb25f9  car        428\n",
              "                                          walk        74\n",
              "b7b165e5637b5a0226068d907748f4bbfc61a320  car       2131\n",
              "                                          walk       203\n",
              "c453226e3616ae821cdcb38f38481c2a20f2482f  bike       501\n",
              "                                          bus       1467\n",
              "c5702d34b238fe68683f818e82cd3a3cd8a16366  bike       203\n",
              "                                          bus        198\n",
              "                                          walk      1239\n",
              "ca7950f223a8037b897d0547075dc138f9e43b20  walk        64\n",
              "cace4ec0999436917986b4fa6e9317262c897bc2  car       1150\n",
              "cbde60baea002b694ecf2a3ff2d95be16b00efe1  bus        413\n",
              "ce39f5d0705695fcd70a04ba6d84ac6beecd6f9c  bus        447\n",
              "                                          car        505\n",
              "d429974540bfd38c3367fe9f0c8682775ff4fa18  bus        519\n",
              "                                          car        919\n",
              "                                          walk       101\n",
              "d7a1230d94f91a32cc079809748e52e8a4a6a22f  bike       368\n",
              "                                          train      418\n",
              "                                          walk        80\n",
              "d7dd12d83c81574137f858034b99f4cc83ab0718  car        673\n",
              "d8c047eaaee204b7b5cd71e2d67308b87b038ed3  car       1761\n",
              "                                          walk       163\n",
              "dc0bdce306ec3b624fe0e6ecd1ffbd82cb970120  bike       573\n",
              "                                          car        147\n",
              "                                          walk        36\n",
              "dd82e3df4bebc74ed6b67877be79e29f401c16a3  car        938\n",
              "                                          walk       236\n",
              "dde95e125d89843f7032baa734ee4d34ec775aaf  bus         34\n",
              "                                          car         42\n",
              "                                          walk        50\n",
              "de9892b879c83ea3d24fb4560873107cc4e86d48  car        923\n",
              "                                          walk       336\n",
              "dfcfc0404691b73b69884073159f90843f2ac35b  bus        439\n",
              "                                          car       1267\n",
              "                                          walk       794\n",
              "e429a95c532f1117130c11e4a18379d84fa4ffa9  bus        619\n",
              "                                          car        184\n",
              "eb9e7854290fd6ea9ebaf448b640fc1f1dbeb076  bus        357\n",
              "                                          train      158\n",
              "                                          walk       196\n",
              "ecfb0929250fb6dda66a4065441230ab27f094e5  car       1027\n",
              "                                          e-bike      79\n",
              "                                          train       21\n",
              "ed623d28c1e0071632a6110b8f8ed93f8af78b99  bus         71\n",
              "                                          car       2172\n",
              "                                          walk        16\n",
              "f1b7331b66e404c11eebb22933e733117bbb12c9  bike       393\n",
              "                                          car        776\n",
              "                                          walk       197\n",
              "f5edd999397145a2ec1b244226fc83f99631760c  bus        302\n",
              "                                          walk       118\n",
              "f7ae1ce141c26db40ea8b090fb568a0c965310aa  car        289\n",
              "faae5be800be2dfa897eea0bd2e5988cd53c4ec0  bike       541\n",
              "                                          car        225\n",
              "                                          walk       151\n",
              "Name: t_parted, dtype: int64"
            ]
          },
          "metadata": {},
          "execution_count": 377
        }
      ]
    },
    {
      "cell_type": "code",
      "source": [
        "ro3.to_frame()"
      ],
      "metadata": {
        "colab": {
          "base_uri": "https://localhost:8080/",
          "height": 1000
        },
        "id": "XcLqOJWGipbJ",
        "outputId": "2138f627-f392-4ae3-8c94-e1fa524718f0"
      },
      "execution_count": 378,
      "outputs": [
        {
          "output_type": "execute_result",
          "data": {
            "text/html": [
              "\n",
              "  <div id=\"df-7b8217ec-520b-4819-8b3c-6939e6aa6c90\">\n",
              "    <div class=\"colab-df-container\">\n",
              "      <div>\n",
              "<style scoped>\n",
              "    .dataframe tbody tr th:only-of-type {\n",
              "        vertical-align: middle;\n",
              "    }\n",
              "\n",
              "    .dataframe tbody tr th {\n",
              "        vertical-align: top;\n",
              "    }\n",
              "\n",
              "    .dataframe thead th {\n",
              "        text-align: right;\n",
              "    }\n",
              "</style>\n",
              "<table border=\"1\" class=\"dataframe\">\n",
              "  <thead>\n",
              "    <tr style=\"text-align: right;\">\n",
              "      <th></th>\n",
              "      <th></th>\n",
              "      <th>t_parted</th>\n",
              "    </tr>\n",
              "    <tr>\n",
              "      <th>user</th>\n",
              "      <th>class</th>\n",
              "      <th></th>\n",
              "    </tr>\n",
              "  </thead>\n",
              "  <tbody>\n",
              "    <tr>\n",
              "      <th>a2d80ed662f34d32951eb1c6ed076c313e358b73</th>\n",
              "      <th>bus</th>\n",
              "      <td>34</td>\n",
              "    </tr>\n",
              "    <tr>\n",
              "      <th rowspan=\"2\" valign=\"top\">a526f3566e9c9024dfa7378eb4291d787a09fd37</th>\n",
              "      <th>car</th>\n",
              "      <td>1542</td>\n",
              "    </tr>\n",
              "    <tr>\n",
              "      <th>walk</th>\n",
              "      <td>298</td>\n",
              "    </tr>\n",
              "    <tr>\n",
              "      <th rowspan=\"4\" valign=\"top\">a59868c6eb3645eedbb343ce8c336ec6f2ef2324</th>\n",
              "      <th>bike</th>\n",
              "      <td>565</td>\n",
              "    </tr>\n",
              "    <tr>\n",
              "      <th>bus</th>\n",
              "      <td>3853</td>\n",
              "    </tr>\n",
              "    <tr>\n",
              "      <th>car</th>\n",
              "      <td>2083</td>\n",
              "    </tr>\n",
              "    <tr>\n",
              "      <th>walk</th>\n",
              "      <td>824</td>\n",
              "    </tr>\n",
              "    <tr>\n",
              "      <th>a92dee88f61123f923dccec01eeecf1a81953b36</th>\n",
              "      <th>bus</th>\n",
              "      <td>729</td>\n",
              "    </tr>\n",
              "    <tr>\n",
              "      <th rowspan=\"2\" valign=\"top\">ac4c17afeb69b39169eb301ab592696a8f353976</th>\n",
              "      <th>car</th>\n",
              "      <td>62</td>\n",
              "    </tr>\n",
              "    <tr>\n",
              "      <th>walk</th>\n",
              "      <td>479</td>\n",
              "    </tr>\n",
              "    <tr>\n",
              "      <th rowspan=\"3\" valign=\"top\">adaaae1a67ea9e43abd60ba945eccda0cb8821e0</th>\n",
              "      <th>bus</th>\n",
              "      <td>1156</td>\n",
              "    </tr>\n",
              "    <tr>\n",
              "      <th>car</th>\n",
              "      <td>533</td>\n",
              "    </tr>\n",
              "    <tr>\n",
              "      <th>walk</th>\n",
              "      <td>153</td>\n",
              "    </tr>\n",
              "    <tr>\n",
              "      <th>b138d165100ef60bc793cac143742eb5aea4d6ba</th>\n",
              "      <th>car</th>\n",
              "      <td>415</td>\n",
              "    </tr>\n",
              "    <tr>\n",
              "      <th rowspan=\"2\" valign=\"top\">b45157069942d01310c3e7b74034166717bb25f9</th>\n",
              "      <th>car</th>\n",
              "      <td>428</td>\n",
              "    </tr>\n",
              "    <tr>\n",
              "      <th>walk</th>\n",
              "      <td>74</td>\n",
              "    </tr>\n",
              "    <tr>\n",
              "      <th rowspan=\"2\" valign=\"top\">b7b165e5637b5a0226068d907748f4bbfc61a320</th>\n",
              "      <th>car</th>\n",
              "      <td>2131</td>\n",
              "    </tr>\n",
              "    <tr>\n",
              "      <th>walk</th>\n",
              "      <td>203</td>\n",
              "    </tr>\n",
              "    <tr>\n",
              "      <th rowspan=\"2\" valign=\"top\">c453226e3616ae821cdcb38f38481c2a20f2482f</th>\n",
              "      <th>bike</th>\n",
              "      <td>501</td>\n",
              "    </tr>\n",
              "    <tr>\n",
              "      <th>bus</th>\n",
              "      <td>1467</td>\n",
              "    </tr>\n",
              "    <tr>\n",
              "      <th rowspan=\"3\" valign=\"top\">c5702d34b238fe68683f818e82cd3a3cd8a16366</th>\n",
              "      <th>bike</th>\n",
              "      <td>203</td>\n",
              "    </tr>\n",
              "    <tr>\n",
              "      <th>bus</th>\n",
              "      <td>198</td>\n",
              "    </tr>\n",
              "    <tr>\n",
              "      <th>walk</th>\n",
              "      <td>1239</td>\n",
              "    </tr>\n",
              "    <tr>\n",
              "      <th>ca7950f223a8037b897d0547075dc138f9e43b20</th>\n",
              "      <th>walk</th>\n",
              "      <td>64</td>\n",
              "    </tr>\n",
              "    <tr>\n",
              "      <th>cace4ec0999436917986b4fa6e9317262c897bc2</th>\n",
              "      <th>car</th>\n",
              "      <td>1150</td>\n",
              "    </tr>\n",
              "    <tr>\n",
              "      <th>cbde60baea002b694ecf2a3ff2d95be16b00efe1</th>\n",
              "      <th>bus</th>\n",
              "      <td>413</td>\n",
              "    </tr>\n",
              "    <tr>\n",
              "      <th rowspan=\"2\" valign=\"top\">ce39f5d0705695fcd70a04ba6d84ac6beecd6f9c</th>\n",
              "      <th>bus</th>\n",
              "      <td>447</td>\n",
              "    </tr>\n",
              "    <tr>\n",
              "      <th>car</th>\n",
              "      <td>505</td>\n",
              "    </tr>\n",
              "    <tr>\n",
              "      <th rowspan=\"3\" valign=\"top\">d429974540bfd38c3367fe9f0c8682775ff4fa18</th>\n",
              "      <th>bus</th>\n",
              "      <td>519</td>\n",
              "    </tr>\n",
              "    <tr>\n",
              "      <th>car</th>\n",
              "      <td>919</td>\n",
              "    </tr>\n",
              "    <tr>\n",
              "      <th>walk</th>\n",
              "      <td>101</td>\n",
              "    </tr>\n",
              "    <tr>\n",
              "      <th rowspan=\"3\" valign=\"top\">d7a1230d94f91a32cc079809748e52e8a4a6a22f</th>\n",
              "      <th>bike</th>\n",
              "      <td>368</td>\n",
              "    </tr>\n",
              "    <tr>\n",
              "      <th>train</th>\n",
              "      <td>418</td>\n",
              "    </tr>\n",
              "    <tr>\n",
              "      <th>walk</th>\n",
              "      <td>80</td>\n",
              "    </tr>\n",
              "    <tr>\n",
              "      <th>d7dd12d83c81574137f858034b99f4cc83ab0718</th>\n",
              "      <th>car</th>\n",
              "      <td>673</td>\n",
              "    </tr>\n",
              "    <tr>\n",
              "      <th rowspan=\"2\" valign=\"top\">d8c047eaaee204b7b5cd71e2d67308b87b038ed3</th>\n",
              "      <th>car</th>\n",
              "      <td>1761</td>\n",
              "    </tr>\n",
              "    <tr>\n",
              "      <th>walk</th>\n",
              "      <td>163</td>\n",
              "    </tr>\n",
              "    <tr>\n",
              "      <th rowspan=\"3\" valign=\"top\">dc0bdce306ec3b624fe0e6ecd1ffbd82cb970120</th>\n",
              "      <th>bike</th>\n",
              "      <td>573</td>\n",
              "    </tr>\n",
              "    <tr>\n",
              "      <th>car</th>\n",
              "      <td>147</td>\n",
              "    </tr>\n",
              "    <tr>\n",
              "      <th>walk</th>\n",
              "      <td>36</td>\n",
              "    </tr>\n",
              "    <tr>\n",
              "      <th rowspan=\"2\" valign=\"top\">dd82e3df4bebc74ed6b67877be79e29f401c16a3</th>\n",
              "      <th>car</th>\n",
              "      <td>938</td>\n",
              "    </tr>\n",
              "    <tr>\n",
              "      <th>walk</th>\n",
              "      <td>236</td>\n",
              "    </tr>\n",
              "    <tr>\n",
              "      <th rowspan=\"3\" valign=\"top\">dde95e125d89843f7032baa734ee4d34ec775aaf</th>\n",
              "      <th>bus</th>\n",
              "      <td>34</td>\n",
              "    </tr>\n",
              "    <tr>\n",
              "      <th>car</th>\n",
              "      <td>42</td>\n",
              "    </tr>\n",
              "    <tr>\n",
              "      <th>walk</th>\n",
              "      <td>50</td>\n",
              "    </tr>\n",
              "    <tr>\n",
              "      <th rowspan=\"2\" valign=\"top\">de9892b879c83ea3d24fb4560873107cc4e86d48</th>\n",
              "      <th>car</th>\n",
              "      <td>923</td>\n",
              "    </tr>\n",
              "    <tr>\n",
              "      <th>walk</th>\n",
              "      <td>336</td>\n",
              "    </tr>\n",
              "    <tr>\n",
              "      <th rowspan=\"3\" valign=\"top\">dfcfc0404691b73b69884073159f90843f2ac35b</th>\n",
              "      <th>bus</th>\n",
              "      <td>439</td>\n",
              "    </tr>\n",
              "    <tr>\n",
              "      <th>car</th>\n",
              "      <td>1267</td>\n",
              "    </tr>\n",
              "    <tr>\n",
              "      <th>walk</th>\n",
              "      <td>794</td>\n",
              "    </tr>\n",
              "    <tr>\n",
              "      <th rowspan=\"2\" valign=\"top\">e429a95c532f1117130c11e4a18379d84fa4ffa9</th>\n",
              "      <th>bus</th>\n",
              "      <td>619</td>\n",
              "    </tr>\n",
              "    <tr>\n",
              "      <th>car</th>\n",
              "      <td>184</td>\n",
              "    </tr>\n",
              "    <tr>\n",
              "      <th rowspan=\"3\" valign=\"top\">eb9e7854290fd6ea9ebaf448b640fc1f1dbeb076</th>\n",
              "      <th>bus</th>\n",
              "      <td>357</td>\n",
              "    </tr>\n",
              "    <tr>\n",
              "      <th>train</th>\n",
              "      <td>158</td>\n",
              "    </tr>\n",
              "    <tr>\n",
              "      <th>walk</th>\n",
              "      <td>196</td>\n",
              "    </tr>\n",
              "    <tr>\n",
              "      <th rowspan=\"3\" valign=\"top\">ecfb0929250fb6dda66a4065441230ab27f094e5</th>\n",
              "      <th>car</th>\n",
              "      <td>1027</td>\n",
              "    </tr>\n",
              "    <tr>\n",
              "      <th>e-bike</th>\n",
              "      <td>79</td>\n",
              "    </tr>\n",
              "    <tr>\n",
              "      <th>train</th>\n",
              "      <td>21</td>\n",
              "    </tr>\n",
              "    <tr>\n",
              "      <th rowspan=\"3\" valign=\"top\">ed623d28c1e0071632a6110b8f8ed93f8af78b99</th>\n",
              "      <th>bus</th>\n",
              "      <td>71</td>\n",
              "    </tr>\n",
              "    <tr>\n",
              "      <th>car</th>\n",
              "      <td>2172</td>\n",
              "    </tr>\n",
              "    <tr>\n",
              "      <th>walk</th>\n",
              "      <td>16</td>\n",
              "    </tr>\n",
              "    <tr>\n",
              "      <th rowspan=\"3\" valign=\"top\">f1b7331b66e404c11eebb22933e733117bbb12c9</th>\n",
              "      <th>bike</th>\n",
              "      <td>393</td>\n",
              "    </tr>\n",
              "    <tr>\n",
              "      <th>car</th>\n",
              "      <td>776</td>\n",
              "    </tr>\n",
              "    <tr>\n",
              "      <th>walk</th>\n",
              "      <td>197</td>\n",
              "    </tr>\n",
              "    <tr>\n",
              "      <th rowspan=\"2\" valign=\"top\">f5edd999397145a2ec1b244226fc83f99631760c</th>\n",
              "      <th>bus</th>\n",
              "      <td>302</td>\n",
              "    </tr>\n",
              "    <tr>\n",
              "      <th>walk</th>\n",
              "      <td>118</td>\n",
              "    </tr>\n",
              "    <tr>\n",
              "      <th>f7ae1ce141c26db40ea8b090fb568a0c965310aa</th>\n",
              "      <th>car</th>\n",
              "      <td>289</td>\n",
              "    </tr>\n",
              "    <tr>\n",
              "      <th rowspan=\"3\" valign=\"top\">faae5be800be2dfa897eea0bd2e5988cd53c4ec0</th>\n",
              "      <th>bike</th>\n",
              "      <td>541</td>\n",
              "    </tr>\n",
              "    <tr>\n",
              "      <th>car</th>\n",
              "      <td>225</td>\n",
              "    </tr>\n",
              "    <tr>\n",
              "      <th>walk</th>\n",
              "      <td>151</td>\n",
              "    </tr>\n",
              "  </tbody>\n",
              "</table>\n",
              "</div>\n",
              "      <button class=\"colab-df-convert\" onclick=\"convertToInteractive('df-7b8217ec-520b-4819-8b3c-6939e6aa6c90')\"\n",
              "              title=\"Convert this dataframe to an interactive table.\"\n",
              "              style=\"display:none;\">\n",
              "        \n",
              "  <svg xmlns=\"http://www.w3.org/2000/svg\" height=\"24px\"viewBox=\"0 0 24 24\"\n",
              "       width=\"24px\">\n",
              "    <path d=\"M0 0h24v24H0V0z\" fill=\"none\"/>\n",
              "    <path d=\"M18.56 5.44l.94 2.06.94-2.06 2.06-.94-2.06-.94-.94-2.06-.94 2.06-2.06.94zm-11 1L8.5 8.5l.94-2.06 2.06-.94-2.06-.94L8.5 2.5l-.94 2.06-2.06.94zm10 10l.94 2.06.94-2.06 2.06-.94-2.06-.94-.94-2.06-.94 2.06-2.06.94z\"/><path d=\"M17.41 7.96l-1.37-1.37c-.4-.4-.92-.59-1.43-.59-.52 0-1.04.2-1.43.59L10.3 9.45l-7.72 7.72c-.78.78-.78 2.05 0 2.83L4 21.41c.39.39.9.59 1.41.59.51 0 1.02-.2 1.41-.59l7.78-7.78 2.81-2.81c.8-.78.8-2.07 0-2.86zM5.41 20L4 18.59l7.72-7.72 1.47 1.35L5.41 20z\"/>\n",
              "  </svg>\n",
              "      </button>\n",
              "      \n",
              "  <style>\n",
              "    .colab-df-container {\n",
              "      display:flex;\n",
              "      flex-wrap:wrap;\n",
              "      gap: 12px;\n",
              "    }\n",
              "\n",
              "    .colab-df-convert {\n",
              "      background-color: #E8F0FE;\n",
              "      border: none;\n",
              "      border-radius: 50%;\n",
              "      cursor: pointer;\n",
              "      display: none;\n",
              "      fill: #1967D2;\n",
              "      height: 32px;\n",
              "      padding: 0 0 0 0;\n",
              "      width: 32px;\n",
              "    }\n",
              "\n",
              "    .colab-df-convert:hover {\n",
              "      background-color: #E2EBFA;\n",
              "      box-shadow: 0px 1px 2px rgba(60, 64, 67, 0.3), 0px 1px 3px 1px rgba(60, 64, 67, 0.15);\n",
              "      fill: #174EA6;\n",
              "    }\n",
              "\n",
              "    [theme=dark] .colab-df-convert {\n",
              "      background-color: #3B4455;\n",
              "      fill: #D2E3FC;\n",
              "    }\n",
              "\n",
              "    [theme=dark] .colab-df-convert:hover {\n",
              "      background-color: #434B5C;\n",
              "      box-shadow: 0px 1px 3px 1px rgba(0, 0, 0, 0.15);\n",
              "      filter: drop-shadow(0px 1px 2px rgba(0, 0, 0, 0.3));\n",
              "      fill: #FFFFFF;\n",
              "    }\n",
              "  </style>\n",
              "\n",
              "      <script>\n",
              "        const buttonEl =\n",
              "          document.querySelector('#df-7b8217ec-520b-4819-8b3c-6939e6aa6c90 button.colab-df-convert');\n",
              "        buttonEl.style.display =\n",
              "          google.colab.kernel.accessAllowed ? 'block' : 'none';\n",
              "\n",
              "        async function convertToInteractive(key) {\n",
              "          const element = document.querySelector('#df-7b8217ec-520b-4819-8b3c-6939e6aa6c90');\n",
              "          const dataTable =\n",
              "            await google.colab.kernel.invokeFunction('convertToInteractive',\n",
              "                                                     [key], {});\n",
              "          if (!dataTable) return;\n",
              "\n",
              "          const docLinkHtml = 'Like what you see? Visit the ' +\n",
              "            '<a target=\"_blank\" href=https://colab.research.google.com/notebooks/data_table.ipynb>data table notebook</a>'\n",
              "            + ' to learn more about interactive tables.';\n",
              "          element.innerHTML = '';\n",
              "          dataTable['output_type'] = 'display_data';\n",
              "          await google.colab.output.renderOutput(dataTable, element);\n",
              "          const docLink = document.createElement('div');\n",
              "          docLink.innerHTML = docLinkHtml;\n",
              "          element.appendChild(docLink);\n",
              "        }\n",
              "      </script>\n",
              "    </div>\n",
              "  </div>\n",
              "  "
            ],
            "text/plain": [
              "                                                 t_parted\n",
              "user                                     class           \n",
              "a2d80ed662f34d32951eb1c6ed076c313e358b73 bus           34\n",
              "a526f3566e9c9024dfa7378eb4291d787a09fd37 car         1542\n",
              "                                         walk         298\n",
              "a59868c6eb3645eedbb343ce8c336ec6f2ef2324 bike         565\n",
              "                                         bus         3853\n",
              "                                         car         2083\n",
              "                                         walk         824\n",
              "a92dee88f61123f923dccec01eeecf1a81953b36 bus          729\n",
              "ac4c17afeb69b39169eb301ab592696a8f353976 car           62\n",
              "                                         walk         479\n",
              "adaaae1a67ea9e43abd60ba945eccda0cb8821e0 bus         1156\n",
              "                                         car          533\n",
              "                                         walk         153\n",
              "b138d165100ef60bc793cac143742eb5aea4d6ba car          415\n",
              "b45157069942d01310c3e7b74034166717bb25f9 car          428\n",
              "                                         walk          74\n",
              "b7b165e5637b5a0226068d907748f4bbfc61a320 car         2131\n",
              "                                         walk         203\n",
              "c453226e3616ae821cdcb38f38481c2a20f2482f bike         501\n",
              "                                         bus         1467\n",
              "c5702d34b238fe68683f818e82cd3a3cd8a16366 bike         203\n",
              "                                         bus          198\n",
              "                                         walk        1239\n",
              "ca7950f223a8037b897d0547075dc138f9e43b20 walk          64\n",
              "cace4ec0999436917986b4fa6e9317262c897bc2 car         1150\n",
              "cbde60baea002b694ecf2a3ff2d95be16b00efe1 bus          413\n",
              "ce39f5d0705695fcd70a04ba6d84ac6beecd6f9c bus          447\n",
              "                                         car          505\n",
              "d429974540bfd38c3367fe9f0c8682775ff4fa18 bus          519\n",
              "                                         car          919\n",
              "                                         walk         101\n",
              "d7a1230d94f91a32cc079809748e52e8a4a6a22f bike         368\n",
              "                                         train        418\n",
              "                                         walk          80\n",
              "d7dd12d83c81574137f858034b99f4cc83ab0718 car          673\n",
              "d8c047eaaee204b7b5cd71e2d67308b87b038ed3 car         1761\n",
              "                                         walk         163\n",
              "dc0bdce306ec3b624fe0e6ecd1ffbd82cb970120 bike         573\n",
              "                                         car          147\n",
              "                                         walk          36\n",
              "dd82e3df4bebc74ed6b67877be79e29f401c16a3 car          938\n",
              "                                         walk         236\n",
              "dde95e125d89843f7032baa734ee4d34ec775aaf bus           34\n",
              "                                         car           42\n",
              "                                         walk          50\n",
              "de9892b879c83ea3d24fb4560873107cc4e86d48 car          923\n",
              "                                         walk         336\n",
              "dfcfc0404691b73b69884073159f90843f2ac35b bus          439\n",
              "                                         car         1267\n",
              "                                         walk         794\n",
              "e429a95c532f1117130c11e4a18379d84fa4ffa9 bus          619\n",
              "                                         car          184\n",
              "eb9e7854290fd6ea9ebaf448b640fc1f1dbeb076 bus          357\n",
              "                                         train        158\n",
              "                                         walk         196\n",
              "ecfb0929250fb6dda66a4065441230ab27f094e5 car         1027\n",
              "                                         e-bike        79\n",
              "                                         train         21\n",
              "ed623d28c1e0071632a6110b8f8ed93f8af78b99 bus           71\n",
              "                                         car         2172\n",
              "                                         walk          16\n",
              "f1b7331b66e404c11eebb22933e733117bbb12c9 bike         393\n",
              "                                         car          776\n",
              "                                         walk         197\n",
              "f5edd999397145a2ec1b244226fc83f99631760c bus          302\n",
              "                                         walk         118\n",
              "f7ae1ce141c26db40ea8b090fb568a0c965310aa car          289\n",
              "faae5be800be2dfa897eea0bd2e5988cd53c4ec0 bike         541\n",
              "                                         car          225\n",
              "                                         walk         151"
            ]
          },
          "metadata": {},
          "execution_count": 378
        }
      ]
    },
    {
      "cell_type": "code",
      "source": [
        ""
      ],
      "metadata": {
        "id": "qUirA2CkjBOt"
      },
      "execution_count": null,
      "outputs": []
    },
    {
      "cell_type": "code",
      "source": [
        "df1['seq'].unique()"
      ],
      "metadata": {
        "colab": {
          "base_uri": "https://localhost:8080/"
        },
        "id": "mF4MuCydOOfc",
        "outputId": "b1fdfd59-059d-438d-a12b-796b0ca37f96"
      },
      "execution_count": 379,
      "outputs": [
        {
          "output_type": "execute_result",
          "data": {
            "text/plain": [
              "array([   1,    2,    3, ..., 3376, 3377, 3378])"
            ]
          },
          "metadata": {},
          "execution_count": 379
        }
      ]
    },
    {
      "cell_type": "code",
      "source": [
        "df1['seq_new'] = df1['seq'].shift(1, axis = 0)\n",
        "# df1"
      ],
      "metadata": {
        "id": "h4_2M3dVejY8"
      },
      "execution_count": 380,
      "outputs": []
    },
    {
      "cell_type": "code",
      "source": [
        "df1['t_parted'].head()"
      ],
      "metadata": {
        "colab": {
          "base_uri": "https://localhost:8080/"
        },
        "id": "q30w627sHYDf",
        "outputId": "e8dc2b9a-cf4e-43fc-d1f1-cd9f4961fcc6"
      },
      "execution_count": 148,
      "outputs": [
        {
          "output_type": "execute_result",
          "data": {
            "text/plain": [
              "0    1#0\n",
              "1    1#0\n",
              "2    1#0\n",
              "3    1#0\n",
              "4    1#0\n",
              "Name: t_parted, dtype: object"
            ]
          },
          "metadata": {},
          "execution_count": 148
        }
      ]
    },
    {
      "cell_type": "code",
      "source": [
        "end1 = time.time()"
      ],
      "metadata": {
        "id": "kz3sQKQ8ihPu"
      },
      "execution_count": 381,
      "outputs": []
    },
    {
      "cell_type": "code",
      "source": [
        "print(end1 - start1)"
      ],
      "metadata": {
        "colab": {
          "base_uri": "https://localhost:8080/"
        },
        "id": "-fSq94ICik53",
        "outputId": "aab8f6a4-36d7-4b87-ee7f-138e3161efac"
      },
      "execution_count": 382,
      "outputs": [
        {
          "output_type": "stream",
          "name": "stdout",
          "text": [
            "33.26167678833008\n"
          ]
        }
      ]
    },
    {
      "cell_type": "markdown",
      "source": [
        "##Q.4 FEATURE EXTRACTION"
      ],
      "metadata": {
        "id": "n8uAMGqRcQ8Q"
      }
    },
    {
      "cell_type": "code",
      "source": [
        "##Created a 2D array and appended features \n",
        "features = []\n",
        "\n",
        "features.append([df1.groupby('t_parted')['x'].mean(),df1.groupby('t_parted')['y'].mean(),df1.groupby('t_parted')['z'].mean(),df1.groupby('t_parted')['x'].std(),df1.groupby('t_parted')['y'].std(),df1.groupby('t_parted')['z'].std(),df1.groupby('t_parted')['x'].min(),df1.groupby('t_parted')['y'].min(),df1.groupby('t_parted')['z'].min(),df1.groupby('t_parted')['x'].max(),df1.groupby('t_parted')['y'].max(),df1.groupby('t_parted')['z'].max(),df1.groupby('t_parted')['class'].unique()])"
      ],
      "metadata": {
        "id": "JHkg4NjmJDoG"
      },
      "execution_count": 149,
      "outputs": []
    },
    {
      "cell_type": "code",
      "source": [
        "df_final = pd.concat([features[0][0],features[0][1],features[0][2],features[0][3],features[0][4],features[0][5],features[0][6],features[0][7],features[0][8],features[0][9],features[0][10],features[0][11],features[0][12]],axis = 1)"
      ],
      "metadata": {
        "id": "Shx2BltvwAUb"
      },
      "execution_count": 249,
      "outputs": []
    },
    {
      "cell_type": "code",
      "source": [
        "df_final = df_final.reset_index()"
      ],
      "metadata": {
        "id": "bZC8FRMxBzpn"
      },
      "execution_count": 250,
      "outputs": []
    },
    {
      "cell_type": "code",
      "source": [
        "df_final.head()"
      ],
      "metadata": {
        "colab": {
          "base_uri": "https://localhost:8080/",
          "height": 206
        },
        "id": "pNfhL9rgB146",
        "outputId": "d4337a7f-370c-4ed1-c56c-2e9db5c173f4"
      },
      "execution_count": 251,
      "outputs": [
        {
          "output_type": "execute_result",
          "data": {
            "text/html": [
              "\n",
              "  <div id=\"df-1ee77a1e-1a44-49cc-88af-2220a9b5fbd5\">\n",
              "    <div class=\"colab-df-container\">\n",
              "      <div>\n",
              "<style scoped>\n",
              "    .dataframe tbody tr th:only-of-type {\n",
              "        vertical-align: middle;\n",
              "    }\n",
              "\n",
              "    .dataframe tbody tr th {\n",
              "        vertical-align: top;\n",
              "    }\n",
              "\n",
              "    .dataframe thead th {\n",
              "        text-align: right;\n",
              "    }\n",
              "</style>\n",
              "<table border=\"1\" class=\"dataframe\">\n",
              "  <thead>\n",
              "    <tr style=\"text-align: right;\">\n",
              "      <th></th>\n",
              "      <th>t_parted</th>\n",
              "      <th>x</th>\n",
              "      <th>y</th>\n",
              "      <th>z</th>\n",
              "      <th>x</th>\n",
              "      <th>y</th>\n",
              "      <th>z</th>\n",
              "      <th>x</th>\n",
              "      <th>y</th>\n",
              "      <th>z</th>\n",
              "      <th>x</th>\n",
              "      <th>y</th>\n",
              "      <th>z</th>\n",
              "      <th>class</th>\n",
              "    </tr>\n",
              "  </thead>\n",
              "  <tbody>\n",
              "    <tr>\n",
              "      <th>0</th>\n",
              "      <td>1#0</td>\n",
              "      <td>0.800141</td>\n",
              "      <td>-9.127324</td>\n",
              "      <td>-3.747606</td>\n",
              "      <td>0.022135</td>\n",
              "      <td>0.018513</td>\n",
              "      <td>0.028709</td>\n",
              "      <td>0.75</td>\n",
              "      <td>-9.18</td>\n",
              "      <td>-3.81</td>\n",
              "      <td>0.85</td>\n",
              "      <td>-9.08</td>\n",
              "      <td>-3.67</td>\n",
              "      <td>[bus]</td>\n",
              "    </tr>\n",
              "    <tr>\n",
              "      <th>1</th>\n",
              "      <td>1#1</td>\n",
              "      <td>0.810000</td>\n",
              "      <td>-9.118000</td>\n",
              "      <td>-3.747333</td>\n",
              "      <td>0.016903</td>\n",
              "      <td>0.016125</td>\n",
              "      <td>0.021202</td>\n",
              "      <td>0.77</td>\n",
              "      <td>-9.14</td>\n",
              "      <td>-3.78</td>\n",
              "      <td>0.83</td>\n",
              "      <td>-9.09</td>\n",
              "      <td>-3.70</td>\n",
              "      <td>[bus]</td>\n",
              "    </tr>\n",
              "    <tr>\n",
              "      <th>2</th>\n",
              "      <td>10#0</td>\n",
              "      <td>1.850496</td>\n",
              "      <td>-8.079362</td>\n",
              "      <td>-5.522057</td>\n",
              "      <td>0.586150</td>\n",
              "      <td>0.534036</td>\n",
              "      <td>0.646008</td>\n",
              "      <td>0.37</td>\n",
              "      <td>-9.38</td>\n",
              "      <td>-6.40</td>\n",
              "      <td>3.43</td>\n",
              "      <td>-7.10</td>\n",
              "      <td>-3.44</td>\n",
              "      <td>[bus]</td>\n",
              "    </tr>\n",
              "    <tr>\n",
              "      <th>3</th>\n",
              "      <td>10#1</td>\n",
              "      <td>2.299412</td>\n",
              "      <td>-7.336471</td>\n",
              "      <td>-6.140000</td>\n",
              "      <td>0.168355</td>\n",
              "      <td>0.243258</td>\n",
              "      <td>0.296036</td>\n",
              "      <td>1.97</td>\n",
              "      <td>-7.75</td>\n",
              "      <td>-6.64</td>\n",
              "      <td>2.52</td>\n",
              "      <td>-6.87</td>\n",
              "      <td>-5.72</td>\n",
              "      <td>[bus]</td>\n",
              "    </tr>\n",
              "    <tr>\n",
              "      <th>4</th>\n",
              "      <td>100#0</td>\n",
              "      <td>-9.105484</td>\n",
              "      <td>2.604194</td>\n",
              "      <td>2.703226</td>\n",
              "      <td>0.405338</td>\n",
              "      <td>0.214084</td>\n",
              "      <td>0.482669</td>\n",
              "      <td>-10.05</td>\n",
              "      <td>2.26</td>\n",
              "      <td>1.96</td>\n",
              "      <td>-8.43</td>\n",
              "      <td>3.15</td>\n",
              "      <td>3.51</td>\n",
              "      <td>[car]</td>\n",
              "    </tr>\n",
              "  </tbody>\n",
              "</table>\n",
              "</div>\n",
              "      <button class=\"colab-df-convert\" onclick=\"convertToInteractive('df-1ee77a1e-1a44-49cc-88af-2220a9b5fbd5')\"\n",
              "              title=\"Convert this dataframe to an interactive table.\"\n",
              "              style=\"display:none;\">\n",
              "        \n",
              "  <svg xmlns=\"http://www.w3.org/2000/svg\" height=\"24px\"viewBox=\"0 0 24 24\"\n",
              "       width=\"24px\">\n",
              "    <path d=\"M0 0h24v24H0V0z\" fill=\"none\"/>\n",
              "    <path d=\"M18.56 5.44l.94 2.06.94-2.06 2.06-.94-2.06-.94-.94-2.06-.94 2.06-2.06.94zm-11 1L8.5 8.5l.94-2.06 2.06-.94-2.06-.94L8.5 2.5l-.94 2.06-2.06.94zm10 10l.94 2.06.94-2.06 2.06-.94-2.06-.94-.94-2.06-.94 2.06-2.06.94z\"/><path d=\"M17.41 7.96l-1.37-1.37c-.4-.4-.92-.59-1.43-.59-.52 0-1.04.2-1.43.59L10.3 9.45l-7.72 7.72c-.78.78-.78 2.05 0 2.83L4 21.41c.39.39.9.59 1.41.59.51 0 1.02-.2 1.41-.59l7.78-7.78 2.81-2.81c.8-.78.8-2.07 0-2.86zM5.41 20L4 18.59l7.72-7.72 1.47 1.35L5.41 20z\"/>\n",
              "  </svg>\n",
              "      </button>\n",
              "      \n",
              "  <style>\n",
              "    .colab-df-container {\n",
              "      display:flex;\n",
              "      flex-wrap:wrap;\n",
              "      gap: 12px;\n",
              "    }\n",
              "\n",
              "    .colab-df-convert {\n",
              "      background-color: #E8F0FE;\n",
              "      border: none;\n",
              "      border-radius: 50%;\n",
              "      cursor: pointer;\n",
              "      display: none;\n",
              "      fill: #1967D2;\n",
              "      height: 32px;\n",
              "      padding: 0 0 0 0;\n",
              "      width: 32px;\n",
              "    }\n",
              "\n",
              "    .colab-df-convert:hover {\n",
              "      background-color: #E2EBFA;\n",
              "      box-shadow: 0px 1px 2px rgba(60, 64, 67, 0.3), 0px 1px 3px 1px rgba(60, 64, 67, 0.15);\n",
              "      fill: #174EA6;\n",
              "    }\n",
              "\n",
              "    [theme=dark] .colab-df-convert {\n",
              "      background-color: #3B4455;\n",
              "      fill: #D2E3FC;\n",
              "    }\n",
              "\n",
              "    [theme=dark] .colab-df-convert:hover {\n",
              "      background-color: #434B5C;\n",
              "      box-shadow: 0px 1px 3px 1px rgba(0, 0, 0, 0.15);\n",
              "      filter: drop-shadow(0px 1px 2px rgba(0, 0, 0, 0.3));\n",
              "      fill: #FFFFFF;\n",
              "    }\n",
              "  </style>\n",
              "\n",
              "      <script>\n",
              "        const buttonEl =\n",
              "          document.querySelector('#df-1ee77a1e-1a44-49cc-88af-2220a9b5fbd5 button.colab-df-convert');\n",
              "        buttonEl.style.display =\n",
              "          google.colab.kernel.accessAllowed ? 'block' : 'none';\n",
              "\n",
              "        async function convertToInteractive(key) {\n",
              "          const element = document.querySelector('#df-1ee77a1e-1a44-49cc-88af-2220a9b5fbd5');\n",
              "          const dataTable =\n",
              "            await google.colab.kernel.invokeFunction('convertToInteractive',\n",
              "                                                     [key], {});\n",
              "          if (!dataTable) return;\n",
              "\n",
              "          const docLinkHtml = 'Like what you see? Visit the ' +\n",
              "            '<a target=\"_blank\" href=https://colab.research.google.com/notebooks/data_table.ipynb>data table notebook</a>'\n",
              "            + ' to learn more about interactive tables.';\n",
              "          element.innerHTML = '';\n",
              "          dataTable['output_type'] = 'display_data';\n",
              "          await google.colab.output.renderOutput(dataTable, element);\n",
              "          const docLink = document.createElement('div');\n",
              "          docLink.innerHTML = docLinkHtml;\n",
              "          element.appendChild(docLink);\n",
              "        }\n",
              "      </script>\n",
              "    </div>\n",
              "  </div>\n",
              "  "
            ],
            "text/plain": [
              "  t_parted         x         y         z         x         y         z      x  \\\n",
              "0      1#0  0.800141 -9.127324 -3.747606  0.022135  0.018513  0.028709   0.75   \n",
              "1      1#1  0.810000 -9.118000 -3.747333  0.016903  0.016125  0.021202   0.77   \n",
              "2     10#0  1.850496 -8.079362 -5.522057  0.586150  0.534036  0.646008   0.37   \n",
              "3     10#1  2.299412 -7.336471 -6.140000  0.168355  0.243258  0.296036   1.97   \n",
              "4    100#0 -9.105484  2.604194  2.703226  0.405338  0.214084  0.482669 -10.05   \n",
              "\n",
              "      y     z     x     y     z  class  \n",
              "0 -9.18 -3.81  0.85 -9.08 -3.67  [bus]  \n",
              "1 -9.14 -3.78  0.83 -9.09 -3.70  [bus]  \n",
              "2 -9.38 -6.40  3.43 -7.10 -3.44  [bus]  \n",
              "3 -7.75 -6.64  2.52 -6.87 -5.72  [bus]  \n",
              "4  2.26  1.96 -8.43  3.15  3.51  [car]  "
            ]
          },
          "metadata": {},
          "execution_count": 251
        }
      ]
    },
    {
      "cell_type": "code",
      "source": [
        "df_final['cls'] = (np.zeros(df_final.shape[0],int))"
      ],
      "metadata": {
        "id": "poOSdZ5gB9CQ"
      },
      "execution_count": 252,
      "outputs": []
    },
    {
      "cell_type": "code",
      "source": [
        "df_final.head()"
      ],
      "metadata": {
        "colab": {
          "base_uri": "https://localhost:8080/",
          "height": 206
        },
        "id": "_qY_0z6vCCqP",
        "outputId": "89bbee32-3555-46b2-cede-4ba43b90c13f"
      },
      "execution_count": 253,
      "outputs": [
        {
          "output_type": "execute_result",
          "data": {
            "text/html": [
              "\n",
              "  <div id=\"df-fb0e219f-4c21-46de-a4eb-fc141398d879\">\n",
              "    <div class=\"colab-df-container\">\n",
              "      <div>\n",
              "<style scoped>\n",
              "    .dataframe tbody tr th:only-of-type {\n",
              "        vertical-align: middle;\n",
              "    }\n",
              "\n",
              "    .dataframe tbody tr th {\n",
              "        vertical-align: top;\n",
              "    }\n",
              "\n",
              "    .dataframe thead th {\n",
              "        text-align: right;\n",
              "    }\n",
              "</style>\n",
              "<table border=\"1\" class=\"dataframe\">\n",
              "  <thead>\n",
              "    <tr style=\"text-align: right;\">\n",
              "      <th></th>\n",
              "      <th>t_parted</th>\n",
              "      <th>x</th>\n",
              "      <th>y</th>\n",
              "      <th>z</th>\n",
              "      <th>x</th>\n",
              "      <th>y</th>\n",
              "      <th>z</th>\n",
              "      <th>x</th>\n",
              "      <th>y</th>\n",
              "      <th>z</th>\n",
              "      <th>x</th>\n",
              "      <th>y</th>\n",
              "      <th>z</th>\n",
              "      <th>class</th>\n",
              "      <th>cls</th>\n",
              "    </tr>\n",
              "  </thead>\n",
              "  <tbody>\n",
              "    <tr>\n",
              "      <th>0</th>\n",
              "      <td>1#0</td>\n",
              "      <td>0.800141</td>\n",
              "      <td>-9.127324</td>\n",
              "      <td>-3.747606</td>\n",
              "      <td>0.022135</td>\n",
              "      <td>0.018513</td>\n",
              "      <td>0.028709</td>\n",
              "      <td>0.75</td>\n",
              "      <td>-9.18</td>\n",
              "      <td>-3.81</td>\n",
              "      <td>0.85</td>\n",
              "      <td>-9.08</td>\n",
              "      <td>-3.67</td>\n",
              "      <td>[bus]</td>\n",
              "      <td>0</td>\n",
              "    </tr>\n",
              "    <tr>\n",
              "      <th>1</th>\n",
              "      <td>1#1</td>\n",
              "      <td>0.810000</td>\n",
              "      <td>-9.118000</td>\n",
              "      <td>-3.747333</td>\n",
              "      <td>0.016903</td>\n",
              "      <td>0.016125</td>\n",
              "      <td>0.021202</td>\n",
              "      <td>0.77</td>\n",
              "      <td>-9.14</td>\n",
              "      <td>-3.78</td>\n",
              "      <td>0.83</td>\n",
              "      <td>-9.09</td>\n",
              "      <td>-3.70</td>\n",
              "      <td>[bus]</td>\n",
              "      <td>0</td>\n",
              "    </tr>\n",
              "    <tr>\n",
              "      <th>2</th>\n",
              "      <td>10#0</td>\n",
              "      <td>1.850496</td>\n",
              "      <td>-8.079362</td>\n",
              "      <td>-5.522057</td>\n",
              "      <td>0.586150</td>\n",
              "      <td>0.534036</td>\n",
              "      <td>0.646008</td>\n",
              "      <td>0.37</td>\n",
              "      <td>-9.38</td>\n",
              "      <td>-6.40</td>\n",
              "      <td>3.43</td>\n",
              "      <td>-7.10</td>\n",
              "      <td>-3.44</td>\n",
              "      <td>[bus]</td>\n",
              "      <td>0</td>\n",
              "    </tr>\n",
              "    <tr>\n",
              "      <th>3</th>\n",
              "      <td>10#1</td>\n",
              "      <td>2.299412</td>\n",
              "      <td>-7.336471</td>\n",
              "      <td>-6.140000</td>\n",
              "      <td>0.168355</td>\n",
              "      <td>0.243258</td>\n",
              "      <td>0.296036</td>\n",
              "      <td>1.97</td>\n",
              "      <td>-7.75</td>\n",
              "      <td>-6.64</td>\n",
              "      <td>2.52</td>\n",
              "      <td>-6.87</td>\n",
              "      <td>-5.72</td>\n",
              "      <td>[bus]</td>\n",
              "      <td>0</td>\n",
              "    </tr>\n",
              "    <tr>\n",
              "      <th>4</th>\n",
              "      <td>100#0</td>\n",
              "      <td>-9.105484</td>\n",
              "      <td>2.604194</td>\n",
              "      <td>2.703226</td>\n",
              "      <td>0.405338</td>\n",
              "      <td>0.214084</td>\n",
              "      <td>0.482669</td>\n",
              "      <td>-10.05</td>\n",
              "      <td>2.26</td>\n",
              "      <td>1.96</td>\n",
              "      <td>-8.43</td>\n",
              "      <td>3.15</td>\n",
              "      <td>3.51</td>\n",
              "      <td>[car]</td>\n",
              "      <td>0</td>\n",
              "    </tr>\n",
              "  </tbody>\n",
              "</table>\n",
              "</div>\n",
              "      <button class=\"colab-df-convert\" onclick=\"convertToInteractive('df-fb0e219f-4c21-46de-a4eb-fc141398d879')\"\n",
              "              title=\"Convert this dataframe to an interactive table.\"\n",
              "              style=\"display:none;\">\n",
              "        \n",
              "  <svg xmlns=\"http://www.w3.org/2000/svg\" height=\"24px\"viewBox=\"0 0 24 24\"\n",
              "       width=\"24px\">\n",
              "    <path d=\"M0 0h24v24H0V0z\" fill=\"none\"/>\n",
              "    <path d=\"M18.56 5.44l.94 2.06.94-2.06 2.06-.94-2.06-.94-.94-2.06-.94 2.06-2.06.94zm-11 1L8.5 8.5l.94-2.06 2.06-.94-2.06-.94L8.5 2.5l-.94 2.06-2.06.94zm10 10l.94 2.06.94-2.06 2.06-.94-2.06-.94-.94-2.06-.94 2.06-2.06.94z\"/><path d=\"M17.41 7.96l-1.37-1.37c-.4-.4-.92-.59-1.43-.59-.52 0-1.04.2-1.43.59L10.3 9.45l-7.72 7.72c-.78.78-.78 2.05 0 2.83L4 21.41c.39.39.9.59 1.41.59.51 0 1.02-.2 1.41-.59l7.78-7.78 2.81-2.81c.8-.78.8-2.07 0-2.86zM5.41 20L4 18.59l7.72-7.72 1.47 1.35L5.41 20z\"/>\n",
              "  </svg>\n",
              "      </button>\n",
              "      \n",
              "  <style>\n",
              "    .colab-df-container {\n",
              "      display:flex;\n",
              "      flex-wrap:wrap;\n",
              "      gap: 12px;\n",
              "    }\n",
              "\n",
              "    .colab-df-convert {\n",
              "      background-color: #E8F0FE;\n",
              "      border: none;\n",
              "      border-radius: 50%;\n",
              "      cursor: pointer;\n",
              "      display: none;\n",
              "      fill: #1967D2;\n",
              "      height: 32px;\n",
              "      padding: 0 0 0 0;\n",
              "      width: 32px;\n",
              "    }\n",
              "\n",
              "    .colab-df-convert:hover {\n",
              "      background-color: #E2EBFA;\n",
              "      box-shadow: 0px 1px 2px rgba(60, 64, 67, 0.3), 0px 1px 3px 1px rgba(60, 64, 67, 0.15);\n",
              "      fill: #174EA6;\n",
              "    }\n",
              "\n",
              "    [theme=dark] .colab-df-convert {\n",
              "      background-color: #3B4455;\n",
              "      fill: #D2E3FC;\n",
              "    }\n",
              "\n",
              "    [theme=dark] .colab-df-convert:hover {\n",
              "      background-color: #434B5C;\n",
              "      box-shadow: 0px 1px 3px 1px rgba(0, 0, 0, 0.15);\n",
              "      filter: drop-shadow(0px 1px 2px rgba(0, 0, 0, 0.3));\n",
              "      fill: #FFFFFF;\n",
              "    }\n",
              "  </style>\n",
              "\n",
              "      <script>\n",
              "        const buttonEl =\n",
              "          document.querySelector('#df-fb0e219f-4c21-46de-a4eb-fc141398d879 button.colab-df-convert');\n",
              "        buttonEl.style.display =\n",
              "          google.colab.kernel.accessAllowed ? 'block' : 'none';\n",
              "\n",
              "        async function convertToInteractive(key) {\n",
              "          const element = document.querySelector('#df-fb0e219f-4c21-46de-a4eb-fc141398d879');\n",
              "          const dataTable =\n",
              "            await google.colab.kernel.invokeFunction('convertToInteractive',\n",
              "                                                     [key], {});\n",
              "          if (!dataTable) return;\n",
              "\n",
              "          const docLinkHtml = 'Like what you see? Visit the ' +\n",
              "            '<a target=\"_blank\" href=https://colab.research.google.com/notebooks/data_table.ipynb>data table notebook</a>'\n",
              "            + ' to learn more about interactive tables.';\n",
              "          element.innerHTML = '';\n",
              "          dataTable['output_type'] = 'display_data';\n",
              "          await google.colab.output.renderOutput(dataTable, element);\n",
              "          const docLink = document.createElement('div');\n",
              "          docLink.innerHTML = docLinkHtml;\n",
              "          element.appendChild(docLink);\n",
              "        }\n",
              "      </script>\n",
              "    </div>\n",
              "  </div>\n",
              "  "
            ],
            "text/plain": [
              "  t_parted         x         y         z         x         y         z      x  \\\n",
              "0      1#0  0.800141 -9.127324 -3.747606  0.022135  0.018513  0.028709   0.75   \n",
              "1      1#1  0.810000 -9.118000 -3.747333  0.016903  0.016125  0.021202   0.77   \n",
              "2     10#0  1.850496 -8.079362 -5.522057  0.586150  0.534036  0.646008   0.37   \n",
              "3     10#1  2.299412 -7.336471 -6.140000  0.168355  0.243258  0.296036   1.97   \n",
              "4    100#0 -9.105484  2.604194  2.703226  0.405338  0.214084  0.482669 -10.05   \n",
              "\n",
              "      y     z     x     y     z  class  cls  \n",
              "0 -9.18 -3.81  0.85 -9.08 -3.67  [bus]    0  \n",
              "1 -9.14 -3.78  0.83 -9.09 -3.70  [bus]    0  \n",
              "2 -9.38 -6.40  3.43 -7.10 -3.44  [bus]    0  \n",
              "3 -7.75 -6.64  2.52 -6.87 -5.72  [bus]    0  \n",
              "4  2.26  1.96 -8.43  3.15  3.51  [car]    0  "
            ]
          },
          "metadata": {},
          "execution_count": 253
        }
      ]
    },
    {
      "cell_type": "code",
      "source": [
        "for i in range(df_final.shape[0]):\n",
        "  df_final.at[i, 'cls'] =  df_final.iloc[i]['class'][0]\n",
        "  # df_final['cls'] = (np.zeros(df_final.shape[0],int))\n",
        "  # df_final['cls'][i] = df_final['class'][i][0]\n"
      ],
      "metadata": {
        "id": "eGjM3eBkBwQn"
      },
      "execution_count": 254,
      "outputs": []
    },
    {
      "cell_type": "code",
      "source": [
        "df_final.head()"
      ],
      "metadata": {
        "colab": {
          "base_uri": "https://localhost:8080/",
          "height": 206
        },
        "id": "NuJUMAN9BLtJ",
        "outputId": "9f31c430-1b3f-4a2c-c813-6ea45d654b52"
      },
      "execution_count": 255,
      "outputs": [
        {
          "output_type": "execute_result",
          "data": {
            "text/html": [
              "\n",
              "  <div id=\"df-4b2bbdee-3348-41c0-90b4-8ac4a7704a12\">\n",
              "    <div class=\"colab-df-container\">\n",
              "      <div>\n",
              "<style scoped>\n",
              "    .dataframe tbody tr th:only-of-type {\n",
              "        vertical-align: middle;\n",
              "    }\n",
              "\n",
              "    .dataframe tbody tr th {\n",
              "        vertical-align: top;\n",
              "    }\n",
              "\n",
              "    .dataframe thead th {\n",
              "        text-align: right;\n",
              "    }\n",
              "</style>\n",
              "<table border=\"1\" class=\"dataframe\">\n",
              "  <thead>\n",
              "    <tr style=\"text-align: right;\">\n",
              "      <th></th>\n",
              "      <th>t_parted</th>\n",
              "      <th>x</th>\n",
              "      <th>y</th>\n",
              "      <th>z</th>\n",
              "      <th>x</th>\n",
              "      <th>y</th>\n",
              "      <th>z</th>\n",
              "      <th>x</th>\n",
              "      <th>y</th>\n",
              "      <th>z</th>\n",
              "      <th>x</th>\n",
              "      <th>y</th>\n",
              "      <th>z</th>\n",
              "      <th>class</th>\n",
              "      <th>cls</th>\n",
              "    </tr>\n",
              "  </thead>\n",
              "  <tbody>\n",
              "    <tr>\n",
              "      <th>0</th>\n",
              "      <td>1#0</td>\n",
              "      <td>0.800141</td>\n",
              "      <td>-9.127324</td>\n",
              "      <td>-3.747606</td>\n",
              "      <td>0.022135</td>\n",
              "      <td>0.018513</td>\n",
              "      <td>0.028709</td>\n",
              "      <td>0.75</td>\n",
              "      <td>-9.18</td>\n",
              "      <td>-3.81</td>\n",
              "      <td>0.85</td>\n",
              "      <td>-9.08</td>\n",
              "      <td>-3.67</td>\n",
              "      <td>[bus]</td>\n",
              "      <td>bus</td>\n",
              "    </tr>\n",
              "    <tr>\n",
              "      <th>1</th>\n",
              "      <td>1#1</td>\n",
              "      <td>0.810000</td>\n",
              "      <td>-9.118000</td>\n",
              "      <td>-3.747333</td>\n",
              "      <td>0.016903</td>\n",
              "      <td>0.016125</td>\n",
              "      <td>0.021202</td>\n",
              "      <td>0.77</td>\n",
              "      <td>-9.14</td>\n",
              "      <td>-3.78</td>\n",
              "      <td>0.83</td>\n",
              "      <td>-9.09</td>\n",
              "      <td>-3.70</td>\n",
              "      <td>[bus]</td>\n",
              "      <td>bus</td>\n",
              "    </tr>\n",
              "    <tr>\n",
              "      <th>2</th>\n",
              "      <td>10#0</td>\n",
              "      <td>1.850496</td>\n",
              "      <td>-8.079362</td>\n",
              "      <td>-5.522057</td>\n",
              "      <td>0.586150</td>\n",
              "      <td>0.534036</td>\n",
              "      <td>0.646008</td>\n",
              "      <td>0.37</td>\n",
              "      <td>-9.38</td>\n",
              "      <td>-6.40</td>\n",
              "      <td>3.43</td>\n",
              "      <td>-7.10</td>\n",
              "      <td>-3.44</td>\n",
              "      <td>[bus]</td>\n",
              "      <td>bus</td>\n",
              "    </tr>\n",
              "    <tr>\n",
              "      <th>3</th>\n",
              "      <td>10#1</td>\n",
              "      <td>2.299412</td>\n",
              "      <td>-7.336471</td>\n",
              "      <td>-6.140000</td>\n",
              "      <td>0.168355</td>\n",
              "      <td>0.243258</td>\n",
              "      <td>0.296036</td>\n",
              "      <td>1.97</td>\n",
              "      <td>-7.75</td>\n",
              "      <td>-6.64</td>\n",
              "      <td>2.52</td>\n",
              "      <td>-6.87</td>\n",
              "      <td>-5.72</td>\n",
              "      <td>[bus]</td>\n",
              "      <td>bus</td>\n",
              "    </tr>\n",
              "    <tr>\n",
              "      <th>4</th>\n",
              "      <td>100#0</td>\n",
              "      <td>-9.105484</td>\n",
              "      <td>2.604194</td>\n",
              "      <td>2.703226</td>\n",
              "      <td>0.405338</td>\n",
              "      <td>0.214084</td>\n",
              "      <td>0.482669</td>\n",
              "      <td>-10.05</td>\n",
              "      <td>2.26</td>\n",
              "      <td>1.96</td>\n",
              "      <td>-8.43</td>\n",
              "      <td>3.15</td>\n",
              "      <td>3.51</td>\n",
              "      <td>[car]</td>\n",
              "      <td>car</td>\n",
              "    </tr>\n",
              "  </tbody>\n",
              "</table>\n",
              "</div>\n",
              "      <button class=\"colab-df-convert\" onclick=\"convertToInteractive('df-4b2bbdee-3348-41c0-90b4-8ac4a7704a12')\"\n",
              "              title=\"Convert this dataframe to an interactive table.\"\n",
              "              style=\"display:none;\">\n",
              "        \n",
              "  <svg xmlns=\"http://www.w3.org/2000/svg\" height=\"24px\"viewBox=\"0 0 24 24\"\n",
              "       width=\"24px\">\n",
              "    <path d=\"M0 0h24v24H0V0z\" fill=\"none\"/>\n",
              "    <path d=\"M18.56 5.44l.94 2.06.94-2.06 2.06-.94-2.06-.94-.94-2.06-.94 2.06-2.06.94zm-11 1L8.5 8.5l.94-2.06 2.06-.94-2.06-.94L8.5 2.5l-.94 2.06-2.06.94zm10 10l.94 2.06.94-2.06 2.06-.94-2.06-.94-.94-2.06-.94 2.06-2.06.94z\"/><path d=\"M17.41 7.96l-1.37-1.37c-.4-.4-.92-.59-1.43-.59-.52 0-1.04.2-1.43.59L10.3 9.45l-7.72 7.72c-.78.78-.78 2.05 0 2.83L4 21.41c.39.39.9.59 1.41.59.51 0 1.02-.2 1.41-.59l7.78-7.78 2.81-2.81c.8-.78.8-2.07 0-2.86zM5.41 20L4 18.59l7.72-7.72 1.47 1.35L5.41 20z\"/>\n",
              "  </svg>\n",
              "      </button>\n",
              "      \n",
              "  <style>\n",
              "    .colab-df-container {\n",
              "      display:flex;\n",
              "      flex-wrap:wrap;\n",
              "      gap: 12px;\n",
              "    }\n",
              "\n",
              "    .colab-df-convert {\n",
              "      background-color: #E8F0FE;\n",
              "      border: none;\n",
              "      border-radius: 50%;\n",
              "      cursor: pointer;\n",
              "      display: none;\n",
              "      fill: #1967D2;\n",
              "      height: 32px;\n",
              "      padding: 0 0 0 0;\n",
              "      width: 32px;\n",
              "    }\n",
              "\n",
              "    .colab-df-convert:hover {\n",
              "      background-color: #E2EBFA;\n",
              "      box-shadow: 0px 1px 2px rgba(60, 64, 67, 0.3), 0px 1px 3px 1px rgba(60, 64, 67, 0.15);\n",
              "      fill: #174EA6;\n",
              "    }\n",
              "\n",
              "    [theme=dark] .colab-df-convert {\n",
              "      background-color: #3B4455;\n",
              "      fill: #D2E3FC;\n",
              "    }\n",
              "\n",
              "    [theme=dark] .colab-df-convert:hover {\n",
              "      background-color: #434B5C;\n",
              "      box-shadow: 0px 1px 3px 1px rgba(0, 0, 0, 0.15);\n",
              "      filter: drop-shadow(0px 1px 2px rgba(0, 0, 0, 0.3));\n",
              "      fill: #FFFFFF;\n",
              "    }\n",
              "  </style>\n",
              "\n",
              "      <script>\n",
              "        const buttonEl =\n",
              "          document.querySelector('#df-4b2bbdee-3348-41c0-90b4-8ac4a7704a12 button.colab-df-convert');\n",
              "        buttonEl.style.display =\n",
              "          google.colab.kernel.accessAllowed ? 'block' : 'none';\n",
              "\n",
              "        async function convertToInteractive(key) {\n",
              "          const element = document.querySelector('#df-4b2bbdee-3348-41c0-90b4-8ac4a7704a12');\n",
              "          const dataTable =\n",
              "            await google.colab.kernel.invokeFunction('convertToInteractive',\n",
              "                                                     [key], {});\n",
              "          if (!dataTable) return;\n",
              "\n",
              "          const docLinkHtml = 'Like what you see? Visit the ' +\n",
              "            '<a target=\"_blank\" href=https://colab.research.google.com/notebooks/data_table.ipynb>data table notebook</a>'\n",
              "            + ' to learn more about interactive tables.';\n",
              "          element.innerHTML = '';\n",
              "          dataTable['output_type'] = 'display_data';\n",
              "          await google.colab.output.renderOutput(dataTable, element);\n",
              "          const docLink = document.createElement('div');\n",
              "          docLink.innerHTML = docLinkHtml;\n",
              "          element.appendChild(docLink);\n",
              "        }\n",
              "      </script>\n",
              "    </div>\n",
              "  </div>\n",
              "  "
            ],
            "text/plain": [
              "  t_parted         x         y         z         x         y         z      x  \\\n",
              "0      1#0  0.800141 -9.127324 -3.747606  0.022135  0.018513  0.028709   0.75   \n",
              "1      1#1  0.810000 -9.118000 -3.747333  0.016903  0.016125  0.021202   0.77   \n",
              "2     10#0  1.850496 -8.079362 -5.522057  0.586150  0.534036  0.646008   0.37   \n",
              "3     10#1  2.299412 -7.336471 -6.140000  0.168355  0.243258  0.296036   1.97   \n",
              "4    100#0 -9.105484  2.604194  2.703226  0.405338  0.214084  0.482669 -10.05   \n",
              "\n",
              "      y     z     x     y     z  class  cls  \n",
              "0 -9.18 -3.81  0.85 -9.08 -3.67  [bus]  bus  \n",
              "1 -9.14 -3.78  0.83 -9.09 -3.70  [bus]  bus  \n",
              "2 -9.38 -6.40  3.43 -7.10 -3.44  [bus]  bus  \n",
              "3 -7.75 -6.64  2.52 -6.87 -5.72  [bus]  bus  \n",
              "4  2.26  1.96 -8.43  3.15  3.51  [car]  car  "
            ]
          },
          "metadata": {},
          "execution_count": 255
        }
      ]
    },
    {
      "cell_type": "code",
      "source": [
        "df_final.iloc[0]"
      ],
      "metadata": {
        "colab": {
          "base_uri": "https://localhost:8080/"
        },
        "id": "f_y07w_uBYZc",
        "outputId": "c7513368-3a10-42bd-d72d-28a9b1e7ffd1"
      },
      "execution_count": 256,
      "outputs": [
        {
          "output_type": "execute_result",
          "data": {
            "text/plain": [
              "t_parted         1#0\n",
              "x           0.800141\n",
              "y          -9.127324\n",
              "z          -3.747606\n",
              "x           0.022135\n",
              "y           0.018513\n",
              "z           0.028709\n",
              "x               0.75\n",
              "y              -9.18\n",
              "z              -3.81\n",
              "x               0.85\n",
              "y              -9.08\n",
              "z              -3.67\n",
              "class          [bus]\n",
              "cls              bus\n",
              "Name: 0, dtype: object"
            ]
          },
          "metadata": {},
          "execution_count": 256
        }
      ]
    },
    {
      "cell_type": "code",
      "source": [
        "df_final.head()"
      ],
      "metadata": {
        "colab": {
          "base_uri": "https://localhost:8080/",
          "height": 206
        },
        "id": "ESFo2IAKwgzD",
        "outputId": "0df69094-fc7c-423d-85fd-b3a5336553b5"
      },
      "execution_count": 258,
      "outputs": [
        {
          "output_type": "execute_result",
          "data": {
            "text/html": [
              "\n",
              "  <div id=\"df-b4d70803-c090-40d1-993f-642b79c95fd5\">\n",
              "    <div class=\"colab-df-container\">\n",
              "      <div>\n",
              "<style scoped>\n",
              "    .dataframe tbody tr th:only-of-type {\n",
              "        vertical-align: middle;\n",
              "    }\n",
              "\n",
              "    .dataframe tbody tr th {\n",
              "        vertical-align: top;\n",
              "    }\n",
              "\n",
              "    .dataframe thead th {\n",
              "        text-align: right;\n",
              "    }\n",
              "</style>\n",
              "<table border=\"1\" class=\"dataframe\">\n",
              "  <thead>\n",
              "    <tr style=\"text-align: right;\">\n",
              "      <th></th>\n",
              "      <th>t_parted</th>\n",
              "      <th>x</th>\n",
              "      <th>y</th>\n",
              "      <th>z</th>\n",
              "      <th>x</th>\n",
              "      <th>y</th>\n",
              "      <th>z</th>\n",
              "      <th>x</th>\n",
              "      <th>y</th>\n",
              "      <th>z</th>\n",
              "      <th>x</th>\n",
              "      <th>y</th>\n",
              "      <th>z</th>\n",
              "      <th>class</th>\n",
              "      <th>cls</th>\n",
              "    </tr>\n",
              "  </thead>\n",
              "  <tbody>\n",
              "    <tr>\n",
              "      <th>0</th>\n",
              "      <td>1#0</td>\n",
              "      <td>0.800141</td>\n",
              "      <td>-9.127324</td>\n",
              "      <td>-3.747606</td>\n",
              "      <td>0.022135</td>\n",
              "      <td>0.018513</td>\n",
              "      <td>0.028709</td>\n",
              "      <td>0.75</td>\n",
              "      <td>-9.18</td>\n",
              "      <td>-3.81</td>\n",
              "      <td>0.85</td>\n",
              "      <td>-9.08</td>\n",
              "      <td>-3.67</td>\n",
              "      <td>[bus]</td>\n",
              "      <td>bus</td>\n",
              "    </tr>\n",
              "    <tr>\n",
              "      <th>1</th>\n",
              "      <td>1#1</td>\n",
              "      <td>0.810000</td>\n",
              "      <td>-9.118000</td>\n",
              "      <td>-3.747333</td>\n",
              "      <td>0.016903</td>\n",
              "      <td>0.016125</td>\n",
              "      <td>0.021202</td>\n",
              "      <td>0.77</td>\n",
              "      <td>-9.14</td>\n",
              "      <td>-3.78</td>\n",
              "      <td>0.83</td>\n",
              "      <td>-9.09</td>\n",
              "      <td>-3.70</td>\n",
              "      <td>[bus]</td>\n",
              "      <td>bus</td>\n",
              "    </tr>\n",
              "    <tr>\n",
              "      <th>2</th>\n",
              "      <td>10#0</td>\n",
              "      <td>1.850496</td>\n",
              "      <td>-8.079362</td>\n",
              "      <td>-5.522057</td>\n",
              "      <td>0.586150</td>\n",
              "      <td>0.534036</td>\n",
              "      <td>0.646008</td>\n",
              "      <td>0.37</td>\n",
              "      <td>-9.38</td>\n",
              "      <td>-6.40</td>\n",
              "      <td>3.43</td>\n",
              "      <td>-7.10</td>\n",
              "      <td>-3.44</td>\n",
              "      <td>[bus]</td>\n",
              "      <td>bus</td>\n",
              "    </tr>\n",
              "    <tr>\n",
              "      <th>3</th>\n",
              "      <td>10#1</td>\n",
              "      <td>2.299412</td>\n",
              "      <td>-7.336471</td>\n",
              "      <td>-6.140000</td>\n",
              "      <td>0.168355</td>\n",
              "      <td>0.243258</td>\n",
              "      <td>0.296036</td>\n",
              "      <td>1.97</td>\n",
              "      <td>-7.75</td>\n",
              "      <td>-6.64</td>\n",
              "      <td>2.52</td>\n",
              "      <td>-6.87</td>\n",
              "      <td>-5.72</td>\n",
              "      <td>[bus]</td>\n",
              "      <td>bus</td>\n",
              "    </tr>\n",
              "    <tr>\n",
              "      <th>4</th>\n",
              "      <td>100#0</td>\n",
              "      <td>-9.105484</td>\n",
              "      <td>2.604194</td>\n",
              "      <td>2.703226</td>\n",
              "      <td>0.405338</td>\n",
              "      <td>0.214084</td>\n",
              "      <td>0.482669</td>\n",
              "      <td>-10.05</td>\n",
              "      <td>2.26</td>\n",
              "      <td>1.96</td>\n",
              "      <td>-8.43</td>\n",
              "      <td>3.15</td>\n",
              "      <td>3.51</td>\n",
              "      <td>[car]</td>\n",
              "      <td>car</td>\n",
              "    </tr>\n",
              "  </tbody>\n",
              "</table>\n",
              "</div>\n",
              "      <button class=\"colab-df-convert\" onclick=\"convertToInteractive('df-b4d70803-c090-40d1-993f-642b79c95fd5')\"\n",
              "              title=\"Convert this dataframe to an interactive table.\"\n",
              "              style=\"display:none;\">\n",
              "        \n",
              "  <svg xmlns=\"http://www.w3.org/2000/svg\" height=\"24px\"viewBox=\"0 0 24 24\"\n",
              "       width=\"24px\">\n",
              "    <path d=\"M0 0h24v24H0V0z\" fill=\"none\"/>\n",
              "    <path d=\"M18.56 5.44l.94 2.06.94-2.06 2.06-.94-2.06-.94-.94-2.06-.94 2.06-2.06.94zm-11 1L8.5 8.5l.94-2.06 2.06-.94-2.06-.94L8.5 2.5l-.94 2.06-2.06.94zm10 10l.94 2.06.94-2.06 2.06-.94-2.06-.94-.94-2.06-.94 2.06-2.06.94z\"/><path d=\"M17.41 7.96l-1.37-1.37c-.4-.4-.92-.59-1.43-.59-.52 0-1.04.2-1.43.59L10.3 9.45l-7.72 7.72c-.78.78-.78 2.05 0 2.83L4 21.41c.39.39.9.59 1.41.59.51 0 1.02-.2 1.41-.59l7.78-7.78 2.81-2.81c.8-.78.8-2.07 0-2.86zM5.41 20L4 18.59l7.72-7.72 1.47 1.35L5.41 20z\"/>\n",
              "  </svg>\n",
              "      </button>\n",
              "      \n",
              "  <style>\n",
              "    .colab-df-container {\n",
              "      display:flex;\n",
              "      flex-wrap:wrap;\n",
              "      gap: 12px;\n",
              "    }\n",
              "\n",
              "    .colab-df-convert {\n",
              "      background-color: #E8F0FE;\n",
              "      border: none;\n",
              "      border-radius: 50%;\n",
              "      cursor: pointer;\n",
              "      display: none;\n",
              "      fill: #1967D2;\n",
              "      height: 32px;\n",
              "      padding: 0 0 0 0;\n",
              "      width: 32px;\n",
              "    }\n",
              "\n",
              "    .colab-df-convert:hover {\n",
              "      background-color: #E2EBFA;\n",
              "      box-shadow: 0px 1px 2px rgba(60, 64, 67, 0.3), 0px 1px 3px 1px rgba(60, 64, 67, 0.15);\n",
              "      fill: #174EA6;\n",
              "    }\n",
              "\n",
              "    [theme=dark] .colab-df-convert {\n",
              "      background-color: #3B4455;\n",
              "      fill: #D2E3FC;\n",
              "    }\n",
              "\n",
              "    [theme=dark] .colab-df-convert:hover {\n",
              "      background-color: #434B5C;\n",
              "      box-shadow: 0px 1px 3px 1px rgba(0, 0, 0, 0.15);\n",
              "      filter: drop-shadow(0px 1px 2px rgba(0, 0, 0, 0.3));\n",
              "      fill: #FFFFFF;\n",
              "    }\n",
              "  </style>\n",
              "\n",
              "      <script>\n",
              "        const buttonEl =\n",
              "          document.querySelector('#df-b4d70803-c090-40d1-993f-642b79c95fd5 button.colab-df-convert');\n",
              "        buttonEl.style.display =\n",
              "          google.colab.kernel.accessAllowed ? 'block' : 'none';\n",
              "\n",
              "        async function convertToInteractive(key) {\n",
              "          const element = document.querySelector('#df-b4d70803-c090-40d1-993f-642b79c95fd5');\n",
              "          const dataTable =\n",
              "            await google.colab.kernel.invokeFunction('convertToInteractive',\n",
              "                                                     [key], {});\n",
              "          if (!dataTable) return;\n",
              "\n",
              "          const docLinkHtml = 'Like what you see? Visit the ' +\n",
              "            '<a target=\"_blank\" href=https://colab.research.google.com/notebooks/data_table.ipynb>data table notebook</a>'\n",
              "            + ' to learn more about interactive tables.';\n",
              "          element.innerHTML = '';\n",
              "          dataTable['output_type'] = 'display_data';\n",
              "          await google.colab.output.renderOutput(dataTable, element);\n",
              "          const docLink = document.createElement('div');\n",
              "          docLink.innerHTML = docLinkHtml;\n",
              "          element.appendChild(docLink);\n",
              "        }\n",
              "      </script>\n",
              "    </div>\n",
              "  </div>\n",
              "  "
            ],
            "text/plain": [
              "  t_parted         x         y         z         x         y         z      x  \\\n",
              "0      1#0  0.800141 -9.127324 -3.747606  0.022135  0.018513  0.028709   0.75   \n",
              "1      1#1  0.810000 -9.118000 -3.747333  0.016903  0.016125  0.021202   0.77   \n",
              "2     10#0  1.850496 -8.079362 -5.522057  0.586150  0.534036  0.646008   0.37   \n",
              "3     10#1  2.299412 -7.336471 -6.140000  0.168355  0.243258  0.296036   1.97   \n",
              "4    100#0 -9.105484  2.604194  2.703226  0.405338  0.214084  0.482669 -10.05   \n",
              "\n",
              "      y     z     x     y     z  class  cls  \n",
              "0 -9.18 -3.81  0.85 -9.08 -3.67  [bus]  bus  \n",
              "1 -9.14 -3.78  0.83 -9.09 -3.70  [bus]  bus  \n",
              "2 -9.38 -6.40  3.43 -7.10 -3.44  [bus]  bus  \n",
              "3 -7.75 -6.64  2.52 -6.87 -5.72  [bus]  bus  \n",
              "4  2.26  1.96 -8.43  3.15  3.51  [car]  car  "
            ]
          },
          "metadata": {},
          "execution_count": 258
        }
      ]
    },
    {
      "cell_type": "code",
      "source": [
        "df_final.drop('t_parted', inplace=True, axis=1)\n",
        "df_final.drop('class', inplace=True, axis=1)\n",
        "# del df_final['class']\n",
        "# del df_final['t_parted']"
      ],
      "metadata": {
        "id": "yqhfpxtT1g4I"
      },
      "execution_count": 259,
      "outputs": []
    },
    {
      "cell_type": "code",
      "source": [
        "df_final.head()"
      ],
      "metadata": {
        "colab": {
          "base_uri": "https://localhost:8080/",
          "height": 206
        },
        "id": "t7lrgww3FMMI",
        "outputId": "bf164e84-d433-49c4-f6fc-fb0dbf38bf79"
      },
      "execution_count": 260,
      "outputs": [
        {
          "output_type": "execute_result",
          "data": {
            "text/html": [
              "\n",
              "  <div id=\"df-7ef63fbd-a821-4065-bc6f-ec9cf0a08fa4\">\n",
              "    <div class=\"colab-df-container\">\n",
              "      <div>\n",
              "<style scoped>\n",
              "    .dataframe tbody tr th:only-of-type {\n",
              "        vertical-align: middle;\n",
              "    }\n",
              "\n",
              "    .dataframe tbody tr th {\n",
              "        vertical-align: top;\n",
              "    }\n",
              "\n",
              "    .dataframe thead th {\n",
              "        text-align: right;\n",
              "    }\n",
              "</style>\n",
              "<table border=\"1\" class=\"dataframe\">\n",
              "  <thead>\n",
              "    <tr style=\"text-align: right;\">\n",
              "      <th></th>\n",
              "      <th>x</th>\n",
              "      <th>y</th>\n",
              "      <th>z</th>\n",
              "      <th>x</th>\n",
              "      <th>y</th>\n",
              "      <th>z</th>\n",
              "      <th>x</th>\n",
              "      <th>y</th>\n",
              "      <th>z</th>\n",
              "      <th>x</th>\n",
              "      <th>y</th>\n",
              "      <th>z</th>\n",
              "      <th>cls</th>\n",
              "    </tr>\n",
              "  </thead>\n",
              "  <tbody>\n",
              "    <tr>\n",
              "      <th>0</th>\n",
              "      <td>0.800141</td>\n",
              "      <td>-9.127324</td>\n",
              "      <td>-3.747606</td>\n",
              "      <td>0.022135</td>\n",
              "      <td>0.018513</td>\n",
              "      <td>0.028709</td>\n",
              "      <td>0.75</td>\n",
              "      <td>-9.18</td>\n",
              "      <td>-3.81</td>\n",
              "      <td>0.85</td>\n",
              "      <td>-9.08</td>\n",
              "      <td>-3.67</td>\n",
              "      <td>bus</td>\n",
              "    </tr>\n",
              "    <tr>\n",
              "      <th>1</th>\n",
              "      <td>0.810000</td>\n",
              "      <td>-9.118000</td>\n",
              "      <td>-3.747333</td>\n",
              "      <td>0.016903</td>\n",
              "      <td>0.016125</td>\n",
              "      <td>0.021202</td>\n",
              "      <td>0.77</td>\n",
              "      <td>-9.14</td>\n",
              "      <td>-3.78</td>\n",
              "      <td>0.83</td>\n",
              "      <td>-9.09</td>\n",
              "      <td>-3.70</td>\n",
              "      <td>bus</td>\n",
              "    </tr>\n",
              "    <tr>\n",
              "      <th>2</th>\n",
              "      <td>1.850496</td>\n",
              "      <td>-8.079362</td>\n",
              "      <td>-5.522057</td>\n",
              "      <td>0.586150</td>\n",
              "      <td>0.534036</td>\n",
              "      <td>0.646008</td>\n",
              "      <td>0.37</td>\n",
              "      <td>-9.38</td>\n",
              "      <td>-6.40</td>\n",
              "      <td>3.43</td>\n",
              "      <td>-7.10</td>\n",
              "      <td>-3.44</td>\n",
              "      <td>bus</td>\n",
              "    </tr>\n",
              "    <tr>\n",
              "      <th>3</th>\n",
              "      <td>2.299412</td>\n",
              "      <td>-7.336471</td>\n",
              "      <td>-6.140000</td>\n",
              "      <td>0.168355</td>\n",
              "      <td>0.243258</td>\n",
              "      <td>0.296036</td>\n",
              "      <td>1.97</td>\n",
              "      <td>-7.75</td>\n",
              "      <td>-6.64</td>\n",
              "      <td>2.52</td>\n",
              "      <td>-6.87</td>\n",
              "      <td>-5.72</td>\n",
              "      <td>bus</td>\n",
              "    </tr>\n",
              "    <tr>\n",
              "      <th>4</th>\n",
              "      <td>-9.105484</td>\n",
              "      <td>2.604194</td>\n",
              "      <td>2.703226</td>\n",
              "      <td>0.405338</td>\n",
              "      <td>0.214084</td>\n",
              "      <td>0.482669</td>\n",
              "      <td>-10.05</td>\n",
              "      <td>2.26</td>\n",
              "      <td>1.96</td>\n",
              "      <td>-8.43</td>\n",
              "      <td>3.15</td>\n",
              "      <td>3.51</td>\n",
              "      <td>car</td>\n",
              "    </tr>\n",
              "  </tbody>\n",
              "</table>\n",
              "</div>\n",
              "      <button class=\"colab-df-convert\" onclick=\"convertToInteractive('df-7ef63fbd-a821-4065-bc6f-ec9cf0a08fa4')\"\n",
              "              title=\"Convert this dataframe to an interactive table.\"\n",
              "              style=\"display:none;\">\n",
              "        \n",
              "  <svg xmlns=\"http://www.w3.org/2000/svg\" height=\"24px\"viewBox=\"0 0 24 24\"\n",
              "       width=\"24px\">\n",
              "    <path d=\"M0 0h24v24H0V0z\" fill=\"none\"/>\n",
              "    <path d=\"M18.56 5.44l.94 2.06.94-2.06 2.06-.94-2.06-.94-.94-2.06-.94 2.06-2.06.94zm-11 1L8.5 8.5l.94-2.06 2.06-.94-2.06-.94L8.5 2.5l-.94 2.06-2.06.94zm10 10l.94 2.06.94-2.06 2.06-.94-2.06-.94-.94-2.06-.94 2.06-2.06.94z\"/><path d=\"M17.41 7.96l-1.37-1.37c-.4-.4-.92-.59-1.43-.59-.52 0-1.04.2-1.43.59L10.3 9.45l-7.72 7.72c-.78.78-.78 2.05 0 2.83L4 21.41c.39.39.9.59 1.41.59.51 0 1.02-.2 1.41-.59l7.78-7.78 2.81-2.81c.8-.78.8-2.07 0-2.86zM5.41 20L4 18.59l7.72-7.72 1.47 1.35L5.41 20z\"/>\n",
              "  </svg>\n",
              "      </button>\n",
              "      \n",
              "  <style>\n",
              "    .colab-df-container {\n",
              "      display:flex;\n",
              "      flex-wrap:wrap;\n",
              "      gap: 12px;\n",
              "    }\n",
              "\n",
              "    .colab-df-convert {\n",
              "      background-color: #E8F0FE;\n",
              "      border: none;\n",
              "      border-radius: 50%;\n",
              "      cursor: pointer;\n",
              "      display: none;\n",
              "      fill: #1967D2;\n",
              "      height: 32px;\n",
              "      padding: 0 0 0 0;\n",
              "      width: 32px;\n",
              "    }\n",
              "\n",
              "    .colab-df-convert:hover {\n",
              "      background-color: #E2EBFA;\n",
              "      box-shadow: 0px 1px 2px rgba(60, 64, 67, 0.3), 0px 1px 3px 1px rgba(60, 64, 67, 0.15);\n",
              "      fill: #174EA6;\n",
              "    }\n",
              "\n",
              "    [theme=dark] .colab-df-convert {\n",
              "      background-color: #3B4455;\n",
              "      fill: #D2E3FC;\n",
              "    }\n",
              "\n",
              "    [theme=dark] .colab-df-convert:hover {\n",
              "      background-color: #434B5C;\n",
              "      box-shadow: 0px 1px 3px 1px rgba(0, 0, 0, 0.15);\n",
              "      filter: drop-shadow(0px 1px 2px rgba(0, 0, 0, 0.3));\n",
              "      fill: #FFFFFF;\n",
              "    }\n",
              "  </style>\n",
              "\n",
              "      <script>\n",
              "        const buttonEl =\n",
              "          document.querySelector('#df-7ef63fbd-a821-4065-bc6f-ec9cf0a08fa4 button.colab-df-convert');\n",
              "        buttonEl.style.display =\n",
              "          google.colab.kernel.accessAllowed ? 'block' : 'none';\n",
              "\n",
              "        async function convertToInteractive(key) {\n",
              "          const element = document.querySelector('#df-7ef63fbd-a821-4065-bc6f-ec9cf0a08fa4');\n",
              "          const dataTable =\n",
              "            await google.colab.kernel.invokeFunction('convertToInteractive',\n",
              "                                                     [key], {});\n",
              "          if (!dataTable) return;\n",
              "\n",
              "          const docLinkHtml = 'Like what you see? Visit the ' +\n",
              "            '<a target=\"_blank\" href=https://colab.research.google.com/notebooks/data_table.ipynb>data table notebook</a>'\n",
              "            + ' to learn more about interactive tables.';\n",
              "          element.innerHTML = '';\n",
              "          dataTable['output_type'] = 'display_data';\n",
              "          await google.colab.output.renderOutput(dataTable, element);\n",
              "          const docLink = document.createElement('div');\n",
              "          docLink.innerHTML = docLinkHtml;\n",
              "          element.appendChild(docLink);\n",
              "        }\n",
              "      </script>\n",
              "    </div>\n",
              "  </div>\n",
              "  "
            ],
            "text/plain": [
              "          x         y         z         x         y         z      x     y  \\\n",
              "0  0.800141 -9.127324 -3.747606  0.022135  0.018513  0.028709   0.75 -9.18   \n",
              "1  0.810000 -9.118000 -3.747333  0.016903  0.016125  0.021202   0.77 -9.14   \n",
              "2  1.850496 -8.079362 -5.522057  0.586150  0.534036  0.646008   0.37 -9.38   \n",
              "3  2.299412 -7.336471 -6.140000  0.168355  0.243258  0.296036   1.97 -7.75   \n",
              "4 -9.105484  2.604194  2.703226  0.405338  0.214084  0.482669 -10.05  2.26   \n",
              "\n",
              "      z     x     y     z  cls  \n",
              "0 -3.81  0.85 -9.08 -3.67  bus  \n",
              "1 -3.78  0.83 -9.09 -3.70  bus  \n",
              "2 -6.40  3.43 -7.10 -3.44  bus  \n",
              "3 -6.64  2.52 -6.87 -5.72  bus  \n",
              "4  1.96 -8.43  3.15  3.51  car  "
            ]
          },
          "metadata": {},
          "execution_count": 260
        }
      ]
    },
    {
      "cell_type": "markdown",
      "source": [
        "**Created a dataframe with all required features**"
      ],
      "metadata": {
        "id": "dWuUVHEWujK8"
      }
    },
    {
      "cell_type": "code",
      "source": [
        "df2 = df_final.set_axis(['x_mean', 'x_std', 'x_max', 'x_min', 'y_mean', 'y_std', 'y_max', 'y_min', 'z_mean', 'z_std', 'z_max', 'z_min', 'class'], axis=1, inplace=False)"
      ],
      "metadata": {
        "id": "klDMyFQ41qtS"
      },
      "execution_count": 261,
      "outputs": []
    },
    {
      "cell_type": "code",
      "source": [
        "features[0][0].reset_index().drop('t_parted', axis = 1)"
      ],
      "metadata": {
        "id": "wTs6mNOyvEWU"
      },
      "execution_count": null,
      "outputs": []
    },
    {
      "cell_type": "code",
      "source": [
        "df3 = df2"
      ],
      "metadata": {
        "id": "sIuDK7tAIETA"
      },
      "execution_count": 274,
      "outputs": []
    },
    {
      "cell_type": "code",
      "source": [
        "##Created 12 differet dataframe corrosponding to each features and then extracted them and saved them to their coorosponding dataframe\n",
        "\n",
        "data_x_mean = [df3.loc[df3['class'] == 'car', 'x_mean'], df3.loc[df3['class'] == 'bus', 'x_mean'], df3.loc[df3['class'] == 'bike', 'x_mean'],\n",
        "               df3.loc[df3['class'] == 'e-bike', 'x_mean'], df3.loc[df3['class'] == 'train', 'x_mean'], df3.loc[df3['class'] == 'walk', 'x_mean']]\n",
        "\n",
        "data_x_std = [df3.loc[df3['class'] == 'car', 'x_std'], df3.loc[df3['class'] == 'bus', 'x_std'], df3.loc[df3['class'] == 'bike', 'x_std'],\n",
        "               df3.loc[df3['class'] == 'e-bike', 'x_std'], df3.loc[df3['class'] == 'train', 'x_std'], df3.loc[df3['class'] == 'walk', 'x_std']]\n",
        "\n",
        "data_x_max = [df3.loc[df3['class'] == 'car', 'x_max'], df3.loc[df3['class'] == 'bus', 'x_max'], df3.loc[df3['class'] == 'bike', 'x_max'],\n",
        "               df3.loc[df3['class'] == 'e-bike', 'x_max'], df3.loc[df3['class'] == 'train', 'x_max'], df3.loc[df3['class'] == 'walk', 'x_max']]    \n",
        "\n",
        "data_x_min = [df3.loc[df3['class'] == 'car', 'x_min'], df3.loc[df3['class'] == 'bus', 'x_min'], df3.loc[df3['class'] == 'bike', 'x_min'],\n",
        "               df3.loc[df3['class'] == 'e-bike', 'x_min'], df3.loc[df3['class'] == 'train', 'x_min'], df3.loc[df3['class'] == 'walk', 'x_min']] \n",
        "\n",
        "\n",
        "data_y_mean = [df3.loc[df3['class'] == 'car', 'y_mean'], df3.loc[df3['class'] == 'bus', 'y_mean'], df3.loc[df3['class'] == 'bike', 'y_mean'],\n",
        "               df3.loc[df3['class'] == 'e-bike', 'y_mean'], df3.loc[df3['class'] == 'train', 'y_mean'], df3.loc[df3['class'] == 'walk', 'y_mean']]\n",
        "\n",
        "data_y_std = [df3.loc[df3['class'] == 'car', 'y_std'], df3.loc[df3['class'] == 'bus', 'y_std'], df3.loc[df3['class'] == 'bike', 'y_std'],\n",
        "               df3.loc[df3['class'] == 'e-bike', 'y_std'], df3.loc[df3['class'] == 'train', 'y_std'], df3.loc[df3['class'] == 'walk', 'y_std']]\n",
        "\n",
        "data_y_max = [df3.loc[df3['class'] == 'car', 'y_max'], df3.loc[df3['class'] == 'bus', 'y_max'], df3.loc[df3['class'] == 'bike', 'y_max'],\n",
        "               df3.loc[df3['class'] == 'e-bike', 'y_max'], df3.loc[df3['class'] == 'train', 'y_max'], df3.loc[df3['class'] == 'walk', 'y_max']]    \n",
        "\n",
        "data_y_min = [df3.loc[df3['class'] == 'car', 'y_min'], df3.loc[df3['class'] == 'bus', 'y_min'], df3.loc[df3['class'] == 'bike', 'y_min'],\n",
        "               df3.loc[df3['class'] == 'e-bike', 'y_min'], df3.loc[df3['class'] == 'train', 'y_min'], df3.loc[df3['class'] == 'walk', 'y_min']] \n",
        "\n",
        "\n",
        "data_z_mean = [df3.loc[df3['class'] == 'car', 'z_mean'], df3.loc[df3['class'] == 'bus', 'z_mean'], df3.loc[df3['class'] == 'bike', 'z_mean'],\n",
        "               df3.loc[df3['class'] == 'e-bike', 'z_mean'], df3.loc[df3['class'] == 'train', 'z_mean'], df3.loc[df3['class'] == 'walk', 'z_mean']]\n",
        "\n",
        "data_z_std = [df3.loc[df3['class'] == 'car', 'z_std'], df3.loc[df3['class'] == 'bus', 'z_std'], df3.loc[df3['class'] == 'bike', 'z_std'],\n",
        "               df3.loc[df3['class'] == 'e-bike', 'z_std'], df3.loc[df3['class'] == 'train', 'z_std'], df3.loc[df3['class'] == 'walk', 'z_std']]\n",
        "\n",
        "data_z_max = [df3.loc[df3['class'] == 'car', 'z_max'], df3.loc[df3['class'] == 'bus', 'z_max'], df3.loc[df3['class'] == 'bike', 'z_max'],\n",
        "               df3.loc[df3['class'] == 'e-bike', 'z_max'], df3.loc[df3['class'] == 'train', 'z_max'], df3.loc[df3['class'] == 'walk', 'z_max']]    \n",
        "\n",
        "data_z_min = [df3.loc[df3['class'] == 'car', 'z_min'], df3.loc[df3['class'] == 'bus', 'z_min'], df3.loc[df3['class'] == 'bike', 'z_min'],\n",
        "               df3.loc[df3['class'] == 'e-bike', 'z_min'], df3.loc[df3['class'] == 'train', 'z_min'], df3.loc[df3['class'] == 'walk', 'z_min']]     "
      ],
      "metadata": {
        "id": "2bNfKttXptpc"
      },
      "execution_count": 293,
      "outputs": []
    },
    {
      "cell_type": "code",
      "source": [
        "headers = ['car','bus', 'bike', 'e-bike', 'train', 'walk']"
      ],
      "metadata": {
        "id": "PRgISriRptmE"
      },
      "execution_count": 294,
      "outputs": []
    },
    {
      "cell_type": "markdown",
      "source": [
        "**Creating the box plot corrosponding to each features**"
      ],
      "metadata": {
        "id": "Drq7SRwza7m6"
      }
    },
    {
      "cell_type": "code",
      "source": [
        "##Concated for ploting features usiing box plot\n",
        "\n",
        "df_x_mean = pd.concat(data_x_mean, axis=1, keys = headers)\n",
        "df_x_std = pd.concat(data_x_std, axis=1, keys = headers)\n",
        "df_x_max = pd.concat(data_x_max, axis=1, keys = headers)\n",
        "df_x_min = pd.concat(data_x_min, axis=1, keys = headers)\n",
        "\n",
        "\n",
        "df_y_mean = pd.concat(data_x_mean, axis=1, keys = headers)\n",
        "df_y_std = pd.concat(data_x_std, axis=1, keys = headers)\n",
        "df_y_max = pd.concat(data_x_max, axis=1, keys = headers)\n",
        "df_y_min = pd.concat(data_x_min, axis=1, keys = headers)\n",
        "\n",
        "\n",
        "df_z_mean = pd.concat(data_x_mean, axis=1, keys = headers)\n",
        "df_z_std = pd.concat(data_x_std, axis=1, keys = headers)\n",
        "df_z_max = pd.concat(data_x_max, axis=1, keys = headers)\n",
        "df_z_min = pd.concat(data_x_min, axis=1, keys = headers)"
      ],
      "metadata": {
        "id": "BFL2AQtbptjG"
      },
      "execution_count": 295,
      "outputs": []
    },
    {
      "cell_type": "markdown",
      "source": [
        "**Box plot for x_mean**"
      ],
      "metadata": {
        "id": "MlOrlOMIbFue"
      }
    },
    {
      "cell_type": "code",
      "source": [
        "boxplot = df_x_mean.boxplot(column=headers) "
      ],
      "metadata": {
        "colab": {
          "base_uri": "https://localhost:8080/",
          "height": 323
        },
        "id": "bTtJWApD-wa5",
        "outputId": "a0f8156d-8e75-4b20-f33b-d55f0702e8bf"
      },
      "execution_count": 279,
      "outputs": [
        {
          "output_type": "stream",
          "name": "stderr",
          "text": [
            "/usr/local/lib/python3.7/dist-packages/matplotlib/cbook/__init__.py:1376: VisibleDeprecationWarning: Creating an ndarray from ragged nested sequences (which is a list-or-tuple of lists-or-tuples-or ndarrays with different lengths or shapes) is deprecated. If you meant to do this, you must specify 'dtype=object' when creating the ndarray.\n",
            "  X = np.atleast_1d(X.T if isinstance(X, np.ndarray) else np.asarray(X))\n"
          ]
        },
        {
          "output_type": "display_data",
          "data": {
            "image/png": "[encoded data removed]",
            "text/plain": [
              "<Figure size 432x288 with 1 Axes>"
            ]
          },
          "metadata": {
            "needs_background": "light"
          }
        }
      ]
    },
    {
      "cell_type": "markdown",
      "source": [
        "**Box plot for x_std**"
      ],
      "metadata": {
        "id": "M3TA3jFPbOYd"
      }
    },
    {
      "cell_type": "code",
      "source": [
        "boxplot = df_x_std.boxplot(column=headers) "
      ],
      "metadata": {
        "colab": {
          "base_uri": "https://localhost:8080/",
          "height": 323
        },
        "id": "5mxsX79_-wdv",
        "outputId": "7facd171-3645-40a6-83ad-72bd17c8fce7"
      },
      "execution_count": 280,
      "outputs": [
        {
          "output_type": "stream",
          "name": "stderr",
          "text": [
            "/usr/local/lib/python3.7/dist-packages/matplotlib/cbook/__init__.py:1376: VisibleDeprecationWarning: Creating an ndarray from ragged nested sequences (which is a list-or-tuple of lists-or-tuples-or ndarrays with different lengths or shapes) is deprecated. If you meant to do this, you must specify 'dtype=object' when creating the ndarray.\n",
            "  X = np.atleast_1d(X.T if isinstance(X, np.ndarray) else np.asarray(X))\n"
          ]
        },
        {
          "output_type": "display_data",
          "data": {
            "image/png": "[encoded data removed]",
            "text/plain": [
              "<Figure size 432x288 with 1 Axes>"
            ]
          },
          "metadata": {
            "needs_background": "light"
          }
        }
      ]
    },
    {
      "cell_type": "markdown",
      "source": [
        "**Box plot for x_max**"
      ],
      "metadata": {
        "id": "L2Ve84PwbR0Q"
      }
    },
    {
      "cell_type": "code",
      "source": [
        "boxplot = df_x_max.boxplot(column=headers) "
      ],
      "metadata": {
        "colab": {
          "base_uri": "https://localhost:8080/",
          "height": 320
        },
        "id": "YTU-WHaF-whM",
        "outputId": "55bfe0e8-b1b4-4388-e9fa-06dfb932112a"
      },
      "execution_count": 281,
      "outputs": [
        {
          "output_type": "stream",
          "name": "stderr",
          "text": [
            "/usr/local/lib/python3.7/dist-packages/matplotlib/cbook/__init__.py:1376: VisibleDeprecationWarning: Creating an ndarray from ragged nested sequences (which is a list-or-tuple of lists-or-tuples-or ndarrays with different lengths or shapes) is deprecated. If you meant to do this, you must specify 'dtype=object' when creating the ndarray.\n",
            "  X = np.atleast_1d(X.T if isinstance(X, np.ndarray) else np.asarray(X))\n"
          ]
        },
        {
          "output_type": "display_data",
          "data": {
            "image/png": "[encoded data removed]",
            "text/plain": [
              "<Figure size 432x288 with 1 Axes>"
            ]
          },
          "metadata": {
            "needs_background": "light"
          }
        }
      ]
    },
    {
      "cell_type": "markdown",
      "source": [
        "**Box plot for x_min**"
      ],
      "metadata": {
        "id": "0iIlGz_vbXcX"
      }
    },
    {
      "cell_type": "code",
      "source": [
        "boxplot = df_x_min.boxplot(column=headers) "
      ],
      "metadata": {
        "colab": {
          "base_uri": "https://localhost:8080/",
          "height": 320
        },
        "id": "d_cI9avn-wsC",
        "outputId": "7c44ed82-8f75-429f-e24c-26e662e4a33d"
      },
      "execution_count": 282,
      "outputs": [
        {
          "output_type": "stream",
          "name": "stderr",
          "text": [
            "/usr/local/lib/python3.7/dist-packages/matplotlib/cbook/__init__.py:1376: VisibleDeprecationWarning: Creating an ndarray from ragged nested sequences (which is a list-or-tuple of lists-or-tuples-or ndarrays with different lengths or shapes) is deprecated. If you meant to do this, you must specify 'dtype=object' when creating the ndarray.\n",
            "  X = np.atleast_1d(X.T if isinstance(X, np.ndarray) else np.asarray(X))\n"
          ]
        },
        {
          "output_type": "display_data",
          "data": {
            "image/png": "[encoded data removed]",
            "text/plain": [
              "<Figure size 432x288 with 1 Axes>"
            ]
          },
          "metadata": {
            "needs_background": "light"
          }
        }
      ]
    },
    {
      "cell_type": "markdown",
      "source": [
        "**Box plot for y_mean**"
      ],
      "metadata": {
        "id": "HZi4Dwt0baiR"
      }
    },
    {
      "cell_type": "code",
      "source": [
        "boxplot_y1 = df_y_mean.boxplot(column=headers)"
      ],
      "metadata": {
        "colab": {
          "base_uri": "https://localhost:8080/",
          "height": 323
        },
        "id": "HjlWGLL2-w7r",
        "outputId": "286b425b-e8eb-4459-b5ed-daf31501d8af"
      },
      "execution_count": 283,
      "outputs": [
        {
          "output_type": "stream",
          "name": "stderr",
          "text": [
            "/usr/local/lib/python3.7/dist-packages/matplotlib/cbook/__init__.py:1376: VisibleDeprecationWarning: Creating an ndarray from ragged nested sequences (which is a list-or-tuple of lists-or-tuples-or ndarrays with different lengths or shapes) is deprecated. If you meant to do this, you must specify 'dtype=object' when creating the ndarray.\n",
            "  X = np.atleast_1d(X.T if isinstance(X, np.ndarray) else np.asarray(X))\n"
          ]
        },
        {
          "output_type": "display_data",
          "data": {
            "image/png": "[encoded data removed]",
            "text/plain": [
              "<Figure size 432x288 with 1 Axes>"
            ]
          },
          "metadata": {
            "needs_background": "light"
          }
        }
      ]
    },
    {
      "cell_type": "markdown",
      "source": [
        "**Box plot for y_std**"
      ],
      "metadata": {
        "id": "NVw70EImbdbt"
      }
    },
    {
      "cell_type": "code",
      "source": [
        "boxplot_y2 = df_y_std.boxplot(column=headers)"
      ],
      "metadata": {
        "colab": {
          "base_uri": "https://localhost:8080/",
          "height": 323
        },
        "id": "1WJt3koyHvIK",
        "outputId": "21ff3e0e-cdfe-43f9-beb0-227b377f7d3f"
      },
      "execution_count": 284,
      "outputs": [
        {
          "output_type": "stream",
          "name": "stderr",
          "text": [
            "/usr/local/lib/python3.7/dist-packages/matplotlib/cbook/__init__.py:1376: VisibleDeprecationWarning: Creating an ndarray from ragged nested sequences (which is a list-or-tuple of lists-or-tuples-or ndarrays with different lengths or shapes) is deprecated. If you meant to do this, you must specify 'dtype=object' when creating the ndarray.\n",
            "  X = np.atleast_1d(X.T if isinstance(X, np.ndarray) else np.asarray(X))\n"
          ]
        },
        {
          "output_type": "display_data",
          "data": {
            "image/png": "[encoded data removed]",
            "text/plain": [
              "<Figure size 432x288 with 1 Axes>"
            ]
          },
          "metadata": {
            "needs_background": "light"
          }
        }
      ]
    },
    {
      "cell_type": "markdown",
      "source": [
        "**Box plot for y_max**"
      ],
      "metadata": {
        "id": "c-UANillbhED"
      }
    },
    {
      "cell_type": "code",
      "source": [
        "boxplot_y3 = df_y_max.boxplot(column=headers)"
      ],
      "metadata": {
        "colab": {
          "base_uri": "https://localhost:8080/",
          "height": 320
        },
        "id": "UF_9OtjTHvLB",
        "outputId": "977b074b-151a-4011-e192-2e9f1e4e9e48"
      },
      "execution_count": 285,
      "outputs": [
        {
          "output_type": "stream",
          "name": "stderr",
          "text": [
            "/usr/local/lib/python3.7/dist-packages/matplotlib/cbook/__init__.py:1376: VisibleDeprecationWarning: Creating an ndarray from ragged nested sequences (which is a list-or-tuple of lists-or-tuples-or ndarrays with different lengths or shapes) is deprecated. If you meant to do this, you must specify 'dtype=object' when creating the ndarray.\n",
            "  X = np.atleast_1d(X.T if isinstance(X, np.ndarray) else np.asarray(X))\n"
          ]
        },
        {
          "output_type": "display_data",
          "data": {
            "image/png": "[encoded data removed]",
            "text/plain": [
              "<Figure size 432x288 with 1 Axes>"
            ]
          },
          "metadata": {
            "needs_background": "light"
          }
        }
      ]
    },
    {
      "cell_type": "markdown",
      "source": [
        "**Box plot for y_min**"
      ],
      "metadata": {
        "id": "iUypfy_2blWE"
      }
    },
    {
      "cell_type": "code",
      "source": [
        "boxplot_y4 = df_y_min.boxplot(column=headers)"
      ],
      "metadata": {
        "colab": {
          "base_uri": "https://localhost:8080/",
          "height": 320
        },
        "id": "kmZYlDEcHvN4",
        "outputId": "47a5a066-5e8a-44af-f0c1-b8cebd61c8b4"
      },
      "execution_count": 286,
      "outputs": [
        {
          "output_type": "stream",
          "name": "stderr",
          "text": [
            "/usr/local/lib/python3.7/dist-packages/matplotlib/cbook/__init__.py:1376: VisibleDeprecationWarning: Creating an ndarray from ragged nested sequences (which is a list-or-tuple of lists-or-tuples-or ndarrays with different lengths or shapes) is deprecated. If you meant to do this, you must specify 'dtype=object' when creating the ndarray.\n",
            "  X = np.atleast_1d(X.T if isinstance(X, np.ndarray) else np.asarray(X))\n"
          ]
        },
        {
          "output_type": "display_data",
          "data": {
            "image/png": "[encoded data removed]",
            "text/plain": [
              "<Figure size 432x288 with 1 Axes>"
            ]
          },
          "metadata": {
            "needs_background": "light"
          }
        }
      ]
    },
    {
      "cell_type": "markdown",
      "source": [
        "**Box plot for z_mean**"
      ],
      "metadata": {
        "id": "O0VoQoKZbo58"
      }
    },
    {
      "cell_type": "code",
      "source": [
        "boxplot_z1 = df_z_mean.boxplot(column=headers)"
      ],
      "metadata": {
        "colab": {
          "base_uri": "https://localhost:8080/",
          "height": 323
        },
        "id": "-l3hpnUpHvQ0",
        "outputId": "c631cf03-6631-4549-cac1-4bbc6ce1317e"
      },
      "execution_count": 287,
      "outputs": [
        {
          "output_type": "stream",
          "name": "stderr",
          "text": [
            "/usr/local/lib/python3.7/dist-packages/matplotlib/cbook/__init__.py:1376: VisibleDeprecationWarning: Creating an ndarray from ragged nested sequences (which is a list-or-tuple of lists-or-tuples-or ndarrays with different lengths or shapes) is deprecated. If you meant to do this, you must specify 'dtype=object' when creating the ndarray.\n",
            "  X = np.atleast_1d(X.T if isinstance(X, np.ndarray) else np.asarray(X))\n"
          ]
        },
        {
          "output_type": "display_data",
          "data": {
            "image/png": "[encoded data removed]",
            "text/plain": [
              "<Figure size 432x288 with 1 Axes>"
            ]
          },
          "metadata": {
            "needs_background": "light"
          }
        }
      ]
    },
    {
      "cell_type": "markdown",
      "source": [
        "**Box plot for z_std**"
      ],
      "metadata": {
        "id": "8IP2D-6ibu7q"
      }
    },
    {
      "cell_type": "code",
      "source": [
        "boxplot_z2 = df_z_std.boxplot(column=headers)"
      ],
      "metadata": {
        "colab": {
          "base_uri": "https://localhost:8080/",
          "height": 323
        },
        "id": "DdAtna6fH4ki",
        "outputId": "66cbdfc6-a56f-4adb-e1b5-c64c91550e9f"
      },
      "execution_count": 288,
      "outputs": [
        {
          "output_type": "stream",
          "name": "stderr",
          "text": [
            "/usr/local/lib/python3.7/dist-packages/matplotlib/cbook/__init__.py:1376: VisibleDeprecationWarning: Creating an ndarray from ragged nested sequences (which is a list-or-tuple of lists-or-tuples-or ndarrays with different lengths or shapes) is deprecated. If you meant to do this, you must specify 'dtype=object' when creating the ndarray.\n",
            "  X = np.atleast_1d(X.T if isinstance(X, np.ndarray) else np.asarray(X))\n"
          ]
        },
        {
          "output_type": "display_data",
          "data": {
            "image/png": "[encoded data removed]",
            "text/plain": [
              "<Figure size 432x288 with 1 Axes>"
            ]
          },
          "metadata": {
            "needs_background": "light"
          }
        }
      ]
    },
    {
      "cell_type": "markdown",
      "source": [
        "**Box plot for z_max**"
      ],
      "metadata": {
        "id": "O2ncvxiobzUQ"
      }
    },
    {
      "cell_type": "code",
      "source": [
        "boxplot_z3 = df_z_max.boxplot(column=headers)"
      ],
      "metadata": {
        "colab": {
          "base_uri": "https://localhost:8080/",
          "height": 320
        },
        "id": "yHsLHXISH4nv",
        "outputId": "e1ccccbd-583c-4dae-8d0f-28abf4c7deb3"
      },
      "execution_count": 289,
      "outputs": [
        {
          "output_type": "stream",
          "name": "stderr",
          "text": [
            "/usr/local/lib/python3.7/dist-packages/matplotlib/cbook/__init__.py:1376: VisibleDeprecationWarning: Creating an ndarray from ragged nested sequences (which is a list-or-tuple of lists-or-tuples-or ndarrays with different lengths or shapes) is deprecated. If you meant to do this, you must specify 'dtype=object' when creating the ndarray.\n",
            "  X = np.atleast_1d(X.T if isinstance(X, np.ndarray) else np.asarray(X))\n"
          ]
        },
        {
          "output_type": "display_data",
          "data": {
            "image/png": "[encoded data removed]",
            "text/plain": [
              "<Figure size 432x288 with 1 Axes>"
            ]
          },
          "metadata": {
            "needs_background": "light"
          }
        }
      ]
    },
    {
      "cell_type": "markdown",
      "source": [
        "**Box plot for z_min**"
      ],
      "metadata": {
        "id": "d-miJ7Zcb4rF"
      }
    },
    {
      "cell_type": "code",
      "source": [
        "boxplot_z4 = df_z_min.boxplot(column=headers)"
      ],
      "metadata": {
        "colab": {
          "base_uri": "https://localhost:8080/",
          "height": 320
        },
        "id": "_nMdMv7bH4qp",
        "outputId": "3d9bb1da-3450-4893-f76e-a34835f9701f"
      },
      "execution_count": 290,
      "outputs": [
        {
          "output_type": "stream",
          "name": "stderr",
          "text": [
            "/usr/local/lib/python3.7/dist-packages/matplotlib/cbook/__init__.py:1376: VisibleDeprecationWarning: Creating an ndarray from ragged nested sequences (which is a list-or-tuple of lists-or-tuples-or ndarrays with different lengths or shapes) is deprecated. If you meant to do this, you must specify 'dtype=object' when creating the ndarray.\n",
            "  X = np.atleast_1d(X.T if isinstance(X, np.ndarray) else np.asarray(X))\n"
          ]
        },
        {
          "output_type": "display_data",
          "data": {
            "image/png": "[encoded data removed]",
            "text/plain": [
              "<Figure size 432x288 with 1 Axes>"
            ]
          },
          "metadata": {
            "needs_background": "light"
          }
        }
      ]
    },
    {
      "cell_type": "markdown",
      "source": [
        "##Q5. Balancing The Dataset"
      ],
      "metadata": {
        "id": "6wAdwz5EOi0h"
      }
    },
    {
      "cell_type": "code",
      "source": [
        "import seaborn as sns\n",
        "g = sns.countplot(df3['class'])\n",
        "g.set_xticklabels(['car','bus', 'bike', 'e-bike', 'train', 'walk'])\n",
        "plt.show()"
      ],
      "metadata": {
        "colab": {
          "base_uri": "https://localhost:8080/",
          "height": 333
        },
        "id": "MAi7nhOhH4tn",
        "outputId": "0aad5850-1067-49ee-e59a-9858ce68e395"
      },
      "execution_count": 297,
      "outputs": [
        {
          "output_type": "stream",
          "name": "stderr",
          "text": [
            "/usr/local/lib/python3.7/dist-packages/seaborn/_decorators.py:43: FutureWarning: Pass the following variable as a keyword arg: x. From version 0.12, the only valid positional argument will be `data`, and passing other arguments without an explicit keyword will result in an error or misinterpretation.\n",
            "  FutureWarning\n"
          ]
        },
        {
          "output_type": "display_data",
          "data": {
            "image/png": "[encoded data removed]",
            "text/plain": [
              "<Figure size 432x288 with 1 Axes>"
            ]
          },
          "metadata": {
            "needs_background": "light"
          }
        }
      ]
    },
    {
      "cell_type": "code",
      "source": [
        "from imblearn.under_sampling import NearMiss\n",
        "from collections import Counter\n",
        "from matplotlib import pyplot\n",
        "from sklearn.preprocessing import LabelEncoder\n",
        "nm = NearMiss()\n",
        "# x_nm, y_nm = nm.fit_resample(df3.loc[df3['class'] == 'train'], df3.loc[df3['class'] == ''])"
      ],
      "metadata": {
        "id": "AEhwIDXzH4zm"
      },
      "execution_count": 298,
      "outputs": []
    },
    {
      "cell_type": "code",
      "source": [
        "df3 = df3.dropna()"
      ],
      "metadata": {
        "id": "Zl1hnoNaJAGW"
      },
      "execution_count": 303,
      "outputs": []
    },
    {
      "cell_type": "markdown",
      "source": [
        "**Using the near miss algorithm for undersampling**"
      ],
      "metadata": {
        "id": "mCuQoSY1cHzN"
      }
    },
    {
      "cell_type": "code",
      "source": [
        "d_t = df3.values\n",
        "X, y = d_t[:, :-1], d_t[:, -1]\n",
        "y = LabelEncoder().fit_transform(y)\n",
        "under_samp = NearMiss()\n",
        "X, y = under_samp.fit_resample(X, y)\n",
        "count = Counter(y)\n",
        "for k,v in count.items():\n",
        "\tprint('Class=%d, n=%d' % (k, v))"
      ],
      "metadata": {
        "colab": {
          "base_uri": "https://localhost:8080/"
        },
        "id": "eKoEtfsMH42k",
        "outputId": "211a5d2a-3d7c-499d-c683-7051dc395a7c"
      },
      "execution_count": 336,
      "outputs": [
        {
          "output_type": "stream",
          "name": "stdout",
          "text": [
            "Class=0, n=79\n",
            "Class=1, n=79\n",
            "Class=2, n=79\n",
            "Class=3, n=79\n",
            "Class=4, n=79\n",
            "Class=5, n=79\n"
          ]
        }
      ]
    },
    {
      "cell_type": "markdown",
      "source": [
        "##Q.6 TRAIN TEST SPLIT"
      ],
      "metadata": {
        "id": "U9CTQVM5PO4c"
      }
    },
    {
      "cell_type": "markdown",
      "source": [
        "**Splitting the dataset firstly into train and test in 80-20. Then splitting train into train and validation in 75-25**"
      ],
      "metadata": {
        "id": "_Y5Y--UZpgyi"
      }
    },
    {
      "cell_type": "code",
      "source": [
        "X_train, X_test, y_train, y_test  = train_test_split(X, y, test_size=0.2, random_state=1)\n",
        "X_train, X_val, y_train, y_val  = train_test_split(X_train, y_train, test_size=0.25, random_state=1)"
      ],
      "metadata": {
        "id": "z-t8YAS1H45y"
      },
      "execution_count": 305,
      "outputs": []
    },
    {
      "cell_type": "code",
      "source": [
        "X_train.shape"
      ],
      "metadata": {
        "colab": {
          "base_uri": "https://localhost:8080/"
        },
        "id": "AICzT6rhpgOw",
        "outputId": "1f7e85ad-6176-4a94-8572-113bf1b8f5e1"
      },
      "execution_count": 341,
      "outputs": [
        {
          "output_type": "execute_result",
          "data": {
            "text/plain": [
              "(284, 12)"
            ]
          },
          "metadata": {},
          "execution_count": 341
        }
      ]
    },
    {
      "cell_type": "code",
      "source": [
        "X_val.shape"
      ],
      "metadata": {
        "colab": {
          "base_uri": "https://localhost:8080/"
        },
        "id": "B2t6-jBJp2gF",
        "outputId": "57dd4243-0270-47d3-f201-18b4fe78e0e3"
      },
      "execution_count": 342,
      "outputs": [
        {
          "output_type": "execute_result",
          "data": {
            "text/plain": [
              "(95, 12)"
            ]
          },
          "metadata": {},
          "execution_count": 342
        }
      ]
    },
    {
      "cell_type": "code",
      "source": [
        "X_test.shape"
      ],
      "metadata": {
        "colab": {
          "base_uri": "https://localhost:8080/"
        },
        "id": "5QxijUOxp6Uy",
        "outputId": "587eea01-3aaf-46ca-9168-4be3cd7714f2"
      },
      "execution_count": 344,
      "outputs": [
        {
          "output_type": "execute_result",
          "data": {
            "text/plain": [
              "(95, 12)"
            ]
          },
          "metadata": {},
          "execution_count": 344
        }
      ]
    },
    {
      "cell_type": "markdown",
      "source": [
        "##Q.7 MODEL IMPLEMENTATION"
      ],
      "metadata": {
        "id": "QG0fDGPZPX2r"
      }
    },
    {
      "cell_type": "markdown",
      "source": [
        "**Implemented svm, logistic and ANN. Then calculated f1 score for each model**"
      ],
      "metadata": {
        "id": "SYP3CEQRqB-x"
      }
    },
    {
      "cell_type": "code",
      "source": [
        "from sklearn.metrics import f1_score"
      ],
      "metadata": {
        "id": "mPRjLeoPmbCf"
      },
      "execution_count": 306,
      "outputs": []
    },
    {
      "cell_type": "markdown",
      "source": [
        "##SVM"
      ],
      "metadata": {
        "id": "Uawpi1LZqYDz"
      }
    },
    {
      "cell_type": "code",
      "source": [
        "from sklearn import svm\n",
        "clf = svm.SVC(kernel='linear') \n",
        "history = clf.fit(X_train, y_train)"
      ],
      "metadata": {
        "id": "JJdjgP4SHvUT"
      },
      "execution_count": 331,
      "outputs": []
    },
    {
      "cell_type": "code",
      "source": [
        "clf.score(X_val, y_val)"
      ],
      "metadata": {
        "colab": {
          "base_uri": "https://localhost:8080/"
        },
        "id": "BJI-PIRM8Ni-",
        "outputId": "868acefa-369c-44a0-c947-75c0a3e04f66"
      },
      "execution_count": 308,
      "outputs": [
        {
          "output_type": "execute_result",
          "data": {
            "text/plain": [
              "0.8210526315789474"
            ]
          },
          "metadata": {},
          "execution_count": 308
        }
      ]
    },
    {
      "cell_type": "code",
      "source": [
        "y_pred = clf.predict(X_test)"
      ],
      "metadata": {
        "id": "ABofybNg24h8"
      },
      "execution_count": 309,
      "outputs": []
    },
    {
      "cell_type": "code",
      "source": [
        "y_pred"
      ],
      "metadata": {
        "colab": {
          "base_uri": "https://localhost:8080/"
        },
        "id": "gBox9xK0-vTj",
        "outputId": "06211062-dca6-4154-9bdb-3b986b18a3b9"
      },
      "execution_count": 310,
      "outputs": [
        {
          "output_type": "execute_result",
          "data": {
            "text/plain": [
              "array([1, 3, 0, 5, 3, 3, 1, 3, 1, 2, 3, 2, 5, 3, 4, 0, 2, 4, 5, 5, 3, 2,\n",
              "       2, 0, 1, 5, 5, 3, 4, 5, 3, 0, 2, 1, 0, 4, 3, 2, 4, 0, 1, 0, 5, 3,\n",
              "       0, 2, 5, 3, 0, 1, 5, 5, 0, 5, 3, 2, 1, 5, 1, 0, 5, 5, 1, 5, 0, 3,\n",
              "       3, 2, 5, 1, 1, 1, 1, 4, 0, 3, 0, 1, 1, 5, 0, 0, 0, 2, 4, 2, 2, 4,\n",
              "       2, 0, 5, 0, 1, 1, 0])"
            ]
          },
          "metadata": {},
          "execution_count": 310
        }
      ]
    },
    {
      "cell_type": "code",
      "source": [
        "y_test"
      ],
      "metadata": {
        "colab": {
          "base_uri": "https://localhost:8080/"
        },
        "id": "rMaJD_n6-vWu",
        "outputId": "d9d529bb-2c49-4c58-aa22-4efafc6327c9"
      },
      "execution_count": 311,
      "outputs": [
        {
          "output_type": "execute_result",
          "data": {
            "text/plain": [
              "array([2, 3, 0, 5, 3, 3, 2, 3, 1, 2, 3, 2, 4, 3, 4, 0, 2, 4, 4, 5, 3, 2,\n",
              "       2, 0, 2, 5, 3, 3, 4, 0, 3, 3, 1, 2, 0, 4, 3, 1, 4, 0, 2, 0, 5, 3,\n",
              "       0, 2, 5, 3, 0, 2, 5, 5, 2, 5, 3, 2, 1, 5, 3, 0, 5, 5, 2, 5, 3, 3,\n",
              "       3, 1, 5, 1, 1, 1, 1, 4, 5, 3, 3, 1, 1, 5, 0, 5, 0, 2, 5, 2, 2, 5,\n",
              "       2, 0, 5, 0, 1, 1, 3])"
            ]
          },
          "metadata": {},
          "execution_count": 311
        }
      ]
    },
    {
      "cell_type": "code",
      "source": [
        "f1_score(y_test, y_pred, average='macro')"
      ],
      "metadata": {
        "colab": {
          "base_uri": "https://localhost:8080/"
        },
        "id": "qzCoE0DqmnS9",
        "outputId": "012b81e5-d225-443b-92e0-c47a8f23b0d9"
      },
      "execution_count": 312,
      "outputs": [
        {
          "output_type": "execute_result",
          "data": {
            "text/plain": [
              "0.7430187977851016"
            ]
          },
          "metadata": {},
          "execution_count": 312
        }
      ]
    },
    {
      "cell_type": "markdown",
      "source": [
        "##Logistic Regression"
      ],
      "metadata": {
        "id": "xLpqNFYkrD_p"
      }
    },
    {
      "cell_type": "code",
      "source": [
        "from sklearn.linear_model import LogisticRegression\n",
        "logisticRegr = LogisticRegression()\n",
        "logisticRegr.fit(X_train, y_train)"
      ],
      "metadata": {
        "colab": {
          "base_uri": "https://localhost:8080/"
        },
        "id": "SODtoPdK-vaG",
        "outputId": "aed03bd5-d9e5-4cff-d093-687eba99b53e"
      },
      "execution_count": 313,
      "outputs": [
        {
          "output_type": "stream",
          "name": "stderr",
          "text": [
            "/usr/local/lib/python3.7/dist-packages/sklearn/linear_model/_logistic.py:818: ConvergenceWarning: lbfgs failed to converge (status=1):\n",
            "STOP: TOTAL NO. of ITERATIONS REACHED LIMIT.\n",
            "\n",
            "Increase the number of iterations (max_iter) or scale the data as shown in:\n",
            "    https://scikit-learn.org/stable/modules/preprocessing.html\n",
            "Please also refer to the documentation for alternative solver options:\n",
            "    https://scikit-learn.org/stable/modules/linear_model.html#logistic-regression\n",
            "  extra_warning_msg=_LOGISTIC_SOLVER_CONVERGENCE_MSG,\n"
          ]
        },
        {
          "output_type": "execute_result",
          "data": {
            "text/plain": [
              "LogisticRegression()"
            ]
          },
          "metadata": {},
          "execution_count": 313
        }
      ]
    },
    {
      "cell_type": "code",
      "source": [
        "predictions = logisticRegr.predict(X_test)"
      ],
      "metadata": {
        "id": "_LBYPB6H_Ro3"
      },
      "execution_count": 314,
      "outputs": []
    },
    {
      "cell_type": "code",
      "source": [
        "predictions"
      ],
      "metadata": {
        "colab": {
          "base_uri": "https://localhost:8080/"
        },
        "id": "BwUgCEjX_Rrn",
        "outputId": "638a65ca-2c0d-4c96-b125-39ae1362c776"
      },
      "execution_count": 315,
      "outputs": [
        {
          "output_type": "execute_result",
          "data": {
            "text/plain": [
              "array([2, 3, 0, 5, 3, 3, 1, 3, 1, 2, 3, 2, 4, 3, 4, 5, 1, 4, 0, 5, 3, 2,\n",
              "       2, 0, 1, 5, 5, 3, 4, 0, 3, 0, 2, 1, 0, 4, 3, 2, 4, 0, 1, 0, 5, 3,\n",
              "       0, 2, 5, 3, 0, 1, 5, 5, 0, 5, 3, 2, 1, 5, 3, 0, 3, 5, 1, 5, 0, 3,\n",
              "       3, 2, 5, 1, 1, 1, 1, 4, 0, 3, 0, 1, 1, 5, 0, 0, 0, 2, 5, 2, 2, 4,\n",
              "       2, 0, 5, 0, 2, 1, 0])"
            ]
          },
          "metadata": {},
          "execution_count": 315
        }
      ]
    },
    {
      "cell_type": "code",
      "source": [
        "y_test"
      ],
      "metadata": {
        "colab": {
          "base_uri": "https://localhost:8080/"
        },
        "id": "LCebnnUE_RuT",
        "outputId": "48804329-491e-40e1-a06f-17975b70eba3"
      },
      "execution_count": 316,
      "outputs": [
        {
          "output_type": "execute_result",
          "data": {
            "text/plain": [
              "array([2, 3, 0, 5, 3, 3, 2, 3, 1, 2, 3, 2, 4, 3, 4, 0, 2, 4, 4, 5, 3, 2,\n",
              "       2, 0, 2, 5, 3, 3, 4, 0, 3, 3, 1, 2, 0, 4, 3, 1, 4, 0, 2, 0, 5, 3,\n",
              "       0, 2, 5, 3, 0, 2, 5, 5, 2, 5, 3, 2, 1, 5, 3, 0, 5, 5, 2, 5, 3, 3,\n",
              "       3, 1, 5, 1, 1, 1, 1, 4, 5, 3, 3, 1, 1, 5, 0, 5, 0, 2, 5, 2, 2, 5,\n",
              "       2, 0, 5, 0, 1, 1, 3])"
            ]
          },
          "metadata": {},
          "execution_count": 316
        }
      ]
    },
    {
      "cell_type": "code",
      "source": [
        "f1_score(y_test, predictions, average='macro')"
      ],
      "metadata": {
        "colab": {
          "base_uri": "https://localhost:8080/"
        },
        "id": "ju2jtSKql1pC",
        "outputId": "b943feac-3614-4ee9-b20a-a255a7766f0e"
      },
      "execution_count": 317,
      "outputs": [
        {
          "output_type": "execute_result",
          "data": {
            "text/plain": [
              "0.7614898258153837"
            ]
          },
          "metadata": {},
          "execution_count": 317
        }
      ]
    },
    {
      "cell_type": "code",
      "source": [
        "import tensorflow as tf"
      ],
      "metadata": {
        "id": "tzYdx-buE5a7"
      },
      "execution_count": 318,
      "outputs": []
    },
    {
      "cell_type": "code",
      "source": [
        ""
      ],
      "metadata": {
        "id": "VTqzUSkPPXnh"
      },
      "execution_count": 318,
      "outputs": []
    },
    {
      "cell_type": "code",
      "source": [
        "df1.head()"
      ],
      "metadata": {
        "colab": {
          "base_uri": "https://localhost:8080/",
          "height": 443
        },
        "id": "qI3BMDlgPXV3",
        "outputId": "ae67a09a-28b7-4913-e9fc-9bffca0ba56e"
      },
      "execution_count": 319,
      "outputs": [
        {
          "output_type": "execute_result",
          "data": {
            "text/html": [
              "\n",
              "  <div id=\"df-e83c2ef1-bc1c-48a0-9caa-ce53f770593c\">\n",
              "    <div class=\"colab-df-container\">\n",
              "      <div>\n",
              "<style scoped>\n",
              "    .dataframe tbody tr th:only-of-type {\n",
              "        vertical-align: middle;\n",
              "    }\n",
              "\n",
              "    .dataframe tbody tr th {\n",
              "        vertical-align: top;\n",
              "    }\n",
              "\n",
              "    .dataframe thead th {\n",
              "        text-align: right;\n",
              "    }\n",
              "</style>\n",
              "<table border=\"1\" class=\"dataframe\">\n",
              "  <thead>\n",
              "    <tr style=\"text-align: right;\">\n",
              "      <th></th>\n",
              "      <th>user</th>\n",
              "      <th>timestamp</th>\n",
              "      <th>x</th>\n",
              "      <th>y</th>\n",
              "      <th>z</th>\n",
              "      <th>class</th>\n",
              "      <th>shifted_user</th>\n",
              "      <th>shifted_class</th>\n",
              "      <th>shifted_ts</th>\n",
              "      <th>difference</th>\n",
              "      <th>updated</th>\n",
              "      <th>updated_shift</th>\n",
              "      <th>seq</th>\n",
              "      <th>min_t</th>\n",
              "      <th>t_needed</th>\n",
              "      <th>t_parted</th>\n",
              "      <th>seq_new</th>\n",
              "    </tr>\n",
              "  </thead>\n",
              "  <tbody>\n",
              "    <tr>\n",
              "      <th>0</th>\n",
              "      <td>a2d80ed662f34d32951eb1c6ed076c313e358b73</td>\n",
              "      <td>2018-06-04 16:26:55</td>\n",
              "      <td>0.78</td>\n",
              "      <td>-9.13</td>\n",
              "      <td>-3.74</td>\n",
              "      <td>bus</td>\n",
              "      <td>NaN</td>\n",
              "      <td>NaN</td>\n",
              "      <td>NaT</td>\n",
              "      <td>NaN</td>\n",
              "      <td>True</td>\n",
              "      <td>NaN</td>\n",
              "      <td>1</td>\n",
              "      <td>2018-06-04 16:26:55</td>\n",
              "      <td>0.0</td>\n",
              "      <td>1#0</td>\n",
              "      <td>NaN</td>\n",
              "    </tr>\n",
              "    <tr>\n",
              "      <th>1</th>\n",
              "      <td>a2d80ed662f34d32951eb1c6ed076c313e358b73</td>\n",
              "      <td>2018-06-04 16:26:55</td>\n",
              "      <td>0.79</td>\n",
              "      <td>-9.11</td>\n",
              "      <td>-3.75</td>\n",
              "      <td>bus</td>\n",
              "      <td>a2d80ed662f34d32951eb1c6ed076c313e358b73</td>\n",
              "      <td>bus</td>\n",
              "      <td>2018-06-04 16:26:55</td>\n",
              "      <td>0.0</td>\n",
              "      <td>False</td>\n",
              "      <td>True</td>\n",
              "      <td>1</td>\n",
              "      <td>2018-06-04 16:26:55</td>\n",
              "      <td>0.0</td>\n",
              "      <td>1#0</td>\n",
              "      <td>1.0</td>\n",
              "    </tr>\n",
              "    <tr>\n",
              "      <th>2</th>\n",
              "      <td>a2d80ed662f34d32951eb1c6ed076c313e358b73</td>\n",
              "      <td>2018-06-04 16:26:55</td>\n",
              "      <td>0.80</td>\n",
              "      <td>-9.12</td>\n",
              "      <td>-3.75</td>\n",
              "      <td>bus</td>\n",
              "      <td>a2d80ed662f34d32951eb1c6ed076c313e358b73</td>\n",
              "      <td>bus</td>\n",
              "      <td>2018-06-04 16:26:55</td>\n",
              "      <td>0.0</td>\n",
              "      <td>False</td>\n",
              "      <td>False</td>\n",
              "      <td>1</td>\n",
              "      <td>2018-06-04 16:26:55</td>\n",
              "      <td>0.0</td>\n",
              "      <td>1#0</td>\n",
              "      <td>1.0</td>\n",
              "    </tr>\n",
              "    <tr>\n",
              "      <th>3</th>\n",
              "      <td>a2d80ed662f34d32951eb1c6ed076c313e358b73</td>\n",
              "      <td>2018-06-04 16:26:55</td>\n",
              "      <td>0.78</td>\n",
              "      <td>-9.14</td>\n",
              "      <td>-3.76</td>\n",
              "      <td>bus</td>\n",
              "      <td>a2d80ed662f34d32951eb1c6ed076c313e358b73</td>\n",
              "      <td>bus</td>\n",
              "      <td>2018-06-04 16:26:55</td>\n",
              "      <td>0.0</td>\n",
              "      <td>False</td>\n",
              "      <td>False</td>\n",
              "      <td>1</td>\n",
              "      <td>2018-06-04 16:26:55</td>\n",
              "      <td>0.0</td>\n",
              "      <td>1#0</td>\n",
              "      <td>1.0</td>\n",
              "    </tr>\n",
              "    <tr>\n",
              "      <th>4</th>\n",
              "      <td>a2d80ed662f34d32951eb1c6ed076c313e358b73</td>\n",
              "      <td>2018-06-04 16:26:55</td>\n",
              "      <td>0.83</td>\n",
              "      <td>-9.12</td>\n",
              "      <td>-3.80</td>\n",
              "      <td>bus</td>\n",
              "      <td>a2d80ed662f34d32951eb1c6ed076c313e358b73</td>\n",
              "      <td>bus</td>\n",
              "      <td>2018-06-04 16:26:55</td>\n",
              "      <td>0.0</td>\n",
              "      <td>False</td>\n",
              "      <td>False</td>\n",
              "      <td>1</td>\n",
              "      <td>2018-06-04 16:26:55</td>\n",
              "      <td>0.0</td>\n",
              "      <td>1#0</td>\n",
              "      <td>1.0</td>\n",
              "    </tr>\n",
              "  </tbody>\n",
              "</table>\n",
              "</div>\n",
              "      <button class=\"colab-df-convert\" onclick=\"convertToInteractive('df-e83c2ef1-bc1c-48a0-9caa-ce53f770593c')\"\n",
              "              title=\"Convert this dataframe to an interactive table.\"\n",
              "              style=\"display:none;\">\n",
              "        \n",
              "  <svg xmlns=\"http://www.w3.org/2000/svg\" height=\"24px\"viewBox=\"0 0 24 24\"\n",
              "       width=\"24px\">\n",
              "    <path d=\"M0 0h24v24H0V0z\" fill=\"none\"/>\n",
              "    <path d=\"M18.56 5.44l.94 2.06.94-2.06 2.06-.94-2.06-.94-.94-2.06-.94 2.06-2.06.94zm-11 1L8.5 8.5l.94-2.06 2.06-.94-2.06-.94L8.5 2.5l-.94 2.06-2.06.94zm10 10l.94 2.06.94-2.06 2.06-.94-2.06-.94-.94-2.06-.94 2.06-2.06.94z\"/><path d=\"M17.41 7.96l-1.37-1.37c-.4-.4-.92-.59-1.43-.59-.52 0-1.04.2-1.43.59L10.3 9.45l-7.72 7.72c-.78.78-.78 2.05 0 2.83L4 21.41c.39.39.9.59 1.41.59.51 0 1.02-.2 1.41-.59l7.78-7.78 2.81-2.81c.8-.78.8-2.07 0-2.86zM5.41 20L4 18.59l7.72-7.72 1.47 1.35L5.41 20z\"/>\n",
              "  </svg>\n",
              "      </button>\n",
              "      \n",
              "  <style>\n",
              "    .colab-df-container {\n",
              "      display:flex;\n",
              "      flex-wrap:wrap;\n",
              "      gap: 12px;\n",
              "    }\n",
              "\n",
              "    .colab-df-convert {\n",
              "      background-color: #E8F0FE;\n",
              "      border: none;\n",
              "      border-radius: 50%;\n",
              "      cursor: pointer;\n",
              "      display: none;\n",
              "      fill: #1967D2;\n",
              "      height: 32px;\n",
              "      padding: 0 0 0 0;\n",
              "      width: 32px;\n",
              "    }\n",
              "\n",
              "    .colab-df-convert:hover {\n",
              "      background-color: #E2EBFA;\n",
              "      box-shadow: 0px 1px 2px rgba(60, 64, 67, 0.3), 0px 1px 3px 1px rgba(60, 64, 67, 0.15);\n",
              "      fill: #174EA6;\n",
              "    }\n",
              "\n",
              "    [theme=dark] .colab-df-convert {\n",
              "      background-color: #3B4455;\n",
              "      fill: #D2E3FC;\n",
              "    }\n",
              "\n",
              "    [theme=dark] .colab-df-convert:hover {\n",
              "      background-color: #434B5C;\n",
              "      box-shadow: 0px 1px 3px 1px rgba(0, 0, 0, 0.15);\n",
              "      filter: drop-shadow(0px 1px 2px rgba(0, 0, 0, 0.3));\n",
              "      fill: #FFFFFF;\n",
              "    }\n",
              "  </style>\n",
              "\n",
              "      <script>\n",
              "        const buttonEl =\n",
              "          document.querySelector('#df-e83c2ef1-bc1c-48a0-9caa-ce53f770593c button.colab-df-convert');\n",
              "        buttonEl.style.display =\n",
              "          google.colab.kernel.accessAllowed ? 'block' : 'none';\n",
              "\n",
              "        async function convertToInteractive(key) {\n",
              "          const element = document.querySelector('#df-e83c2ef1-bc1c-48a0-9caa-ce53f770593c');\n",
              "          const dataTable =\n",
              "            await google.colab.kernel.invokeFunction('convertToInteractive',\n",
              "                                                     [key], {});\n",
              "          if (!dataTable) return;\n",
              "\n",
              "          const docLinkHtml = 'Like what you see? Visit the ' +\n",
              "            '<a target=\"_blank\" href=https://colab.research.google.com/notebooks/data_table.ipynb>data table notebook</a>'\n",
              "            + ' to learn more about interactive tables.';\n",
              "          element.innerHTML = '';\n",
              "          dataTable['output_type'] = 'display_data';\n",
              "          await google.colab.output.renderOutput(dataTable, element);\n",
              "          const docLink = document.createElement('div');\n",
              "          docLink.innerHTML = docLinkHtml;\n",
              "          element.appendChild(docLink);\n",
              "        }\n",
              "      </script>\n",
              "    </div>\n",
              "  </div>\n",
              "  "
            ],
            "text/plain": [
              "                                       user           timestamp     x     y  \\\n",
              "0  a2d80ed662f34d32951eb1c6ed076c313e358b73 2018-06-04 16:26:55  0.78 -9.13   \n",
              "1  a2d80ed662f34d32951eb1c6ed076c313e358b73 2018-06-04 16:26:55  0.79 -9.11   \n",
              "2  a2d80ed662f34d32951eb1c6ed076c313e358b73 2018-06-04 16:26:55  0.80 -9.12   \n",
              "3  a2d80ed662f34d32951eb1c6ed076c313e358b73 2018-06-04 16:26:55  0.78 -9.14   \n",
              "4  a2d80ed662f34d32951eb1c6ed076c313e358b73 2018-06-04 16:26:55  0.83 -9.12   \n",
              "\n",
              "      z class                              shifted_user shifted_class  \\\n",
              "0 -3.74   bus                                       NaN           NaN   \n",
              "1 -3.75   bus  a2d80ed662f34d32951eb1c6ed076c313e358b73           bus   \n",
              "2 -3.75   bus  a2d80ed662f34d32951eb1c6ed076c313e358b73           bus   \n",
              "3 -3.76   bus  a2d80ed662f34d32951eb1c6ed076c313e358b73           bus   \n",
              "4 -3.80   bus  a2d80ed662f34d32951eb1c6ed076c313e358b73           bus   \n",
              "\n",
              "           shifted_ts  difference  updated updated_shift  seq  \\\n",
              "0                 NaT         NaN     True           NaN    1   \n",
              "1 2018-06-04 16:26:55         0.0    False          True    1   \n",
              "2 2018-06-04 16:26:55         0.0    False         False    1   \n",
              "3 2018-06-04 16:26:55         0.0    False         False    1   \n",
              "4 2018-06-04 16:26:55         0.0    False         False    1   \n",
              "\n",
              "                min_t  t_needed t_parted  seq_new  \n",
              "0 2018-06-04 16:26:55       0.0      1#0      NaN  \n",
              "1 2018-06-04 16:26:55       0.0      1#0      1.0  \n",
              "2 2018-06-04 16:26:55       0.0      1#0      1.0  \n",
              "3 2018-06-04 16:26:55       0.0      1#0      1.0  \n",
              "4 2018-06-04 16:26:55       0.0      1#0      1.0  "
            ]
          },
          "metadata": {},
          "execution_count": 319
        }
      ]
    },
    {
      "cell_type": "code",
      "source": [
        "df4 = df3.copy()"
      ],
      "metadata": {
        "id": "qAz8BvPZfayv"
      },
      "execution_count": 320,
      "outputs": []
    },
    {
      "cell_type": "markdown",
      "source": [
        "##ANN"
      ],
      "metadata": {
        "id": "qVz1X6-SrKFg"
      }
    },
    {
      "cell_type": "code",
      "source": [
        "y1_train = y = tf.keras.utils.to_categorical(y_train)\n",
        "y1_test = y = tf.keras.utils.to_categorical(y_test)"
      ],
      "metadata": {
        "id": "DtDVDz--lXNa"
      },
      "execution_count": 328,
      "outputs": []
    },
    {
      "cell_type": "code",
      "source": [
        "classifier = tf.keras.models.Sequential()\n",
        "classifier.add(tf.keras.layers.BatchNormalization())\n",
        "classifier.add(tf.keras.layers.Dense(units=12,activation=\"ReLU\"))\n",
        "classifier.add(tf.keras.layers.Dropout(0.2))\n",
        "classifier.add(tf.keras.layers.BatchNormalization())\n",
        "classifier.add(tf.keras.layers.Dense(units=8,activation=\"ReLU\"))\n",
        "classifier.add(tf.keras.layers.Dropout(0.1))\n",
        "classifier.add(tf.keras.layers.BatchNormalization())\n",
        "classifier.add(tf.keras.layers.Dense(units=6,activation=\"sigmoid\"))\n",
        "adam = tf.keras.optimizers.Adam(learning_rate=0.001)\n",
        "classifier.compile(optimizer=adam,loss=\"categorical_crossentropy\",metrics=['accuracy'])\n",
        "classifier.fit(X_train,y1_train,batch_size = 16,epochs = 250, validation_data=(X_test, y1_test))"
      ],
      "metadata": {
        "colab": {
          "base_uri": "https://localhost:8080/"
        },
        "id": "54ecYCeA_Rxc",
        "outputId": "d3999a70-8019-4022-f67d-c54e3e9fbbc0"
      },
      "execution_count": 350,
      "outputs": [
        {
          "output_type": "stream",
          "name": "stdout",
          "text": [
            "Epoch 1/250\n",
            "18/18 [==============================] - 2s 17ms/step - loss: 1.9561 - accuracy: 0.1725 - val_loss: 2.1222 - val_accuracy: 0.0526\n",
            "Epoch 2/250\n",
            "18/18 [==============================] - 0s 4ms/step - loss: 1.8626 - accuracy: 0.2394 - val_loss: 1.9047 - val_accuracy: 0.1368\n",
            "Epoch 3/250\n",
            "18/18 [==============================] - 0s 5ms/step - loss: 1.6239 - accuracy: 0.3697 - val_loss: 1.7662 - val_accuracy: 0.2105\n",
            "Epoch 4/250\n",
            "18/18 [==============================] - 0s 6ms/step - loss: 1.6105 - accuracy: 0.3838 - val_loss: 1.6769 - val_accuracy: 0.3684\n",
            "Epoch 5/250\n",
            "18/18 [==============================] - 0s 5ms/step - loss: 1.5491 - accuracy: 0.3838 - val_loss: 1.6117 - val_accuracy: 0.4421\n",
            "Epoch 6/250\n",
            "18/18 [==============================] - 0s 4ms/step - loss: 1.5042 - accuracy: 0.3908 - val_loss: 1.5493 - val_accuracy: 0.4947\n",
            "Epoch 7/250\n",
            "18/18 [==============================] - 0s 4ms/step - loss: 1.4039 - accuracy: 0.4261 - val_loss: 1.4968 - val_accuracy: 0.5053\n",
            "Epoch 8/250\n",
            "18/18 [==============================] - 0s 4ms/step - loss: 1.3330 - accuracy: 0.4789 - val_loss: 1.4532 - val_accuracy: 0.5053\n",
            "Epoch 9/250\n",
            "18/18 [==============================] - 0s 4ms/step - loss: 1.4129 - accuracy: 0.4577 - val_loss: 1.4032 - val_accuracy: 0.5053\n",
            "Epoch 10/250\n",
            "18/18 [==============================] - 0s 4ms/step - loss: 1.2877 - accuracy: 0.4718 - val_loss: 1.3538 - val_accuracy: 0.5053\n",
            "Epoch 11/250\n",
            "18/18 [==============================] - 0s 5ms/step - loss: 1.2890 - accuracy: 0.4789 - val_loss: 1.3048 - val_accuracy: 0.5263\n",
            "Epoch 12/250\n",
            "18/18 [==============================] - 0s 4ms/step - loss: 1.2630 - accuracy: 0.5070 - val_loss: 1.2623 - val_accuracy: 0.5684\n",
            "Epoch 13/250\n",
            "18/18 [==============================] - 0s 4ms/step - loss: 1.1706 - accuracy: 0.5141 - val_loss: 1.2116 - val_accuracy: 0.6000\n",
            "Epoch 14/250\n",
            "18/18 [==============================] - 0s 4ms/step - loss: 1.1576 - accuracy: 0.5423 - val_loss: 1.1578 - val_accuracy: 0.6526\n",
            "Epoch 15/250\n",
            "18/18 [==============================] - 0s 4ms/step - loss: 1.1651 - accuracy: 0.5493 - val_loss: 1.1150 - val_accuracy: 0.6632\n",
            "Epoch 16/250\n",
            "18/18 [==============================] - 0s 4ms/step - loss: 1.0918 - accuracy: 0.5915 - val_loss: 1.0809 - val_accuracy: 0.6737\n",
            "Epoch 17/250\n",
            "18/18 [==============================] - 0s 5ms/step - loss: 1.1815 - accuracy: 0.5352 - val_loss: 1.0522 - val_accuracy: 0.6842\n",
            "Epoch 18/250\n",
            "18/18 [==============================] - 0s 4ms/step - loss: 1.1867 - accuracy: 0.5528 - val_loss: 1.0314 - val_accuracy: 0.6947\n",
            "Epoch 19/250\n",
            "18/18 [==============================] - 0s 5ms/step - loss: 1.0190 - accuracy: 0.6373 - val_loss: 1.0148 - val_accuracy: 0.6842\n",
            "Epoch 20/250\n",
            "18/18 [==============================] - 0s 5ms/step - loss: 1.0952 - accuracy: 0.5845 - val_loss: 0.9890 - val_accuracy: 0.6947\n",
            "Epoch 21/250\n",
            "18/18 [==============================] - 0s 4ms/step - loss: 1.0875 - accuracy: 0.5704 - val_loss: 0.9641 - val_accuracy: 0.7368\n",
            "Epoch 22/250\n",
            "18/18 [==============================] - 0s 5ms/step - loss: 1.0916 - accuracy: 0.5739 - val_loss: 0.9489 - val_accuracy: 0.7053\n",
            "Epoch 23/250\n",
            "18/18 [==============================] - 0s 4ms/step - loss: 0.9831 - accuracy: 0.5986 - val_loss: 0.9405 - val_accuracy: 0.7053\n",
            "Epoch 24/250\n",
            "18/18 [==============================] - 0s 4ms/step - loss: 1.0604 - accuracy: 0.5669 - val_loss: 0.9364 - val_accuracy: 0.7263\n",
            "Epoch 25/250\n",
            "18/18 [==============================] - 0s 5ms/step - loss: 1.0235 - accuracy: 0.5669 - val_loss: 0.9184 - val_accuracy: 0.7368\n",
            "Epoch 26/250\n",
            "18/18 [==============================] - 0s 5ms/step - loss: 0.9742 - accuracy: 0.6303 - val_loss: 0.9082 - val_accuracy: 0.7684\n",
            "Epoch 27/250\n",
            "18/18 [==============================] - 0s 5ms/step - loss: 1.0604 - accuracy: 0.5951 - val_loss: 0.8984 - val_accuracy: 0.7474\n",
            "Epoch 28/250\n",
            "18/18 [==============================] - 0s 5ms/step - loss: 1.0269 - accuracy: 0.5775 - val_loss: 0.8888 - val_accuracy: 0.7579\n",
            "Epoch 29/250\n",
            "18/18 [==============================] - 0s 4ms/step - loss: 0.9510 - accuracy: 0.6373 - val_loss: 0.8796 - val_accuracy: 0.7474\n",
            "Epoch 30/250\n",
            "18/18 [==============================] - 0s 4ms/step - loss: 0.9448 - accuracy: 0.6620 - val_loss: 0.8725 - val_accuracy: 0.7474\n",
            "Epoch 31/250\n",
            "18/18 [==============================] - 0s 4ms/step - loss: 0.9592 - accuracy: 0.6268 - val_loss: 0.8685 - val_accuracy: 0.7684\n",
            "Epoch 32/250\n",
            "18/18 [==============================] - 0s 4ms/step - loss: 0.9626 - accuracy: 0.6338 - val_loss: 0.8665 - val_accuracy: 0.7684\n",
            "Epoch 33/250\n",
            "18/18 [==============================] - 0s 4ms/step - loss: 0.9377 - accuracy: 0.6162 - val_loss: 0.8626 - val_accuracy: 0.7684\n",
            "Epoch 34/250\n",
            "18/18 [==============================] - 0s 4ms/step - loss: 0.9648 - accuracy: 0.5915 - val_loss: 0.8573 - val_accuracy: 0.7684\n",
            "Epoch 35/250\n",
            "18/18 [==============================] - 0s 5ms/step - loss: 0.9401 - accuracy: 0.6549 - val_loss: 0.8492 - val_accuracy: 0.7684\n",
            "Epoch 36/250\n",
            "18/18 [==============================] - 0s 4ms/step - loss: 0.9589 - accuracy: 0.5951 - val_loss: 0.8501 - val_accuracy: 0.7579\n",
            "Epoch 37/250\n",
            "18/18 [==============================] - 0s 4ms/step - loss: 0.9194 - accuracy: 0.5951 - val_loss: 0.8394 - val_accuracy: 0.7474\n",
            "Epoch 38/250\n",
            "18/18 [==============================] - 0s 5ms/step - loss: 0.8929 - accuracy: 0.6690 - val_loss: 0.8400 - val_accuracy: 0.7579\n",
            "Epoch 39/250\n",
            "18/18 [==============================] - 0s 4ms/step - loss: 0.9585 - accuracy: 0.6232 - val_loss: 0.8354 - val_accuracy: 0.7579\n",
            "Epoch 40/250\n",
            "18/18 [==============================] - 0s 4ms/step - loss: 0.9130 - accuracy: 0.6761 - val_loss: 0.8224 - val_accuracy: 0.7474\n",
            "Epoch 41/250\n",
            "18/18 [==============================] - 0s 5ms/step - loss: 0.9047 - accuracy: 0.6444 - val_loss: 0.8120 - val_accuracy: 0.7158\n",
            "Epoch 42/250\n",
            "18/18 [==============================] - 0s 4ms/step - loss: 0.8463 - accuracy: 0.6514 - val_loss: 0.8048 - val_accuracy: 0.7263\n",
            "Epoch 43/250\n",
            "18/18 [==============================] - 0s 4ms/step - loss: 0.8959 - accuracy: 0.6092 - val_loss: 0.8053 - val_accuracy: 0.7053\n",
            "Epoch 44/250\n",
            "18/18 [==============================] - 0s 4ms/step - loss: 0.9204 - accuracy: 0.6197 - val_loss: 0.8038 - val_accuracy: 0.7053\n",
            "Epoch 45/250\n",
            "18/18 [==============================] - 0s 5ms/step - loss: 0.9349 - accuracy: 0.6338 - val_loss: 0.8049 - val_accuracy: 0.7053\n",
            "Epoch 46/250\n",
            "18/18 [==============================] - 0s 5ms/step - loss: 0.9257 - accuracy: 0.6232 - val_loss: 0.8012 - val_accuracy: 0.6947\n",
            "Epoch 47/250\n",
            "18/18 [==============================] - 0s 5ms/step - loss: 0.8666 - accuracy: 0.6514 - val_loss: 0.7941 - val_accuracy: 0.7053\n",
            "Epoch 48/250\n",
            "18/18 [==============================] - 0s 4ms/step - loss: 0.9819 - accuracy: 0.6162 - val_loss: 0.7901 - val_accuracy: 0.7158\n",
            "Epoch 49/250\n",
            "18/18 [==============================] - 0s 4ms/step - loss: 0.8907 - accuracy: 0.6232 - val_loss: 0.7910 - val_accuracy: 0.7263\n",
            "Epoch 50/250\n",
            "18/18 [==============================] - 0s 4ms/step - loss: 0.8805 - accuracy: 0.6303 - val_loss: 0.7911 - val_accuracy: 0.7368\n",
            "Epoch 51/250\n",
            "18/18 [==============================] - 0s 4ms/step - loss: 0.8335 - accuracy: 0.6408 - val_loss: 0.7955 - val_accuracy: 0.7368\n",
            "Epoch 52/250\n",
            "18/18 [==============================] - 0s 4ms/step - loss: 0.8199 - accuracy: 0.6901 - val_loss: 0.7935 - val_accuracy: 0.7368\n",
            "Epoch 53/250\n",
            "18/18 [==============================] - 0s 5ms/step - loss: 0.9090 - accuracy: 0.6655 - val_loss: 0.7897 - val_accuracy: 0.7263\n",
            "Epoch 54/250\n",
            "18/18 [==============================] - 0s 4ms/step - loss: 0.7510 - accuracy: 0.6831 - val_loss: 0.7798 - val_accuracy: 0.7368\n",
            "Epoch 55/250\n",
            "18/18 [==============================] - 0s 5ms/step - loss: 0.7794 - accuracy: 0.6937 - val_loss: 0.7717 - val_accuracy: 0.7158\n",
            "Epoch 56/250\n",
            "18/18 [==============================] - 0s 4ms/step - loss: 0.8408 - accuracy: 0.6690 - val_loss: 0.7696 - val_accuracy: 0.7368\n",
            "Epoch 57/250\n",
            "18/18 [==============================] - 0s 4ms/step - loss: 0.8342 - accuracy: 0.6303 - val_loss: 0.7695 - val_accuracy: 0.7474\n",
            "Epoch 58/250\n",
            "18/18 [==============================] - 0s 4ms/step - loss: 0.9052 - accuracy: 0.6197 - val_loss: 0.7650 - val_accuracy: 0.7368\n",
            "Epoch 59/250\n",
            "18/18 [==============================] - 0s 4ms/step - loss: 0.8415 - accuracy: 0.6549 - val_loss: 0.7654 - val_accuracy: 0.7368\n",
            "Epoch 60/250\n",
            "18/18 [==============================] - 0s 4ms/step - loss: 0.8124 - accuracy: 0.6408 - val_loss: 0.7676 - val_accuracy: 0.7158\n",
            "Epoch 61/250\n",
            "18/18 [==============================] - 0s 5ms/step - loss: 0.8103 - accuracy: 0.7042 - val_loss: 0.7742 - val_accuracy: 0.7368\n",
            "Epoch 62/250\n",
            "18/18 [==============================] - 0s 5ms/step - loss: 0.7498 - accuracy: 0.6761 - val_loss: 0.7711 - val_accuracy: 0.7368\n",
            "Epoch 63/250\n",
            "18/18 [==============================] - 0s 5ms/step - loss: 0.7495 - accuracy: 0.6831 - val_loss: 0.7587 - val_accuracy: 0.7474\n",
            "Epoch 64/250\n",
            "18/18 [==============================] - 0s 5ms/step - loss: 0.8563 - accuracy: 0.6338 - val_loss: 0.7596 - val_accuracy: 0.7474\n",
            "Epoch 65/250\n",
            "18/18 [==============================] - 0s 4ms/step - loss: 0.8560 - accuracy: 0.6268 - val_loss: 0.7623 - val_accuracy: 0.7474\n",
            "Epoch 66/250\n",
            "18/18 [==============================] - 0s 5ms/step - loss: 0.7866 - accuracy: 0.6937 - val_loss: 0.7586 - val_accuracy: 0.7474\n",
            "Epoch 67/250\n",
            "18/18 [==============================] - 0s 5ms/step - loss: 0.7505 - accuracy: 0.7042 - val_loss: 0.7602 - val_accuracy: 0.7579\n",
            "Epoch 68/250\n",
            "18/18 [==============================] - 0s 4ms/step - loss: 0.8087 - accuracy: 0.6690 - val_loss: 0.7585 - val_accuracy: 0.7474\n",
            "Epoch 69/250\n",
            "18/18 [==============================] - 0s 5ms/step - loss: 0.8281 - accuracy: 0.6690 - val_loss: 0.7629 - val_accuracy: 0.7368\n",
            "Epoch 70/250\n",
            "18/18 [==============================] - 0s 4ms/step - loss: 0.8417 - accuracy: 0.6796 - val_loss: 0.7583 - val_accuracy: 0.7368\n",
            "Epoch 71/250\n",
            "18/18 [==============================] - 0s 4ms/step - loss: 0.8452 - accuracy: 0.6338 - val_loss: 0.7552 - val_accuracy: 0.7368\n",
            "Epoch 72/250\n",
            "18/18 [==============================] - 0s 4ms/step - loss: 0.7864 - accuracy: 0.7218 - val_loss: 0.7589 - val_accuracy: 0.7474\n",
            "Epoch 73/250\n",
            "18/18 [==============================] - 0s 4ms/step - loss: 0.7064 - accuracy: 0.7148 - val_loss: 0.7574 - val_accuracy: 0.7474\n",
            "Epoch 74/250\n",
            "18/18 [==============================] - 0s 5ms/step - loss: 0.8074 - accuracy: 0.6831 - val_loss: 0.7569 - val_accuracy: 0.7474\n",
            "Epoch 75/250\n",
            "18/18 [==============================] - 0s 5ms/step - loss: 0.8079 - accuracy: 0.6514 - val_loss: 0.7684 - val_accuracy: 0.7053\n",
            "Epoch 76/250\n",
            "18/18 [==============================] - 0s 4ms/step - loss: 0.7956 - accuracy: 0.6796 - val_loss: 0.7674 - val_accuracy: 0.7158\n",
            "Epoch 77/250\n",
            "18/18 [==============================] - 0s 5ms/step - loss: 0.7848 - accuracy: 0.6549 - val_loss: 0.7661 - val_accuracy: 0.7263\n",
            "Epoch 78/250\n",
            "18/18 [==============================] - 0s 4ms/step - loss: 0.7665 - accuracy: 0.6831 - val_loss: 0.7543 - val_accuracy: 0.7368\n",
            "Epoch 79/250\n",
            "18/18 [==============================] - 0s 4ms/step - loss: 0.7971 - accuracy: 0.6373 - val_loss: 0.7468 - val_accuracy: 0.7263\n",
            "Epoch 80/250\n",
            "18/18 [==============================] - 0s 5ms/step - loss: 0.7755 - accuracy: 0.6901 - val_loss: 0.7482 - val_accuracy: 0.7368\n",
            "Epoch 81/250\n",
            "18/18 [==============================] - 0s 4ms/step - loss: 0.7277 - accuracy: 0.7430 - val_loss: 0.7481 - val_accuracy: 0.7053\n",
            "Epoch 82/250\n",
            "18/18 [==============================] - 0s 4ms/step - loss: 0.8028 - accuracy: 0.6866 - val_loss: 0.7449 - val_accuracy: 0.7053\n",
            "Epoch 83/250\n",
            "18/18 [==============================] - 0s 5ms/step - loss: 0.7176 - accuracy: 0.7113 - val_loss: 0.7411 - val_accuracy: 0.7368\n",
            "Epoch 84/250\n",
            "18/18 [==============================] - 0s 4ms/step - loss: 0.7458 - accuracy: 0.7042 - val_loss: 0.7418 - val_accuracy: 0.7474\n",
            "Epoch 85/250\n",
            "18/18 [==============================] - 0s 5ms/step - loss: 0.6910 - accuracy: 0.7148 - val_loss: 0.7374 - val_accuracy: 0.7368\n",
            "Epoch 86/250\n",
            "18/18 [==============================] - 0s 4ms/step - loss: 0.7776 - accuracy: 0.6655 - val_loss: 0.7287 - val_accuracy: 0.7368\n",
            "Epoch 87/250\n",
            "18/18 [==============================] - 0s 5ms/step - loss: 0.8248 - accuracy: 0.6796 - val_loss: 0.7306 - val_accuracy: 0.7474\n",
            "Epoch 88/250\n",
            "18/18 [==============================] - 0s 4ms/step - loss: 0.8355 - accuracy: 0.6408 - val_loss: 0.7303 - val_accuracy: 0.7368\n",
            "Epoch 89/250\n",
            "18/18 [==============================] - 0s 4ms/step - loss: 0.7138 - accuracy: 0.7113 - val_loss: 0.7275 - val_accuracy: 0.7368\n",
            "Epoch 90/250\n",
            "18/18 [==============================] - 0s 4ms/step - loss: 0.7859 - accuracy: 0.6585 - val_loss: 0.7271 - val_accuracy: 0.7368\n",
            "Epoch 91/250\n",
            "18/18 [==============================] - 0s 5ms/step - loss: 0.6731 - accuracy: 0.7183 - val_loss: 0.7271 - val_accuracy: 0.7263\n",
            "Epoch 92/250\n",
            "18/18 [==============================] - 0s 4ms/step - loss: 0.7612 - accuracy: 0.6901 - val_loss: 0.7275 - val_accuracy: 0.7368\n",
            "Epoch 93/250\n",
            "18/18 [==============================] - 0s 5ms/step - loss: 0.7722 - accuracy: 0.6901 - val_loss: 0.7269 - val_accuracy: 0.7474\n",
            "Epoch 94/250\n",
            "18/18 [==============================] - 0s 4ms/step - loss: 0.7662 - accuracy: 0.6831 - val_loss: 0.7255 - val_accuracy: 0.7368\n",
            "Epoch 95/250\n",
            "18/18 [==============================] - 0s 4ms/step - loss: 0.7096 - accuracy: 0.7113 - val_loss: 0.7290 - val_accuracy: 0.7263\n",
            "Epoch 96/250\n",
            "18/18 [==============================] - 0s 5ms/step - loss: 0.6711 - accuracy: 0.7148 - val_loss: 0.7303 - val_accuracy: 0.7368\n",
            "Epoch 97/250\n",
            "18/18 [==============================] - 0s 5ms/step - loss: 0.8323 - accuracy: 0.6620 - val_loss: 0.7263 - val_accuracy: 0.7263\n",
            "Epoch 98/250\n",
            "18/18 [==============================] - 0s 5ms/step - loss: 0.7081 - accuracy: 0.7113 - val_loss: 0.7269 - val_accuracy: 0.7474\n",
            "Epoch 99/250\n",
            "18/18 [==============================] - 0s 5ms/step - loss: 0.7676 - accuracy: 0.7042 - val_loss: 0.7239 - val_accuracy: 0.7474\n",
            "Epoch 100/250\n",
            "18/18 [==============================] - 0s 4ms/step - loss: 0.7009 - accuracy: 0.7183 - val_loss: 0.7187 - val_accuracy: 0.7368\n",
            "Epoch 101/250\n",
            "18/18 [==============================] - 0s 4ms/step - loss: 0.7364 - accuracy: 0.6901 - val_loss: 0.7182 - val_accuracy: 0.7368\n",
            "Epoch 102/250\n",
            "18/18 [==============================] - 0s 5ms/step - loss: 0.7087 - accuracy: 0.7148 - val_loss: 0.7184 - val_accuracy: 0.7368\n",
            "Epoch 103/250\n",
            "18/18 [==============================] - 0s 4ms/step - loss: 0.7891 - accuracy: 0.6725 - val_loss: 0.7219 - val_accuracy: 0.7474\n",
            "Epoch 104/250\n",
            "18/18 [==============================] - 0s 5ms/step - loss: 0.7371 - accuracy: 0.7465 - val_loss: 0.7173 - val_accuracy: 0.7474\n",
            "Epoch 105/250\n",
            "18/18 [==============================] - 0s 5ms/step - loss: 0.7432 - accuracy: 0.7007 - val_loss: 0.7100 - val_accuracy: 0.7579\n",
            "Epoch 106/250\n",
            "18/18 [==============================] - 0s 5ms/step - loss: 0.7539 - accuracy: 0.7218 - val_loss: 0.7119 - val_accuracy: 0.7579\n",
            "Epoch 107/250\n",
            "18/18 [==============================] - 0s 5ms/step - loss: 0.7215 - accuracy: 0.7007 - val_loss: 0.7128 - val_accuracy: 0.7474\n",
            "Epoch 108/250\n",
            "18/18 [==============================] - 0s 4ms/step - loss: 0.7915 - accuracy: 0.6725 - val_loss: 0.7147 - val_accuracy: 0.7368\n",
            "Epoch 109/250\n",
            "18/18 [==============================] - 0s 5ms/step - loss: 0.7038 - accuracy: 0.7183 - val_loss: 0.7131 - val_accuracy: 0.7368\n",
            "Epoch 110/250\n",
            "18/18 [==============================] - 0s 5ms/step - loss: 0.8378 - accuracy: 0.6655 - val_loss: 0.7118 - val_accuracy: 0.7474\n",
            "Epoch 111/250\n",
            "18/18 [==============================] - 0s 5ms/step - loss: 0.7318 - accuracy: 0.6937 - val_loss: 0.7142 - val_accuracy: 0.7684\n",
            "Epoch 112/250\n",
            "18/18 [==============================] - 0s 5ms/step - loss: 0.7725 - accuracy: 0.7042 - val_loss: 0.7143 - val_accuracy: 0.7684\n",
            "Epoch 113/250\n",
            "18/18 [==============================] - 0s 4ms/step - loss: 0.6793 - accuracy: 0.6866 - val_loss: 0.7098 - val_accuracy: 0.7684\n",
            "Epoch 114/250\n",
            "18/18 [==============================] - 0s 4ms/step - loss: 0.6938 - accuracy: 0.7077 - val_loss: 0.7059 - val_accuracy: 0.7579\n",
            "Epoch 115/250\n",
            "18/18 [==============================] - 0s 5ms/step - loss: 0.6235 - accuracy: 0.7324 - val_loss: 0.7096 - val_accuracy: 0.7579\n",
            "Epoch 116/250\n",
            "18/18 [==============================] - 0s 4ms/step - loss: 0.7521 - accuracy: 0.7077 - val_loss: 0.7059 - val_accuracy: 0.7684\n",
            "Epoch 117/250\n",
            "18/18 [==============================] - 0s 4ms/step - loss: 0.6763 - accuracy: 0.7465 - val_loss: 0.7055 - val_accuracy: 0.7368\n",
            "Epoch 118/250\n",
            "18/18 [==============================] - 0s 4ms/step - loss: 0.7050 - accuracy: 0.7183 - val_loss: 0.7024 - val_accuracy: 0.7368\n",
            "Epoch 119/250\n",
            "18/18 [==============================] - 0s 4ms/step - loss: 0.6987 - accuracy: 0.7394 - val_loss: 0.7016 - val_accuracy: 0.7579\n",
            "Epoch 120/250\n",
            "18/18 [==============================] - 0s 4ms/step - loss: 0.6592 - accuracy: 0.7430 - val_loss: 0.7001 - val_accuracy: 0.7368\n",
            "Epoch 121/250\n",
            "18/18 [==============================] - 0s 5ms/step - loss: 0.6549 - accuracy: 0.7359 - val_loss: 0.7015 - val_accuracy: 0.7474\n",
            "Epoch 122/250\n",
            "18/18 [==============================] - 0s 4ms/step - loss: 0.6417 - accuracy: 0.7570 - val_loss: 0.7015 - val_accuracy: 0.7474\n",
            "Epoch 123/250\n",
            "18/18 [==============================] - 0s 4ms/step - loss: 0.6382 - accuracy: 0.7535 - val_loss: 0.6999 - val_accuracy: 0.7579\n",
            "Epoch 124/250\n",
            "18/18 [==============================] - 0s 4ms/step - loss: 0.7029 - accuracy: 0.7113 - val_loss: 0.7005 - val_accuracy: 0.7474\n",
            "Epoch 125/250\n",
            "18/18 [==============================] - 0s 5ms/step - loss: 0.7676 - accuracy: 0.7218 - val_loss: 0.6931 - val_accuracy: 0.7474\n",
            "Epoch 126/250\n",
            "18/18 [==============================] - 0s 4ms/step - loss: 0.7298 - accuracy: 0.7183 - val_loss: 0.6903 - val_accuracy: 0.7789\n",
            "Epoch 127/250\n",
            "18/18 [==============================] - 0s 4ms/step - loss: 0.7295 - accuracy: 0.7007 - val_loss: 0.7010 - val_accuracy: 0.7263\n",
            "Epoch 128/250\n",
            "18/18 [==============================] - 0s 4ms/step - loss: 0.7753 - accuracy: 0.6831 - val_loss: 0.6952 - val_accuracy: 0.7368\n",
            "Epoch 129/250\n",
            "18/18 [==============================] - 0s 4ms/step - loss: 0.8030 - accuracy: 0.6585 - val_loss: 0.6984 - val_accuracy: 0.7368\n",
            "Epoch 130/250\n",
            "18/18 [==============================] - 0s 5ms/step - loss: 0.7526 - accuracy: 0.6761 - val_loss: 0.7029 - val_accuracy: 0.7474\n",
            "Epoch 131/250\n",
            "18/18 [==============================] - 0s 4ms/step - loss: 0.7339 - accuracy: 0.6901 - val_loss: 0.6974 - val_accuracy: 0.7474\n",
            "Epoch 132/250\n",
            "18/18 [==============================] - 0s 5ms/step - loss: 0.7663 - accuracy: 0.7113 - val_loss: 0.7015 - val_accuracy: 0.7368\n",
            "Epoch 133/250\n",
            "18/18 [==============================] - 0s 4ms/step - loss: 0.6309 - accuracy: 0.7394 - val_loss: 0.7019 - val_accuracy: 0.7579\n",
            "Epoch 134/250\n",
            "18/18 [==============================] - 0s 5ms/step - loss: 0.7026 - accuracy: 0.7394 - val_loss: 0.6915 - val_accuracy: 0.7895\n",
            "Epoch 135/250\n",
            "18/18 [==============================] - 0s 4ms/step - loss: 0.6876 - accuracy: 0.7183 - val_loss: 0.6928 - val_accuracy: 0.7895\n",
            "Epoch 136/250\n",
            "18/18 [==============================] - 0s 4ms/step - loss: 0.7213 - accuracy: 0.7113 - val_loss: 0.6942 - val_accuracy: 0.7895\n",
            "Epoch 137/250\n",
            "18/18 [==============================] - 0s 4ms/step - loss: 0.7015 - accuracy: 0.7218 - val_loss: 0.7029 - val_accuracy: 0.7579\n",
            "Epoch 138/250\n",
            "18/18 [==============================] - 0s 4ms/step - loss: 0.6796 - accuracy: 0.7465 - val_loss: 0.6964 - val_accuracy: 0.7579\n",
            "Epoch 139/250\n",
            "18/18 [==============================] - 0s 5ms/step - loss: 0.7022 - accuracy: 0.7183 - val_loss: 0.6944 - val_accuracy: 0.7474\n",
            "Epoch 140/250\n",
            "18/18 [==============================] - 0s 5ms/step - loss: 0.7349 - accuracy: 0.6972 - val_loss: 0.6910 - val_accuracy: 0.7474\n",
            "Epoch 141/250\n",
            "18/18 [==============================] - 0s 5ms/step - loss: 0.8060 - accuracy: 0.6937 - val_loss: 0.6941 - val_accuracy: 0.7368\n",
            "Epoch 142/250\n",
            "18/18 [==============================] - 0s 5ms/step - loss: 0.7674 - accuracy: 0.6725 - val_loss: 0.6884 - val_accuracy: 0.7474\n",
            "Epoch 143/250\n",
            "18/18 [==============================] - 0s 6ms/step - loss: 0.7106 - accuracy: 0.7359 - val_loss: 0.6828 - val_accuracy: 0.7789\n",
            "Epoch 144/250\n",
            "18/18 [==============================] - 0s 4ms/step - loss: 0.7664 - accuracy: 0.7042 - val_loss: 0.6872 - val_accuracy: 0.7789\n",
            "Epoch 145/250\n",
            "18/18 [==============================] - 0s 6ms/step - loss: 0.7154 - accuracy: 0.7359 - val_loss: 0.6803 - val_accuracy: 0.7789\n",
            "Epoch 146/250\n",
            "18/18 [==============================] - 0s 4ms/step - loss: 0.7231 - accuracy: 0.7535 - val_loss: 0.6778 - val_accuracy: 0.7895\n",
            "Epoch 147/250\n",
            "18/18 [==============================] - 0s 4ms/step - loss: 0.6240 - accuracy: 0.7570 - val_loss: 0.6752 - val_accuracy: 0.7895\n",
            "Epoch 148/250\n",
            "18/18 [==============================] - 0s 5ms/step - loss: 0.7171 - accuracy: 0.7007 - val_loss: 0.6795 - val_accuracy: 0.7579\n",
            "Epoch 149/250\n",
            "18/18 [==============================] - 0s 4ms/step - loss: 0.6856 - accuracy: 0.7324 - val_loss: 0.6831 - val_accuracy: 0.7474\n",
            "Epoch 150/250\n",
            "18/18 [==============================] - 0s 4ms/step - loss: 0.6930 - accuracy: 0.7430 - val_loss: 0.6764 - val_accuracy: 0.7684\n",
            "Epoch 151/250\n",
            "18/18 [==============================] - 0s 4ms/step - loss: 0.7233 - accuracy: 0.7148 - val_loss: 0.6835 - val_accuracy: 0.7474\n",
            "Epoch 152/250\n",
            "18/18 [==============================] - 0s 5ms/step - loss: 0.6934 - accuracy: 0.7183 - val_loss: 0.6775 - val_accuracy: 0.7579\n",
            "Epoch 153/250\n",
            "18/18 [==============================] - 0s 5ms/step - loss: 0.6265 - accuracy: 0.7782 - val_loss: 0.6847 - val_accuracy: 0.7368\n",
            "Epoch 154/250\n",
            "18/18 [==============================] - 0s 5ms/step - loss: 0.7281 - accuracy: 0.7394 - val_loss: 0.6778 - val_accuracy: 0.7368\n",
            "Epoch 155/250\n",
            "18/18 [==============================] - 0s 5ms/step - loss: 0.6685 - accuracy: 0.7148 - val_loss: 0.6753 - val_accuracy: 0.7789\n",
            "Epoch 156/250\n",
            "18/18 [==============================] - 0s 5ms/step - loss: 0.6838 - accuracy: 0.7465 - val_loss: 0.6809 - val_accuracy: 0.7263\n",
            "Epoch 157/250\n",
            "18/18 [==============================] - 0s 4ms/step - loss: 0.6153 - accuracy: 0.7430 - val_loss: 0.6760 - val_accuracy: 0.7579\n",
            "Epoch 158/250\n",
            "18/18 [==============================] - 0s 4ms/step - loss: 0.6638 - accuracy: 0.7430 - val_loss: 0.6794 - val_accuracy: 0.7579\n",
            "Epoch 159/250\n",
            "18/18 [==============================] - 0s 4ms/step - loss: 0.5952 - accuracy: 0.7746 - val_loss: 0.6747 - val_accuracy: 0.7368\n",
            "Epoch 160/250\n",
            "18/18 [==============================] - 0s 4ms/step - loss: 0.6288 - accuracy: 0.7465 - val_loss: 0.6735 - val_accuracy: 0.7684\n",
            "Epoch 161/250\n",
            "18/18 [==============================] - 0s 4ms/step - loss: 0.7144 - accuracy: 0.6972 - val_loss: 0.6759 - val_accuracy: 0.7368\n",
            "Epoch 162/250\n",
            "18/18 [==============================] - 0s 5ms/step - loss: 0.6149 - accuracy: 0.7535 - val_loss: 0.6844 - val_accuracy: 0.7263\n",
            "Epoch 163/250\n",
            "18/18 [==============================] - 0s 4ms/step - loss: 0.6764 - accuracy: 0.7641 - val_loss: 0.6883 - val_accuracy: 0.7474\n",
            "Epoch 164/250\n",
            "18/18 [==============================] - 0s 4ms/step - loss: 0.6538 - accuracy: 0.7254 - val_loss: 0.6849 - val_accuracy: 0.7263\n",
            "Epoch 165/250\n",
            "18/18 [==============================] - 0s 4ms/step - loss: 0.6474 - accuracy: 0.7465 - val_loss: 0.6864 - val_accuracy: 0.7368\n",
            "Epoch 166/250\n",
            "18/18 [==============================] - 0s 4ms/step - loss: 0.6430 - accuracy: 0.7535 - val_loss: 0.6806 - val_accuracy: 0.7579\n",
            "Epoch 167/250\n",
            "18/18 [==============================] - 0s 4ms/step - loss: 0.7238 - accuracy: 0.7183 - val_loss: 0.6807 - val_accuracy: 0.7263\n",
            "Epoch 168/250\n",
            "18/18 [==============================] - 0s 4ms/step - loss: 0.6742 - accuracy: 0.7430 - val_loss: 0.6751 - val_accuracy: 0.7474\n",
            "Epoch 169/250\n",
            "18/18 [==============================] - 0s 4ms/step - loss: 0.6584 - accuracy: 0.7500 - val_loss: 0.6726 - val_accuracy: 0.7789\n",
            "Epoch 170/250\n",
            "18/18 [==============================] - 0s 4ms/step - loss: 0.6434 - accuracy: 0.7887 - val_loss: 0.6829 - val_accuracy: 0.7579\n",
            "Epoch 171/250\n",
            "18/18 [==============================] - 0s 5ms/step - loss: 0.6010 - accuracy: 0.7958 - val_loss: 0.6815 - val_accuracy: 0.7263\n",
            "Epoch 172/250\n",
            "18/18 [==============================] - 0s 5ms/step - loss: 0.6375 - accuracy: 0.7359 - val_loss: 0.6720 - val_accuracy: 0.7579\n",
            "Epoch 173/250\n",
            "18/18 [==============================] - 0s 4ms/step - loss: 0.6764 - accuracy: 0.7500 - val_loss: 0.6686 - val_accuracy: 0.7579\n",
            "Epoch 174/250\n",
            "18/18 [==============================] - 0s 5ms/step - loss: 0.7081 - accuracy: 0.7077 - val_loss: 0.6760 - val_accuracy: 0.7263\n",
            "Epoch 175/250\n",
            "18/18 [==============================] - 0s 4ms/step - loss: 0.6631 - accuracy: 0.7430 - val_loss: 0.6752 - val_accuracy: 0.7368\n",
            "Epoch 176/250\n",
            "18/18 [==============================] - 0s 4ms/step - loss: 0.6242 - accuracy: 0.7465 - val_loss: 0.6652 - val_accuracy: 0.7789\n",
            "Epoch 177/250\n",
            "18/18 [==============================] - 0s 4ms/step - loss: 0.7885 - accuracy: 0.7042 - val_loss: 0.6676 - val_accuracy: 0.7684\n",
            "Epoch 178/250\n",
            "18/18 [==============================] - 0s 4ms/step - loss: 0.6621 - accuracy: 0.7430 - val_loss: 0.6774 - val_accuracy: 0.7579\n",
            "Epoch 179/250\n",
            "18/18 [==============================] - 0s 4ms/step - loss: 0.6898 - accuracy: 0.7254 - val_loss: 0.6820 - val_accuracy: 0.7474\n",
            "Epoch 180/250\n",
            "18/18 [==============================] - 0s 5ms/step - loss: 0.6519 - accuracy: 0.7465 - val_loss: 0.6732 - val_accuracy: 0.7789\n",
            "Epoch 181/250\n",
            "18/18 [==============================] - 0s 5ms/step - loss: 0.6155 - accuracy: 0.7430 - val_loss: 0.6808 - val_accuracy: 0.7474\n",
            "Epoch 182/250\n",
            "18/18 [==============================] - 0s 4ms/step - loss: 0.6921 - accuracy: 0.7324 - val_loss: 0.6793 - val_accuracy: 0.7474\n",
            "Epoch 183/250\n",
            "18/18 [==============================] - 0s 5ms/step - loss: 0.7008 - accuracy: 0.6866 - val_loss: 0.6955 - val_accuracy: 0.7368\n",
            "Epoch 184/250\n",
            "18/18 [==============================] - 0s 4ms/step - loss: 0.6134 - accuracy: 0.7782 - val_loss: 0.6738 - val_accuracy: 0.7579\n",
            "Epoch 185/250\n",
            "18/18 [==============================] - 0s 4ms/step - loss: 0.6806 - accuracy: 0.7183 - val_loss: 0.6667 - val_accuracy: 0.7895\n",
            "Epoch 186/250\n",
            "18/18 [==============================] - 0s 5ms/step - loss: 0.6443 - accuracy: 0.7676 - val_loss: 0.6644 - val_accuracy: 0.7895\n",
            "Epoch 187/250\n",
            "18/18 [==============================] - 0s 4ms/step - loss: 0.7634 - accuracy: 0.6937 - val_loss: 0.6697 - val_accuracy: 0.7684\n",
            "Epoch 188/250\n",
            "18/18 [==============================] - 0s 5ms/step - loss: 0.7453 - accuracy: 0.7359 - val_loss: 0.6677 - val_accuracy: 0.7579\n",
            "Epoch 189/250\n",
            "18/18 [==============================] - 0s 5ms/step - loss: 0.6567 - accuracy: 0.7430 - val_loss: 0.6678 - val_accuracy: 0.7579\n",
            "Epoch 190/250\n",
            "18/18 [==============================] - 0s 5ms/step - loss: 0.6732 - accuracy: 0.7359 - val_loss: 0.6710 - val_accuracy: 0.7474\n",
            "Epoch 191/250\n",
            "18/18 [==============================] - 0s 5ms/step - loss: 0.7333 - accuracy: 0.7148 - val_loss: 0.6691 - val_accuracy: 0.7579\n",
            "Epoch 192/250\n",
            "18/18 [==============================] - 0s 5ms/step - loss: 0.6618 - accuracy: 0.7711 - val_loss: 0.6723 - val_accuracy: 0.7474\n",
            "Epoch 193/250\n",
            "18/18 [==============================] - 0s 5ms/step - loss: 0.6940 - accuracy: 0.7077 - val_loss: 0.6647 - val_accuracy: 0.7684\n",
            "Epoch 194/250\n",
            "18/18 [==============================] - 0s 4ms/step - loss: 0.7372 - accuracy: 0.7183 - val_loss: 0.6688 - val_accuracy: 0.7579\n",
            "Epoch 195/250\n",
            "18/18 [==============================] - 0s 5ms/step - loss: 0.6830 - accuracy: 0.7394 - val_loss: 0.6669 - val_accuracy: 0.7579\n",
            "Epoch 196/250\n",
            "18/18 [==============================] - 0s 4ms/step - loss: 0.6244 - accuracy: 0.7782 - val_loss: 0.6581 - val_accuracy: 0.7789\n",
            "Epoch 197/250\n",
            "18/18 [==============================] - 0s 4ms/step - loss: 0.6617 - accuracy: 0.7465 - val_loss: 0.6596 - val_accuracy: 0.7684\n",
            "Epoch 198/250\n",
            "18/18 [==============================] - 0s 5ms/step - loss: 0.6846 - accuracy: 0.7359 - val_loss: 0.6740 - val_accuracy: 0.7579\n",
            "Epoch 199/250\n",
            "18/18 [==============================] - 0s 4ms/step - loss: 0.6856 - accuracy: 0.7641 - val_loss: 0.6701 - val_accuracy: 0.7789\n",
            "Epoch 200/250\n",
            "18/18 [==============================] - 0s 5ms/step - loss: 0.7291 - accuracy: 0.7148 - val_loss: 0.6605 - val_accuracy: 0.7789\n",
            "Epoch 201/250\n",
            "18/18 [==============================] - 0s 4ms/step - loss: 0.6687 - accuracy: 0.7535 - val_loss: 0.6635 - val_accuracy: 0.7579\n",
            "Epoch 202/250\n",
            "18/18 [==============================] - 0s 5ms/step - loss: 0.5953 - accuracy: 0.7535 - val_loss: 0.6526 - val_accuracy: 0.7684\n",
            "Epoch 203/250\n",
            "18/18 [==============================] - 0s 5ms/step - loss: 0.6268 - accuracy: 0.7535 - val_loss: 0.6482 - val_accuracy: 0.7789\n",
            "Epoch 204/250\n",
            "18/18 [==============================] - 0s 4ms/step - loss: 0.6543 - accuracy: 0.7007 - val_loss: 0.6466 - val_accuracy: 0.7684\n",
            "Epoch 205/250\n",
            "18/18 [==============================] - 0s 5ms/step - loss: 0.6714 - accuracy: 0.7430 - val_loss: 0.6445 - val_accuracy: 0.7684\n",
            "Epoch 206/250\n",
            "18/18 [==============================] - 0s 6ms/step - loss: 0.6219 - accuracy: 0.7676 - val_loss: 0.6455 - val_accuracy: 0.7579\n",
            "Epoch 207/250\n",
            "18/18 [==============================] - 0s 4ms/step - loss: 0.6453 - accuracy: 0.7359 - val_loss: 0.6528 - val_accuracy: 0.7474\n",
            "Epoch 208/250\n",
            "18/18 [==============================] - 0s 5ms/step - loss: 0.5376 - accuracy: 0.7711 - val_loss: 0.6424 - val_accuracy: 0.7684\n",
            "Epoch 209/250\n",
            "18/18 [==============================] - 0s 4ms/step - loss: 0.6339 - accuracy: 0.7606 - val_loss: 0.6501 - val_accuracy: 0.7579\n",
            "Epoch 210/250\n",
            "18/18 [==============================] - 0s 4ms/step - loss: 0.5900 - accuracy: 0.7324 - val_loss: 0.6541 - val_accuracy: 0.7684\n",
            "Epoch 211/250\n",
            "18/18 [==============================] - 0s 4ms/step - loss: 0.6234 - accuracy: 0.7641 - val_loss: 0.6616 - val_accuracy: 0.7579\n",
            "Epoch 212/250\n",
            "18/18 [==============================] - 0s 4ms/step - loss: 0.6034 - accuracy: 0.7746 - val_loss: 0.6743 - val_accuracy: 0.7368\n",
            "Epoch 213/250\n",
            "18/18 [==============================] - 0s 4ms/step - loss: 0.6116 - accuracy: 0.7606 - val_loss: 0.6715 - val_accuracy: 0.7474\n",
            "Epoch 214/250\n",
            "18/18 [==============================] - 0s 4ms/step - loss: 0.6140 - accuracy: 0.7817 - val_loss: 0.6687 - val_accuracy: 0.7368\n",
            "Epoch 215/250\n",
            "18/18 [==============================] - 0s 4ms/step - loss: 0.5381 - accuracy: 0.7958 - val_loss: 0.6535 - val_accuracy: 0.7789\n",
            "Epoch 216/250\n",
            "18/18 [==============================] - 0s 5ms/step - loss: 0.7372 - accuracy: 0.7254 - val_loss: 0.6429 - val_accuracy: 0.7895\n",
            "Epoch 217/250\n",
            "18/18 [==============================] - 0s 5ms/step - loss: 0.6515 - accuracy: 0.7465 - val_loss: 0.6534 - val_accuracy: 0.7579\n",
            "Epoch 218/250\n",
            "18/18 [==============================] - 0s 4ms/step - loss: 0.7315 - accuracy: 0.7218 - val_loss: 0.6551 - val_accuracy: 0.7684\n",
            "Epoch 219/250\n",
            "18/18 [==============================] - 0s 4ms/step - loss: 0.6716 - accuracy: 0.7887 - val_loss: 0.6536 - val_accuracy: 0.7684\n",
            "Epoch 220/250\n",
            "18/18 [==============================] - 0s 4ms/step - loss: 0.6610 - accuracy: 0.7289 - val_loss: 0.6573 - val_accuracy: 0.7895\n",
            "Epoch 221/250\n",
            "18/18 [==============================] - 0s 5ms/step - loss: 0.7103 - accuracy: 0.7359 - val_loss: 0.6611 - val_accuracy: 0.7789\n",
            "Epoch 222/250\n",
            "18/18 [==============================] - 0s 5ms/step - loss: 0.6845 - accuracy: 0.7324 - val_loss: 0.6517 - val_accuracy: 0.7895\n",
            "Epoch 223/250\n",
            "18/18 [==============================] - 0s 4ms/step - loss: 0.6283 - accuracy: 0.7782 - val_loss: 0.6525 - val_accuracy: 0.7895\n",
            "Epoch 224/250\n",
            "18/18 [==============================] - 0s 5ms/step - loss: 0.7040 - accuracy: 0.7254 - val_loss: 0.6489 - val_accuracy: 0.7895\n",
            "Epoch 225/250\n",
            "18/18 [==============================] - 0s 5ms/step - loss: 0.7156 - accuracy: 0.7148 - val_loss: 0.6516 - val_accuracy: 0.7579\n",
            "Epoch 226/250\n",
            "18/18 [==============================] - 0s 4ms/step - loss: 0.7016 - accuracy: 0.7359 - val_loss: 0.6685 - val_accuracy: 0.7579\n",
            "Epoch 227/250\n",
            "18/18 [==============================] - 0s 5ms/step - loss: 0.5776 - accuracy: 0.7641 - val_loss: 0.6669 - val_accuracy: 0.7474\n",
            "Epoch 228/250\n",
            "18/18 [==============================] - 0s 5ms/step - loss: 0.7093 - accuracy: 0.7394 - val_loss: 0.6740 - val_accuracy: 0.7368\n",
            "Epoch 229/250\n",
            "18/18 [==============================] - 0s 4ms/step - loss: 0.6693 - accuracy: 0.7218 - val_loss: 0.6600 - val_accuracy: 0.7474\n",
            "Epoch 230/250\n",
            "18/18 [==============================] - 0s 4ms/step - loss: 0.6159 - accuracy: 0.7782 - val_loss: 0.6549 - val_accuracy: 0.7684\n",
            "Epoch 231/250\n",
            "18/18 [==============================] - 0s 5ms/step - loss: 0.6494 - accuracy: 0.7148 - val_loss: 0.6667 - val_accuracy: 0.7579\n",
            "Epoch 232/250\n",
            "18/18 [==============================] - 0s 5ms/step - loss: 0.6129 - accuracy: 0.7711 - val_loss: 0.6675 - val_accuracy: 0.7579\n",
            "Epoch 233/250\n",
            "18/18 [==============================] - 0s 4ms/step - loss: 0.5823 - accuracy: 0.7676 - val_loss: 0.6581 - val_accuracy: 0.7684\n",
            "Epoch 234/250\n",
            "18/18 [==============================] - 0s 5ms/step - loss: 0.6015 - accuracy: 0.8028 - val_loss: 0.6512 - val_accuracy: 0.7789\n",
            "Epoch 235/250\n",
            "18/18 [==============================] - 0s 5ms/step - loss: 0.6047 - accuracy: 0.7359 - val_loss: 0.6516 - val_accuracy: 0.7789\n",
            "Epoch 236/250\n",
            "18/18 [==============================] - 0s 5ms/step - loss: 0.6536 - accuracy: 0.7500 - val_loss: 0.6480 - val_accuracy: 0.7579\n",
            "Epoch 237/250\n",
            "18/18 [==============================] - 0s 5ms/step - loss: 0.7660 - accuracy: 0.7113 - val_loss: 0.6479 - val_accuracy: 0.7579\n",
            "Epoch 238/250\n",
            "18/18 [==============================] - 0s 4ms/step - loss: 0.6670 - accuracy: 0.7711 - val_loss: 0.6393 - val_accuracy: 0.7579\n",
            "Epoch 239/250\n",
            "18/18 [==============================] - 0s 5ms/step - loss: 0.6372 - accuracy: 0.7570 - val_loss: 0.6399 - val_accuracy: 0.7579\n",
            "Epoch 240/250\n",
            "18/18 [==============================] - 0s 4ms/step - loss: 0.6755 - accuracy: 0.7394 - val_loss: 0.6472 - val_accuracy: 0.7579\n",
            "Epoch 241/250\n",
            "18/18 [==============================] - 0s 5ms/step - loss: 0.6202 - accuracy: 0.7746 - val_loss: 0.6544 - val_accuracy: 0.7579\n",
            "Epoch 242/250\n",
            "18/18 [==============================] - 0s 5ms/step - loss: 0.6799 - accuracy: 0.7394 - val_loss: 0.6569 - val_accuracy: 0.7474\n",
            "Epoch 243/250\n",
            "18/18 [==============================] - 0s 4ms/step - loss: 0.7206 - accuracy: 0.7359 - val_loss: 0.6468 - val_accuracy: 0.7684\n",
            "Epoch 244/250\n",
            "18/18 [==============================] - 0s 4ms/step - loss: 0.6452 - accuracy: 0.7606 - val_loss: 0.6426 - val_accuracy: 0.7684\n",
            "Epoch 245/250\n",
            "18/18 [==============================] - 0s 4ms/step - loss: 0.7100 - accuracy: 0.7394 - val_loss: 0.6397 - val_accuracy: 0.7789\n",
            "Epoch 246/250\n",
            "18/18 [==============================] - 0s 4ms/step - loss: 0.7460 - accuracy: 0.7254 - val_loss: 0.6451 - val_accuracy: 0.7579\n",
            "Epoch 247/250\n",
            "18/18 [==============================] - 0s 5ms/step - loss: 0.5921 - accuracy: 0.7500 - val_loss: 0.6519 - val_accuracy: 0.7474\n",
            "Epoch 248/250\n",
            "18/18 [==============================] - 0s 5ms/step - loss: 0.6781 - accuracy: 0.7324 - val_loss: 0.6434 - val_accuracy: 0.7789\n",
            "Epoch 249/250\n",
            "18/18 [==============================] - 0s 4ms/step - loss: 0.6634 - accuracy: 0.7324 - val_loss: 0.6586 - val_accuracy: 0.7579\n",
            "Epoch 250/250\n",
            "18/18 [==============================] - 0s 4ms/step - loss: 0.6730 - accuracy: 0.7289 - val_loss: 0.6609 - val_accuracy: 0.7579\n"
          ]
        },
        {
          "output_type": "execute_result",
          "data": {
            "text/plain": [
              "<keras.callbacks.History at 0x7fd93984b590>"
            ]
          },
          "metadata": {},
          "execution_count": 350
        }
      ]
    },
    {
      "cell_type": "code",
      "source": [
        ""
      ],
      "metadata": {
        "id": "-7TCdTFuM8Xu"
      },
      "execution_count": null,
      "outputs": []
    },
    {
      "cell_type": "markdown",
      "source": [
        "##Conclusion"
      ],
      "metadata": {
        "id": "gLLj0Tg41R1X"
      }
    },
    {
      "cell_type": "markdown",
      "source": [
        "Based on above f1 score logistic regression comes at top with 0.7614 f1 score followed by ANN then SVM comes."
      ],
      "metadata": {
        "id": "abqLr7011VV7"
      }
    }
  ]
}